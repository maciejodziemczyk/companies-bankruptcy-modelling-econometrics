{
 "cells": [
  {
   "cell_type": "markdown",
   "metadata": {},
   "source": [
    "## <center>Jak skuteczne jest sprawozdanie finansowe w przewidywaniu bankructwa firmy?<center/>\n",
    "<center>Projekt zaliczeniowy ze Zaawansowanej Ekonometrii I <br/>\n",
    "Autor: Maciej Odziemczyk (388581)<br/>\n",
    "Wydział Nauk Ekonomicznych UW<br/>\n",
    "maj 2020. <center/>"
   ]
  },
  {
   "cell_type": "code",
   "execution_count": 1,
   "metadata": {},
   "outputs": [],
   "source": [
    "# import bibliotek\n",
    "from scipy.io import arff # tylko do odczytu danych w formacie .arff\n",
    "import pandas as pd\n",
    "import numpy as np\n",
    "import matplotlib.pyplot as plt"
   ]
  },
  {
   "cell_type": "code",
   "execution_count": 2,
   "metadata": {},
   "outputs": [],
   "source": [
    "# zmiana ustawień wyświetlania dataframe\n",
    "pd.set_option(\"display.max_columns\", 30)\n",
    "pd.set_option(\"display.max_rows\", 50)"
   ]
  },
  {
   "cell_type": "code",
   "execution_count": 3,
   "metadata": {},
   "outputs": [],
   "source": [
    "# improt danych\n",
    "data = arff.loadarff(\"dane\\\\5year.arff\")\n",
    "data = pd.DataFrame(data[0])"
   ]
  },
  {
   "cell_type": "code",
   "execution_count": 4,
   "metadata": {},
   "outputs": [],
   "source": [
    "# wybór zmiennych\n",
    "zmienne = ['Attr1', 'Attr2', 'Attr3', 'Attr4', 'Attr6', 'Attr7',\n",
    "          'Attr8', 'Attr9', 'Attr19', 'Attr20', 'Attr21', 'Attr29', \n",
    "           'Attr42', 'Attr44', 'Attr48', 'Attr56', 'Attr62', \n",
    "          'class']\n",
    "\n",
    "df = data.copy()\n",
    "df = df[zmienne]"
   ]
  },
  {
   "cell_type": "code",
   "execution_count": 5,
   "metadata": {},
   "outputs": [],
   "source": [
    "# dekodowanie zmiennej zależnej\n",
    "df.rename({'class':'bankrut'}, axis = 1, inplace = True)\n",
    "df['bankrut'].replace(b'1', 1, True)\n",
    "df['bankrut'].replace(b'0', 0, inplace=True)"
   ]
  },
  {
   "cell_type": "code",
   "execution_count": 6,
   "metadata": {},
   "outputs": [
    {
     "name": "stdout",
     "output_type": "stream",
     "text": [
      "<class 'pandas.core.frame.DataFrame'>\n",
      "RangeIndex: 5910 entries, 0 to 5909\n",
      "Data columns (total 18 columns):\n",
      "Attr1      5907 non-null float64\n",
      "Attr2      5907 non-null float64\n",
      "Attr3      5907 non-null float64\n",
      "Attr4      5889 non-null float64\n",
      "Attr6      5907 non-null float64\n",
      "Attr7      5907 non-null float64\n",
      "Attr8      5892 non-null float64\n",
      "Attr9      5909 non-null float64\n",
      "Attr19     5910 non-null float64\n",
      "Attr20     5910 non-null float64\n",
      "Attr21     5807 non-null float64\n",
      "Attr29     5907 non-null float64\n",
      "Attr42     5910 non-null float64\n",
      "Attr44     5910 non-null float64\n",
      "Attr48     5907 non-null float64\n",
      "Attr56     5910 non-null float64\n",
      "Attr62     5910 non-null float64\n",
      "bankrut    5910 non-null int64\n",
      "dtypes: float64(17), int64(1)\n",
      "memory usage: 831.2 KB\n"
     ]
    }
   ],
   "source": [
    "# missing values\n",
    "df.info()\n",
    "# widać, że przyrosty sprzedaży to zmienna z największymi brakami (Attr21)"
   ]
  },
  {
   "cell_type": "markdown",
   "metadata": {},
   "source": [
    "#### Scenariusze usuwania brakujących wartości"
   ]
  },
  {
   "cell_type": "code",
   "execution_count": 7,
   "metadata": {},
   "outputs": [
    {
     "name": "stdout",
     "output_type": "stream",
     "text": [
      "utracone obserwacje po wyrzuceniu Attr21 (cała kolumna) i NaNów (wiersze): 22\n",
      "bankruci: 6.9% liczebność: 406\n",
      "nie bankruci: 93.1% liczebność: 5482\n"
     ]
    }
   ],
   "source": [
    "bez21 = df.drop(labels = 'Attr21', axis = 1)\n",
    "print('utracone obserwacje po wyrzuceniu Attr21 (cała kolumna) i NaNów (wiersze):', \n",
    "      bez21.shape[0] - bez21.dropna().shape[0])\n",
    "print('bankruci: {}% liczebność: {}\\nnie bankruci: {}% liczebność: {}'.format(\n",
    "    round(sum(bez21.dropna()['bankrut'] == 1)/bez21.dropna().shape[0]*100, 2),\n",
    "    sum(bez21.dropna()['bankrut'] == 1),\n",
    "    round(sum(bez21.dropna()['bankrut'] == 0)/bez21.dropna().shape[0]*100, 2),\n",
    "    sum(bez21.dropna()['bankrut'] == 0)))"
   ]
  },
  {
   "cell_type": "code",
   "execution_count": 8,
   "metadata": {},
   "outputs": [
    {
     "name": "stdout",
     "output_type": "stream",
     "text": [
      "utracone obserwacje po wyrzuceniu NaNów: 123\n",
      "bankruci: 5.34% liczebność: 309\n",
      "nie bankruci: 94.66% liczebność: 5478\n"
     ]
    }
   ],
   "source": [
    "print('utracone obserwacje po wyrzuceniu NaNów:', \n",
    "      df.shape[0] - df.dropna().shape[0])\n",
    "print('bankruci: {}% liczebność: {}\\nnie bankruci: {}% liczebność: {}'.format(\n",
    "    round(sum(df.dropna()['bankrut'] == 1)/df.dropna().shape[0]*100, 2),\n",
    "    sum(df.dropna()['bankrut'] == 1),\n",
    "    round(sum(df.dropna()['bankrut'] == 0)/df.dropna().shape[0]*100, 2),\n",
    "    sum(df.dropna()['bankrut'] == 0)))"
   ]
  },
  {
   "cell_type": "code",
   "execution_count": 9,
   "metadata": {},
   "outputs": [
    {
     "name": "stdout",
     "output_type": "stream",
     "text": [
      "Wszystkie obserwacje\n",
      "bankruci: 6.94% liczebność: 410\n",
      "nie bankruci: 93.06% liczebność: 5500\n"
     ]
    }
   ],
   "source": [
    "print('Wszystkie obserwacje')\n",
    "print('bankruci: {}% liczebność: {}\\nnie bankruci: {}% liczebność: {}'.format(\n",
    "    round(sum(df['bankrut'] == 1)/df.shape[0]*100, 2),\n",
    "    sum(df['bankrut'] == 1),\n",
    "    round(sum(df['bankrut'] == 0)/df.shape[0]*100, 2),\n",
    "    sum(df['bankrut'] == 0)))"
   ]
  },
  {
   "cell_type": "markdown",
   "metadata": {},
   "source": [
    "Usunięcie wszystkich obserwacji zawierających brak danych skutkuje znacznym zmniejszeniem populacji bankrutów (o 1/3). Usunięcie całego atrybu Attr21 skutkuje dużą utratą informacji, bowiem większość obserwacji zawierających brak danych w Attr21 to bankruci, zatem może się to okazać istotne kryterium rozdzielające bankrutów od nie bankrutów. <br/>Do problemu można podejść w sposób zaprezentowany przez Zmijewskiego (1984), mianowicie uznać brak danych za informację. Jeżeli spółka ma problemy, może chcieć zataić niektóre fakty. Aby wykorzystać informację o braku danych należy ze zmiennej Attr21 (przyrost sprzedaży) zrobić zmienną kategoryzującą, 0 jeżeli spółka zanotowała przyrost sprzedaży lub utrzymała ją na tym samym poziomie, 1 jeżeli zanotowała spadek, 2 jeżeli brak danych.<br/>\n",
    "Aby sprawdzić jedak sens takiego rozwiązania należy zweryfikować, czy brak informacji nie jest równoznaczny z bankructwem, w takim przypadku zmienna nie wnosi nic do modelu."
   ]
  },
  {
   "cell_type": "code",
   "execution_count": 10,
   "metadata": {},
   "outputs": [
    {
     "data": {
      "image/png": "[encoded data removed]",
      "text/plain": [
       "<Figure size 1440x360 with 3 Axes>"
      ]
     },
     "metadata": {
      "needs_background": "light"
     },
     "output_type": "display_data"
    }
   ],
   "source": [
    "from seaborn import countplot\n",
    "\n",
    "f, ax = plt.subplots(nrows = 1, ncols = 3, figsize = (20, 5))\n",
    "countplot(df.bankrut.loc[list(df.query('Attr21 != Attr21').index)], ax = ax[0])\n",
    "countplot(df.bankrut.loc[list(df.query('Attr21 < 1').index)], ax = ax[1])\n",
    "countplot(df.bankrut.loc[list(df.query('Attr21 != Attr21 | Attr21 < 1').index)], ax = ax[2])\n",
    "\n",
    "ax[0].set_title('Rozkład nie bankrutów [0], liczebność: {}\\n bankrutów [1], liczebność: {}\\ndla Attr21 == NaN'.format(\n",
    "df.bankrut.loc[list(df.query('Attr21 != Attr21').index)].value_counts()[0],\n",
    "df.bankrut.loc[list(df.query('Attr21 != Attr21').index)].value_counts()[1]))\n",
    "\n",
    "ax[1].set_title('Rozkład nie bankrutów [0], liczebność: {}\\n bankrutów [1], liczebność: {}\\ndla Attr21 < 1'.format(\n",
    "df.bankrut.loc[list(df.query('Attr21 < 1').index)].value_counts()[0],\n",
    "df.bankrut.loc[list(df.query('Attr21 < 1').index)].value_counts()[1]))\n",
    "\n",
    "ax[2].set_title('Rozkład nie bankrutów [0], liczebność: {}\\n bankrutów [1], liczebność: {}\\ndla Attr21 == NaN i Attr21 < 1'.format(\n",
    "df.bankrut.loc[list(df.query('Attr21 != Attr21 | Attr21 < 1').index)].value_counts()[0],\n",
    "df.bankrut.loc[list(df.query('Attr21 != Attr21 | Attr21 < 1').index)].value_counts()[1]))\n",
    "\n",
    "plt.show()"
   ]
  },
  {
   "cell_type": "markdown",
   "metadata": {},
   "source": [
    "Z powyższych wykresów można wywnioskować, że najlepszym podejściem jest scalenie warunków, bowiem dość spora liczba bankrutów charakteryzuje się spadkiem sprzedaży lub brakiem danych na ten temat, przy jednoczesnym dużym udziale nie bankrutów. Taka też funkcja zostanie zaimplementowana na zbiorze."
   ]
  },
  {
   "cell_type": "markdown",
   "metadata": {},
   "source": [
    "##### dekodowanie Attr21 i usunięcie obserwacji z brakiem danych"
   ]
  },
  {
   "cell_type": "code",
   "execution_count": 11,
   "metadata": {},
   "outputs": [],
   "source": [
    "df['Attr21'] = df['Attr21'].apply(lambda x: 0 if x >= 1 else 1)"
   ]
  },
  {
   "cell_type": "markdown",
   "metadata": {},
   "source": [
    "Sprawdzenie ile zostanie obserwacji po usunięciu NaNów (sprawdzenie czy funkcja dobrze zadziałała)"
   ]
  },
  {
   "cell_type": "code",
   "execution_count": 12,
   "metadata": {},
   "outputs": [
    {
     "name": "stdout",
     "output_type": "stream",
     "text": [
      "utracone obserwacje po wyrzuceniu NaNów (po dekodowaniu Attr21): 22\n",
      "bankruci: 6.9% liczebność: 406\n",
      "nie bankruci: 93.1% liczebność: 5482\n"
     ]
    }
   ],
   "source": [
    "print('utracone obserwacje po wyrzuceniu NaNów (po dekodowaniu Attr21):', \n",
    "      df.shape[0] - df.dropna().shape[0])\n",
    "print('bankruci: {}% liczebność: {}\\nnie bankruci: {}% liczebność: {}'.format(\n",
    "    round(sum(df.dropna()['bankrut'] == 1)/df.dropna().shape[0]*100, 2),\n",
    "    sum(df.dropna()['bankrut'] == 1),\n",
    "    round(sum(df.dropna()['bankrut'] == 0)/df.dropna().shape[0]*100, 2),\n",
    "    sum(df.dropna()['bankrut'] == 0)))"
   ]
  },
  {
   "cell_type": "markdown",
   "metadata": {},
   "source": [
    "Proporcja bankrutów do nie bankrutów w \"okrojonej\" populacji jest zbliżona do proporcji bez usuwania obserwacji z brakiem danych. <br/>Można zatem przyjąć takie rozwiązanie."
   ]
  },
  {
   "cell_type": "code",
   "execution_count": 13,
   "metadata": {},
   "outputs": [],
   "source": [
    "# usuwanie obserwacji z brakami w danych\n",
    "df.dropna(inplace = True)"
   ]
  },
  {
   "cell_type": "markdown",
   "metadata": {},
   "source": [
    "#### Tworzenie zmiennych, których nie ma aktualnie w bazie, a są potrzebne do estymacji modelu ogólnego<br/>\n",
    "uwaga dot. specyfiki Pythona: opeartory binarne działają \"element-wise\", można używać operatorów binarnych, bo nie ma już obserwacji z brakami danych, w przeciwnym wypadku niezbędne byłoby wykorzystanie specjalnych funkcji."
   ]
  },
  {
   "cell_type": "code",
   "execution_count": 14,
   "metadata": {},
   "outputs": [],
   "source": [
    "# dźwignia finansowa\n",
    "df['Attr63'] = (df['Attr42'])*df['Attr19']**(-1)\n",
    "# usuwanie zmiennych wykorzystanych do obliczenia dźwigni finansowej (nie będą używane w dalszej analizie)\n",
    "df.drop(labels = ['Attr42', 'Attr19'], axis = 1, inplace = True)\n",
    "# z-score\n",
    "df['Attr64'] = df['Attr3']*0.012+df['Attr6']*0.014+df['Attr7']*0.033+df['Attr8']*0.006+df['Attr9']*0.999\n",
    "# zmienna binarna 1 jak zobowiązania > aktywa, 0 w p.p.\n",
    "df['Attr65'] = df['Attr2'].apply(lambda x: 1 if x > 1 else 0)"
   ]
  },
  {
   "cell_type": "markdown",
   "metadata": {},
   "source": [
    "tworzenie zmiennej binarnej, 1 jeżeli spółka wyplaca dywidendy, 0 w p.p. <br/>\n",
    "Zmienna miała powstać poprzez odjęcie zysków zatrzymanych/aktywa od zysku netto/aktywa. Jeżeli spółka nie wypłaca dywidendy, różnica powinna wynosić 0."
   ]
  },
  {
   "cell_type": "code",
   "execution_count": 15,
   "metadata": {},
   "outputs": [
    {
     "data": {
      "text/plain": [
       "True"
      ]
     },
     "execution_count": 15,
     "metadata": {},
     "output_type": "execute_result"
    }
   ],
   "source": [
    "# indeksy obserwacji, w których (zysk netto)/aktywa = (zyski zatrzymane)/aktywa\n",
    "indeksy = pd.Series(df['Attr1'].index[df['Attr1'] == df['Attr6']])\n",
    "\n",
    "# utworzenie serii składającej się z wyniku różnicy (zysk netto)/aktywa i (zyski zatrzymane)/aktywa\n",
    "a = (df['Attr1']-df['Attr6']).apply(lambda x: 0 if x == 0 else 1)\n",
    "\n",
    "# indeksy obserwacji, w których dywidenda nie była wypłacona (w celu sprawdzenia)\n",
    "indeksy1 = pd.Series(a.index[a == 0])\n",
    "\n",
    "# sprawdzenie czy to te same obserwacje\n",
    "indeksy.equals(indeksy1)"
   ]
  },
  {
   "cell_type": "code",
   "execution_count": 16,
   "metadata": {},
   "outputs": [
    {
     "name": "stdout",
     "output_type": "stream",
     "text": [
      "5781 spółek wypłaciło dywidendy, 107 spółek nie wypłaciło dywidend\n",
      "niewypłacający dywidend:\n",
      " - bankruci: 99\n",
      " - nie bankruci: 8\n"
     ]
    }
   ],
   "source": [
    "# sprawdenie proporcji \"1\" i \"0\" dla nie wypłacających dywidend\n",
    "print('{} spółek wypłaciło dywidendy, {} spółek nie wypłaciło dywidend\\\n",
    "\\nniewypłacający dywidend:\\n - bankruci: {}\\n - nie bankruci: {}'.format(\n",
    "    a.value_counts()[1], a.value_counts()[0],\n",
    "    df['bankrut'].loc[indeksy].value_counts()[1], df['bankrut'].loc[indeksy].value_counts()[0]))"
   ]
  },
  {
   "cell_type": "markdown",
   "metadata": {},
   "source": [
    "Z powyższej analizy wynika, że tylko 107 spółek nie wypłacałoby dywidendy, co jest dość nieprawdopodobne, ponadto tylko 8 z tych spółek okazało się nie bankrutami. Taka struktura sugeruje, że ujęty w bazie danych zysk zatrzymany może zawierać w sobie zysk zatrzymany z lat ubiegłych powiększony o zysk zatrzymany z roku obrotowego, z którego jest analizowane sprawozdanie, albo jeszcze jakieś inne pozycje. Nie można zatem wykorzystać takiej interakcji w sposób, w jaki było to pierwotnie zaplanowane. Pomysł o utworzeniu zmiennej, mówiącej o tym czy spółka wypłaciła dywidendę zostaje zatem porzucony."
   ]
  },
  {
   "cell_type": "markdown",
   "metadata": {},
   "source": [
    "#### Dobór próby"
   ]
  },
  {
   "cell_type": "markdown",
   "metadata": {},
   "source": [
    "Zmijewski (1984) zwrócił uwagę na niedotrzymanie założeń procedur estymacji. Głównym zarzutem było szacowanie parametrów na próbach nielosowych, czym niewątpliwie są próby wybierane na podstawie \"dobierania w pary\" (Altman 1968, Jinlan Ni i in. 2014) lub badania prowadzone na całej populacji (Evangelos C. Charalambakis, Ian Garrett 2018). Jednocześnie wskazał na konieczność zachowania proporcji \"1\" i \"0\" w próbie takich jak w populacji, zatem według Niego nie powinno się sztucznie bilansować próby. W celu sprawdzenia wartości predykcyjnej modelu, populacja zostanie losowo podzielona na próbę treningową i testową w proporcji 80/20. Wcześniejsze potasowanie bazy, pozwoli zachować założenie o losowości próby (w szczególności treningowej). "
   ]
  },
  {
   "cell_type": "code",
   "execution_count": 17,
   "metadata": {},
   "outputs": [],
   "source": [
    "# mapowanie prawidłowych nazw wskaźników (kolumn)\n",
    "mapper = {\"Attr1\":\"ROA\", \"Attr2\":\"Zobowiazania_Aktywa\", \"Attr3\":\"KO_Aktywa\",\n",
    "         \"Attr4\":\"CurrentRatio\", \"Attr6\":\"Zzatrzymane_Aktywa\",\n",
    "         \"Attr7\":\"EBIT_Aktywa\", \"Attr8\":\"WartRynk_WartKsDlugu\",\n",
    "         \"Attr9\":\"Sprzedaz_Aktywa\",\"Attr20\":\"RotacjaZapasow\", \n",
    "          \"Attr29\":\"Rozmiar\", \"Attr44\":\"RotacjaNaleznosci\", \n",
    "          \"Attr48\":\"EBITDA_Aktywa\", \"Attr56\":\"MarzaZyskuBrutto\", \n",
    "          \"Attr62\":\"RotacjaZobowiazan\", \"Attr63\":\"DzwigniaFinansowa\", \n",
    "          \"Attr64\":\"Zscore\", \n",
    "          \"Attr21\":\"PrzyrostSprzedazySpadek_BrakDanych\", \n",
    "          \"Attr65\":\"wyplacalnosc\"}\n",
    "df.rename(mapper = mapper, axis = 'columns', inplace = True)"
   ]
  },
  {
   "cell_type": "code",
   "execution_count": 18,
   "metadata": {},
   "outputs": [],
   "source": [
    "# tasowanie \n",
    "df = df.sample(frac = 1, random_state = 2020)"
   ]
  },
  {
   "cell_type": "code",
   "execution_count": 19,
   "metadata": {},
   "outputs": [],
   "source": [
    "# podpróbka służąca do testowania predykcji\n",
    "test = df.iloc[:int(df.shape[0]*0.2), :]\n",
    "\n",
    "# podpróbka służąca do oszacowania modelu\n",
    "train = df.iloc[int(df.shape[0]*0.2):, :]"
   ]
  },
  {
   "cell_type": "markdown",
   "metadata": {},
   "source": [
    "Raporty o specyfice podpróbek"
   ]
  },
  {
   "cell_type": "code",
   "execution_count": 20,
   "metadata": {},
   "outputs": [
    {
     "name": "stdout",
     "output_type": "stream",
     "text": [
      "train\n",
      "bankruci: 6.54% liczebność: 308\n",
      "niebankruci: 93.46% liczebność: 4403\n"
     ]
    }
   ],
   "source": [
    "print('train\\nbankruci: {}% liczebność: {}\\nniebankruci: {}% liczebność: {}'.format(\n",
    "    round(sum(train['bankrut'] == 1)/train.shape[0]*100, 2),\n",
    "    sum(train['bankrut'] == 1),\n",
    "    round(sum(train['bankrut'] == 0)/train.shape[0]*100, 2),\n",
    "    sum(train['bankrut'] == 0)))"
   ]
  },
  {
   "cell_type": "code",
   "execution_count": 21,
   "metadata": {},
   "outputs": [
    {
     "name": "stdout",
     "output_type": "stream",
     "text": [
      "test\n",
      "bankruci: 8.33% liczebność: 98\n",
      "niebankruci: 91.67% liczebność: 1079\n"
     ]
    }
   ],
   "source": [
    "print('test\\nbankruci: {}% liczebność: {}\\nniebankruci: {}% liczebność: {}'.format(\n",
    "    round(sum(test['bankrut'] == 1)/test.shape[0]*100, 2),\n",
    "    sum(test['bankrut'] == 1),\n",
    "    round(sum(test['bankrut'] == 0)/test.shape[0]*100, 2),\n",
    "    sum(test['bankrut'] == 0)))"
   ]
  },
  {
   "cell_type": "markdown",
   "metadata": {},
   "source": [
    "#### Outliery"
   ]
  },
  {
   "cell_type": "code",
   "execution_count": 22,
   "metadata": {},
   "outputs": [],
   "source": [
    "# funkcja do określenia liczby subplotów na podstawie wektora niepustych wykresów\n",
    "# Autor: Maciej Odziemczyk, student, Wydział Nauk Ekonomicznych UW, maj 2020.\n",
    "# funkcja zwraca obiekt typu lista [liczba wierszy, liczba kolumn].\n",
    "# argumenty, dokumentacja:\n",
    "#     arr - wektor, liczba niepustych wykresów (np. kolumny/wiersze z DataFrame)\n",
    "#     num_of_cols - int, liczba kolumn, jaką ma mieć nasz subplot\n",
    "\n",
    "def subplotShape(arr, num_of_cols = 4):\n",
    "    if num_of_cols > arr.shape[0]:\n",
    "        raise 'num_of_cols > arr'\n",
    "    elif arr.shape[0] % num_of_cols != 0:\n",
    "        for i in range(1, arr.shape[0]): # szukanie reszty z dzielenia\n",
    "            if arr.shape[0] % num_of_cols == i:\n",
    "                arr = np.append(arr, np.zeros((1, num_of_cols-i))) # dopełnienie do dzielenia bez reszty w kształcie\n",
    "                arr = np.reshape(arr, (-1, num_of_cols)) # dopasowanie liczby wierszy do liczby kolumn\n",
    "                return [arr.shape[0], arr.shape[1]] # lista [liczba wierszy, liczba kolumn]\n",
    "                break\n",
    "    else:\n",
    "        arr = np.reshape(arr, (-1, num_of_cols)) # dopasowanie liczby wierszy do liczby kolumn\n",
    "        return [arr.shape[0], arr.shape[1]] # lista [liczba wierszy, liczba kolumn]"
   ]
  },
  {
   "cell_type": "code",
   "execution_count": 23,
   "metadata": {},
   "outputs": [],
   "source": [
    "# Atrybuty ciągłe\n",
    "num = [\"ROA\", \"Zobowiazania_Aktywa\", \"KO_Aktywa\", \"CurrentRatio\",\n",
    "       \"Zzatrzymane_Aktywa\", \"EBIT_Aktywa\", \"WartRynk_WartKsDlugu\",\n",
    "       \"Sprzedaz_Aktywa\", \"RotacjaZapasow\", \"Rozmiar\", \n",
    "       \"RotacjaNaleznosci\", \"EBITDA_Aktywa\", \"MarzaZyskuBrutto\",\n",
    "       \"RotacjaZobowiazan\", \"DzwigniaFinansowa\", \"Zscore\"]"
   ]
  },
  {
   "cell_type": "code",
   "execution_count": 24,
   "metadata": {},
   "outputs": [
    {
     "data": {
      "image/png": "[encoded data removed]",
      "text/plain": [
       "<Figure size 864x864 with 16 Axes>"
      ]
     },
     "metadata": {
      "needs_background": "light"
     },
     "output_type": "display_data"
    }
   ],
   "source": [
    "# skopiowanie zbioru w celu obróbki (robocza komenda, wcześniej testowane było wiele metod usuwania outlierów)\n",
    "train1 = train.copy()\n",
    "\n",
    "rozmiar = subplotShape(np.array(num), 4)\n",
    "\n",
    "f, ax = plt.subplots(nrows = rozmiar[0], ncols = rozmiar[1], figsize = (12,12))\n",
    "flag = 0\n",
    "for r in range(rozmiar[0]):\n",
    "    for c in range(rozmiar[1]):\n",
    "        try:\n",
    "            ax[r, c].boxplot(train1[num[flag]], labels = [num[flag]])\n",
    "            flag += 1\n",
    "        except:\n",
    "            pass\n",
    "\n",
    "plt.show()"
   ]
  },
  {
   "cell_type": "markdown",
   "metadata": {},
   "source": [
    "Z analizy wykresów pudełkowych wnioskuję o występowaniu wartości nietypowych w przypadku każdej ze zmiennych, należy przyjrzeć się kilku niepokojącym obserwacjom, aby uniknąć błędnej estymacji parametrów modelu."
   ]
  },
  {
   "cell_type": "markdown",
   "metadata": {},
   "source": [
    "1. Ujemna wartość księgowa kapitału własnego (proxy wart. rynkowej) powinna iść w parze z ujemnymi zyskami zatrzymanymi.\n",
    " - Wartości najwyższe"
   ]
  },
  {
   "cell_type": "code",
   "execution_count": 25,
   "metadata": {},
   "outputs": [
    {
     "data": {
      "image/png": "[encoded data removed]",
      "text/plain": [
       "<Figure size 432x288 with 1 Axes>"
      ]
     },
     "metadata": {
      "needs_background": "light"
     },
     "output_type": "display_data"
    }
   ],
   "source": [
    "train1.Zzatrzymane_Aktywa.where(train1.WartRynk_WartKsDlugu<0).dropna().hist(bins = 800)\n",
    "plt.title('Rozkład Zysków zatrzymanych/Aktywa przy ujemnej wartości kapitału własnego')\n",
    "plt.show()"
   ]
  },
  {
   "cell_type": "code",
   "execution_count": 26,
   "metadata": {},
   "outputs": [],
   "source": [
    "# lista uzupełniana na bieżąco w korespondencji z filtrem z komórki poniżej\n",
    "lista = [4351, 3846, 3009, 4848, 4045, 5748, 5257, 2786, 3683, 4691, 5522, 5685, 1847, 3775, 1589]\n",
    "\n",
    "# do usunięcia:\n",
    "# 4351, 3846 "
   ]
  },
  {
   "cell_type": "code",
   "execution_count": 27,
   "metadata": {},
   "outputs": [
    {
     "data": {
      "text/html": [
       "<div>\n",
       "<style scoped>\n",
       "    .dataframe tbody tr th:only-of-type {\n",
       "        vertical-align: middle;\n",
       "    }\n",
       "\n",
       "    .dataframe tbody tr th {\n",
       "        vertical-align: top;\n",
       "    }\n",
       "\n",
       "    .dataframe thead th {\n",
       "        text-align: right;\n",
       "    }\n",
       "</style>\n",
       "<table border=\"1\" class=\"dataframe\">\n",
       "  <thead>\n",
       "    <tr style=\"text-align: right;\">\n",
       "      <th></th>\n",
       "      <th>ROA</th>\n",
       "      <th>Zobowiazania_Aktywa</th>\n",
       "      <th>KO_Aktywa</th>\n",
       "      <th>CurrentRatio</th>\n",
       "      <th>Zzatrzymane_Aktywa</th>\n",
       "      <th>EBIT_Aktywa</th>\n",
       "      <th>WartRynk_WartKsDlugu</th>\n",
       "      <th>Sprzedaz_Aktywa</th>\n",
       "      <th>RotacjaZapasow</th>\n",
       "      <th>PrzyrostSprzedazySpadek_BrakDanych</th>\n",
       "      <th>Rozmiar</th>\n",
       "      <th>RotacjaNaleznosci</th>\n",
       "      <th>EBITDA_Aktywa</th>\n",
       "      <th>MarzaZyskuBrutto</th>\n",
       "      <th>RotacjaZobowiazan</th>\n",
       "      <th>bankrut</th>\n",
       "      <th>DzwigniaFinansowa</th>\n",
       "      <th>Zscore</th>\n",
       "      <th>wyplacalnosc</th>\n",
       "    </tr>\n",
       "  </thead>\n",
       "  <tbody>\n",
       "    <tr>\n",
       "      <th>623</th>\n",
       "      <td>0.079916</td>\n",
       "      <td>0.318460</td>\n",
       "      <td>0.608990</td>\n",
       "      <td>2.9123</td>\n",
       "      <td>0.0</td>\n",
       "      <td>0.103410</td>\n",
       "      <td>2.14010</td>\n",
       "      <td>2.27950</td>\n",
       "      <td>40.0790</td>\n",
       "      <td>0.0</td>\n",
       "      <td>3.4051</td>\n",
       "      <td>86.398</td>\n",
       "      <td>0.108190</td>\n",
       "      <td>0.055251</td>\n",
       "      <td>50.994</td>\n",
       "      <td>0.0</td>\n",
       "      <td>1.209082</td>\n",
       "      <td>2.300782</td>\n",
       "      <td>0.0</td>\n",
       "    </tr>\n",
       "    <tr>\n",
       "      <th>5174</th>\n",
       "      <td>0.108310</td>\n",
       "      <td>0.672800</td>\n",
       "      <td>0.288420</td>\n",
       "      <td>1.4287</td>\n",
       "      <td>0.0</td>\n",
       "      <td>0.108310</td>\n",
       "      <td>0.48633</td>\n",
       "      <td>0.82943</td>\n",
       "      <td>63.2430</td>\n",
       "      <td>0.0</td>\n",
       "      <td>3.4373</td>\n",
       "      <td>189.460</td>\n",
       "      <td>-0.010500</td>\n",
       "      <td>0.463340</td>\n",
       "      <td>296.070</td>\n",
       "      <td>0.0</td>\n",
       "      <td>0.000000</td>\n",
       "      <td>0.838554</td>\n",
       "      <td>0.0</td>\n",
       "    </tr>\n",
       "    <tr>\n",
       "      <th>3539</th>\n",
       "      <td>0.124940</td>\n",
       "      <td>0.674440</td>\n",
       "      <td>0.047192</td>\n",
       "      <td>1.1218</td>\n",
       "      <td>0.0</td>\n",
       "      <td>0.124940</td>\n",
       "      <td>0.48271</td>\n",
       "      <td>1.56190</td>\n",
       "      <td>8.3184</td>\n",
       "      <td>0.0</td>\n",
       "      <td>3.6291</td>\n",
       "      <td>89.228</td>\n",
       "      <td>-0.107140</td>\n",
       "      <td>0.247270</td>\n",
       "      <td>90.554</td>\n",
       "      <td>0.0</td>\n",
       "      <td>0.000000</td>\n",
       "      <td>1.567924</td>\n",
       "      <td>0.0</td>\n",
       "    </tr>\n",
       "    <tr>\n",
       "      <th>1136</th>\n",
       "      <td>0.056304</td>\n",
       "      <td>0.617900</td>\n",
       "      <td>0.127120</td>\n",
       "      <td>1.3529</td>\n",
       "      <td>0.0</td>\n",
       "      <td>0.075093</td>\n",
       "      <td>0.61839</td>\n",
       "      <td>1.97710</td>\n",
       "      <td>24.4150</td>\n",
       "      <td>0.0</td>\n",
       "      <td>4.6542</td>\n",
       "      <td>61.245</td>\n",
       "      <td>0.070890</td>\n",
       "      <td>0.069040</td>\n",
       "      <td>66.508</td>\n",
       "      <td>0.0</td>\n",
       "      <td>1.658145</td>\n",
       "      <td>1.982837</td>\n",
       "      <td>0.0</td>\n",
       "    </tr>\n",
       "    <tr>\n",
       "      <th>2290</th>\n",
       "      <td>0.009464</td>\n",
       "      <td>0.583720</td>\n",
       "      <td>0.115730</td>\n",
       "      <td>1.3261</td>\n",
       "      <td>0.0</td>\n",
       "      <td>0.013644</td>\n",
       "      <td>0.71315</td>\n",
       "      <td>0.90052</td>\n",
       "      <td>124.9200</td>\n",
       "      <td>0.0</td>\n",
       "      <td>4.5269</td>\n",
       "      <td>33.764</td>\n",
       "      <td>-0.017715</td>\n",
       "      <td>0.044959</td>\n",
       "      <td>143.820</td>\n",
       "      <td>0.0</td>\n",
       "      <td>3.127846</td>\n",
       "      <td>0.905737</td>\n",
       "      <td>0.0</td>\n",
       "    </tr>\n",
       "    <tr>\n",
       "      <th>...</th>\n",
       "      <td>...</td>\n",
       "      <td>...</td>\n",
       "      <td>...</td>\n",
       "      <td>...</td>\n",
       "      <td>...</td>\n",
       "      <td>...</td>\n",
       "      <td>...</td>\n",
       "      <td>...</td>\n",
       "      <td>...</td>\n",
       "      <td>...</td>\n",
       "      <td>...</td>\n",
       "      <td>...</td>\n",
       "      <td>...</td>\n",
       "      <td>...</td>\n",
       "      <td>...</td>\n",
       "      <td>...</td>\n",
       "      <td>...</td>\n",
       "      <td>...</td>\n",
       "      <td>...</td>\n",
       "    </tr>\n",
       "    <tr>\n",
       "      <th>4041</th>\n",
       "      <td>0.030486</td>\n",
       "      <td>0.154880</td>\n",
       "      <td>0.555980</td>\n",
       "      <td>4.7513</td>\n",
       "      <td>0.0</td>\n",
       "      <td>0.030486</td>\n",
       "      <td>5.45680</td>\n",
       "      <td>2.00730</td>\n",
       "      <td>24.5080</td>\n",
       "      <td>0.0</td>\n",
       "      <td>3.7021</td>\n",
       "      <td>96.672</td>\n",
       "      <td>-0.009491</td>\n",
       "      <td>0.005749</td>\n",
       "      <td>26.951</td>\n",
       "      <td>0.0</td>\n",
       "      <td>0.744864</td>\n",
       "      <td>2.045711</td>\n",
       "      <td>0.0</td>\n",
       "    </tr>\n",
       "    <tr>\n",
       "      <th>1998</th>\n",
       "      <td>0.132210</td>\n",
       "      <td>0.073515</td>\n",
       "      <td>0.365500</td>\n",
       "      <td>6.1723</td>\n",
       "      <td>0.0</td>\n",
       "      <td>0.132210</td>\n",
       "      <td>12.60300</td>\n",
       "      <td>0.95924</td>\n",
       "      <td>80.6640</td>\n",
       "      <td>0.0</td>\n",
       "      <td>4.0842</td>\n",
       "      <td>34.418</td>\n",
       "      <td>-0.033320</td>\n",
       "      <td>0.197080</td>\n",
       "      <td>26.888</td>\n",
       "      <td>0.0</td>\n",
       "      <td>0.000000</td>\n",
       "      <td>1.042648</td>\n",
       "      <td>0.0</td>\n",
       "    </tr>\n",
       "    <tr>\n",
       "      <th>1663</th>\n",
       "      <td>0.134370</td>\n",
       "      <td>0.570230</td>\n",
       "      <td>0.241480</td>\n",
       "      <td>1.7930</td>\n",
       "      <td>0.0</td>\n",
       "      <td>0.134370</td>\n",
       "      <td>0.75369</td>\n",
       "      <td>1.32720</td>\n",
       "      <td>19.9570</td>\n",
       "      <td>0.0</td>\n",
       "      <td>3.8855</td>\n",
       "      <td>92.875</td>\n",
       "      <td>0.057433</td>\n",
       "      <td>0.050165</td>\n",
       "      <td>83.747</td>\n",
       "      <td>0.0</td>\n",
       "      <td>1.021138</td>\n",
       "      <td>1.337727</td>\n",
       "      <td>0.0</td>\n",
       "    </tr>\n",
       "    <tr>\n",
       "      <th>2145</th>\n",
       "      <td>0.182360</td>\n",
       "      <td>0.236890</td>\n",
       "      <td>0.785750</td>\n",
       "      <td>5.2085</td>\n",
       "      <td>0.0</td>\n",
       "      <td>0.226720</td>\n",
       "      <td>3.22130</td>\n",
       "      <td>1.92420</td>\n",
       "      <td>79.8160</td>\n",
       "      <td>0.0</td>\n",
       "      <td>4.1152</td>\n",
       "      <td>73.020</td>\n",
       "      <td>0.201610</td>\n",
       "      <td>0.119330</td>\n",
       "      <td>35.416</td>\n",
       "      <td>0.0</td>\n",
       "      <td>0.955950</td>\n",
       "      <td>1.958514</td>\n",
       "      <td>0.0</td>\n",
       "    </tr>\n",
       "    <tr>\n",
       "      <th>4504</th>\n",
       "      <td>0.070529</td>\n",
       "      <td>0.151250</td>\n",
       "      <td>0.857050</td>\n",
       "      <td>7.7131</td>\n",
       "      <td>0.0</td>\n",
       "      <td>0.091706</td>\n",
       "      <td>5.61140</td>\n",
       "      <td>1.28830</td>\n",
       "      <td>18.0280</td>\n",
       "      <td>1.0</td>\n",
       "      <td>3.4301</td>\n",
       "      <td>72.789</td>\n",
       "      <td>0.075911</td>\n",
       "      <td>0.059570</td>\n",
       "      <td>36.172</td>\n",
       "      <td>0.0</td>\n",
       "      <td>0.896581</td>\n",
       "      <td>1.333991</td>\n",
       "      <td>0.0</td>\n",
       "    </tr>\n",
       "  </tbody>\n",
       "</table>\n",
       "<p>1820 rows × 19 columns</p>\n",
       "</div>"
      ],
      "text/plain": [
       "           ROA  Zobowiazania_Aktywa  KO_Aktywa  CurrentRatio  \\\n",
       "623   0.079916             0.318460   0.608990        2.9123   \n",
       "5174  0.108310             0.672800   0.288420        1.4287   \n",
       "3539  0.124940             0.674440   0.047192        1.1218   \n",
       "1136  0.056304             0.617900   0.127120        1.3529   \n",
       "2290  0.009464             0.583720   0.115730        1.3261   \n",
       "...        ...                  ...        ...           ...   \n",
       "4041  0.030486             0.154880   0.555980        4.7513   \n",
       "1998  0.132210             0.073515   0.365500        6.1723   \n",
       "1663  0.134370             0.570230   0.241480        1.7930   \n",
       "2145  0.182360             0.236890   0.785750        5.2085   \n",
       "4504  0.070529             0.151250   0.857050        7.7131   \n",
       "\n",
       "      Zzatrzymane_Aktywa  EBIT_Aktywa  WartRynk_WartKsDlugu  Sprzedaz_Aktywa  \\\n",
       "623                  0.0     0.103410               2.14010          2.27950   \n",
       "5174                 0.0     0.108310               0.48633          0.82943   \n",
       "3539                 0.0     0.124940               0.48271          1.56190   \n",
       "1136                 0.0     0.075093               0.61839          1.97710   \n",
       "2290                 0.0     0.013644               0.71315          0.90052   \n",
       "...                  ...          ...                   ...              ...   \n",
       "4041                 0.0     0.030486               5.45680          2.00730   \n",
       "1998                 0.0     0.132210              12.60300          0.95924   \n",
       "1663                 0.0     0.134370               0.75369          1.32720   \n",
       "2145                 0.0     0.226720               3.22130          1.92420   \n",
       "4504                 0.0     0.091706               5.61140          1.28830   \n",
       "\n",
       "      RotacjaZapasow  PrzyrostSprzedazySpadek_BrakDanych  Rozmiar  \\\n",
       "623          40.0790                                 0.0   3.4051   \n",
       "5174         63.2430                                 0.0   3.4373   \n",
       "3539          8.3184                                 0.0   3.6291   \n",
       "1136         24.4150                                 0.0   4.6542   \n",
       "2290        124.9200                                 0.0   4.5269   \n",
       "...              ...                                 ...      ...   \n",
       "4041         24.5080                                 0.0   3.7021   \n",
       "1998         80.6640                                 0.0   4.0842   \n",
       "1663         19.9570                                 0.0   3.8855   \n",
       "2145         79.8160                                 0.0   4.1152   \n",
       "4504         18.0280                                 1.0   3.4301   \n",
       "\n",
       "      RotacjaNaleznosci  EBITDA_Aktywa  MarzaZyskuBrutto  RotacjaZobowiazan  \\\n",
       "623              86.398       0.108190          0.055251             50.994   \n",
       "5174            189.460      -0.010500          0.463340            296.070   \n",
       "3539             89.228      -0.107140          0.247270             90.554   \n",
       "1136             61.245       0.070890          0.069040             66.508   \n",
       "2290             33.764      -0.017715          0.044959            143.820   \n",
       "...                 ...            ...               ...                ...   \n",
       "4041             96.672      -0.009491          0.005749             26.951   \n",
       "1998             34.418      -0.033320          0.197080             26.888   \n",
       "1663             92.875       0.057433          0.050165             83.747   \n",
       "2145             73.020       0.201610          0.119330             35.416   \n",
       "4504             72.789       0.075911          0.059570             36.172   \n",
       "\n",
       "      bankrut  DzwigniaFinansowa    Zscore  wyplacalnosc  \n",
       "623       0.0           1.209082  2.300782           0.0  \n",
       "5174      0.0           0.000000  0.838554           0.0  \n",
       "3539      0.0           0.000000  1.567924           0.0  \n",
       "1136      0.0           1.658145  1.982837           0.0  \n",
       "2290      0.0           3.127846  0.905737           0.0  \n",
       "...       ...                ...       ...           ...  \n",
       "4041      0.0           0.744864  2.045711           0.0  \n",
       "1998      0.0           0.000000  1.042648           0.0  \n",
       "1663      0.0           1.021138  1.337727           0.0  \n",
       "2145      0.0           0.955950  1.958514           0.0  \n",
       "4504      0.0           0.896581  1.333991           0.0  \n",
       "\n",
       "[1820 rows x 19 columns]"
      ]
     },
     "execution_count": 27,
     "metadata": {},
     "output_type": "execute_result"
    }
   ],
   "source": [
    "# filtr\n",
    "train1.drop(labels = lista).where(\n",
    "    train1.Zzatrzymane_Aktywa == train1.drop(labels = lista).Zzatrzymane_Aktywa.where(\n",
    "        train1.WartRynk_WartKsDlugu < 0).dropna().max()).dropna()"
   ]
  },
  {
   "cell_type": "markdown",
   "metadata": {},
   "source": [
    "4351 - Absurdalnie wysokie ROA, ujemne zobowiązania przy znacznej różnicy Kapitalu obrotowego_aktywa i current ratio, absurdalnie niski ebit ponad 20 krotnie niższy niż EBITDA (oznacza, że musi być duża amortyzacja, jednak ROA to ponad 87, aktywa nie mogą być wyskoie w tym przypadku, bo oznaczało by to absurdalnie wysoki zysk, co przy EBIT -500 jest absurdem). To zdecydowanie jest obserwacja błędna. <br/>\n",
    "3846 - Zachowane racjonalne proporcje między ROA, EBIT i EBITDA, ujemna WartRynk koresponduje ze stosunkiem Zobowiązań do aktywów bliskim 5, przy stosunku zysków zatrzymanch do aktywów ponad 3, jest to dość nieprawdopodobna wartość, bowiem mało prawdopodobne jest, aby przekraczała ona 1. Dodatkowo widzimy, że sprzedaż stanowi 66% aktywów, co przy ujemnej marży oznacza, że spółka nie powinna generować zysków na działalności operacyjnej, bowiem koszty sprzedanych produktów przewyższają przychody ze sprzedaży. Dokładając rotację zobowiązań na poziomie blisko 17 lat nie można stwierdzić pogorszenia sytuacji na przestrzeni roku bilansowego (dodatkowo 17 letni okres rotacji zobowiązań wygląda raczej jak pomyłka). Dźwignia finansowa > 1 sugeruje nadwyżkę przychodów finansowych i zysków nadzywczajnych nad kosztami finansowymi, jednak jest to zaledwie 4%. Przy takiej marży, niemożliwe jest osiągnąć ROA na poziomie 28%, ta obsrwacja wydaje się być wysoce nieprawdopodobna, należy ją usunąć."
   ]
  },
  {
   "cell_type": "markdown",
   "metadata": {},
   "source": [
    " - Wartości najniższe"
   ]
  },
  {
   "cell_type": "code",
   "execution_count": 28,
   "metadata": {},
   "outputs": [],
   "source": [
    "# lista uzupełniana na bieżąco w korespondencji z filtrem z komórki poniżej\n",
    "lista = [1672, 5613, 3100, 2348, 5680, 3802, 5530, 4509, 4136, 3103, 5515, 5775, 5898, 5820, 5885, 5571]\n",
    "\n",
    "# do usunięcia:\n",
    "# 1672, 2348, 3802"
   ]
  },
  {
   "cell_type": "code",
   "execution_count": 29,
   "metadata": {},
   "outputs": [
    {
     "data": {
      "text/html": [
       "<div>\n",
       "<style scoped>\n",
       "    .dataframe tbody tr th:only-of-type {\n",
       "        vertical-align: middle;\n",
       "    }\n",
       "\n",
       "    .dataframe tbody tr th {\n",
       "        vertical-align: top;\n",
       "    }\n",
       "\n",
       "    .dataframe thead th {\n",
       "        text-align: right;\n",
       "    }\n",
       "</style>\n",
       "<table border=\"1\" class=\"dataframe\">\n",
       "  <thead>\n",
       "    <tr style=\"text-align: right;\">\n",
       "      <th></th>\n",
       "      <th>ROA</th>\n",
       "      <th>Zobowiazania_Aktywa</th>\n",
       "      <th>KO_Aktywa</th>\n",
       "      <th>CurrentRatio</th>\n",
       "      <th>Zzatrzymane_Aktywa</th>\n",
       "      <th>EBIT_Aktywa</th>\n",
       "      <th>WartRynk_WartKsDlugu</th>\n",
       "      <th>Sprzedaz_Aktywa</th>\n",
       "      <th>RotacjaZapasow</th>\n",
       "      <th>PrzyrostSprzedazySpadek_BrakDanych</th>\n",
       "      <th>Rozmiar</th>\n",
       "      <th>RotacjaNaleznosci</th>\n",
       "      <th>EBITDA_Aktywa</th>\n",
       "      <th>MarzaZyskuBrutto</th>\n",
       "      <th>RotacjaZobowiazan</th>\n",
       "      <th>bankrut</th>\n",
       "      <th>DzwigniaFinansowa</th>\n",
       "      <th>Zscore</th>\n",
       "      <th>wyplacalnosc</th>\n",
       "    </tr>\n",
       "  </thead>\n",
       "  <tbody>\n",
       "    <tr>\n",
       "      <th>1859</th>\n",
       "      <td>-0.049813</td>\n",
       "      <td>3.6858</td>\n",
       "      <td>0.1102</td>\n",
       "      <td>1.8834</td>\n",
       "      <td>-3.2385</td>\n",
       "      <td>-0.049813</td>\n",
       "      <td>-0.72869</td>\n",
       "      <td>1.0803</td>\n",
       "      <td>3.605</td>\n",
       "      <td>0.0</td>\n",
       "      <td>3.2653</td>\n",
       "      <td>68.595</td>\n",
       "      <td>0.047823</td>\n",
       "      <td>0.067789</td>\n",
       "      <td>42.151</td>\n",
       "      <td>0.0</td>\n",
       "      <td>-1.385491</td>\n",
       "      <td>1.029187</td>\n",
       "      <td>1.0</td>\n",
       "    </tr>\n",
       "  </tbody>\n",
       "</table>\n",
       "</div>"
      ],
      "text/plain": [
       "           ROA  Zobowiazania_Aktywa  KO_Aktywa  CurrentRatio  \\\n",
       "1859 -0.049813               3.6858     0.1102        1.8834   \n",
       "\n",
       "      Zzatrzymane_Aktywa  EBIT_Aktywa  WartRynk_WartKsDlugu  Sprzedaz_Aktywa  \\\n",
       "1859             -3.2385    -0.049813              -0.72869           1.0803   \n",
       "\n",
       "      RotacjaZapasow  PrzyrostSprzedazySpadek_BrakDanych  Rozmiar  \\\n",
       "1859           3.605                                 0.0   3.2653   \n",
       "\n",
       "      RotacjaNaleznosci  EBITDA_Aktywa  MarzaZyskuBrutto  RotacjaZobowiazan  \\\n",
       "1859             68.595       0.047823          0.067789             42.151   \n",
       "\n",
       "      bankrut  DzwigniaFinansowa    Zscore  wyplacalnosc  \n",
       "1859      0.0          -1.385491  1.029187           1.0  "
      ]
     },
     "execution_count": 29,
     "metadata": {},
     "output_type": "execute_result"
    }
   ],
   "source": [
    "# filtr\n",
    "train1.drop(labels = lista).where(\n",
    "    train1.Zzatrzymane_Aktywa == train1.drop(labels = lista).Zzatrzymane_Aktywa.where(\n",
    "        train1.WartRynk_WartKsDlugu < 0).dropna().min()).dropna()"
   ]
  },
  {
   "cell_type": "markdown",
   "metadata": {},
   "source": [
    "1672 - To, że przy takich wskaźnikach firma nie jest zaklasyfikowana jako bankrut wydaje się być błędem w danych. Należy ją usunąć ze zbioru obserwacji.  <br/>\n",
    "2348 - Obserwacja wygląda tak, jakby etykieta była pomylona, należy usunąć obserwację. <br/>\n",
    "3802 - Obserwacja wygląda tak, jakby etykieta była pomylona, należy usunąć obserwację."
   ]
  },
  {
   "cell_type": "code",
   "execution_count": 30,
   "metadata": {},
   "outputs": [
    {
     "data": {
      "image/png": "[encoded data removed]",
      "text/plain": [
       "<Figure size 432x288 with 1 Axes>"
      ]
     },
     "metadata": {
      "needs_background": "light"
     },
     "output_type": "display_data"
    }
   ],
   "source": [
    "# usunięcie obserwacji zdiagnozowanych jako niepoprawne \n",
    "bye = [4351, 3846, 1672, 2348, 3802]\n",
    "train1.drop(bye, inplace = True)\n",
    "\n",
    "# sprawdzenie histogramu\n",
    "train1.Zzatrzymane_Aktywa.where(train1.WartRynk_WartKsDlugu < 0).dropna().hist(bins = 800)\n",
    "plt.title('Rozkład Zysków zatrzymanych/Aktywa przy ujemnej wartości kapitału własnego')\n",
    "plt.show()"
   ]
  },
  {
   "cell_type": "markdown",
   "metadata": {},
   "source": [
    " - Dodatkowe obserwacje - dziwne zachowanie trójki, EBITDA, EBIT, ROA."
   ]
  },
  {
   "cell_type": "code",
   "execution_count": 31,
   "metadata": {},
   "outputs": [
    {
     "name": "stdout",
     "output_type": "stream",
     "text": [
      "liczba obserwacji w przypadku:\n",
      "EBIT > EBITDA: 4673\n",
      "ROA > EBITDA: 3958\n",
      "ROA > EBIT: 498\n"
     ]
    }
   ],
   "source": [
    "print('liczba obserwacji w przypadku:\\\n",
    "\\nEBIT > EBITDA: {}\\\n",
    "\\nROA > EBITDA: {}\\\n",
    "\\nROA > EBIT: {}'.format(\n",
    "df.where(df.EBIT_Aktywa > df.EBITDA_Aktywa).dropna().shape[0],\n",
    "df.where(df.ROA > df.EBITDA_Aktywa).dropna().shape[0],\n",
    "df.where(df.ROA > df.EBIT_Aktywa).dropna().shape[0]))"
   ]
  },
  {
   "cell_type": "markdown",
   "metadata": {},
   "source": [
    "W 4673 przypadkach EBIT > EBITDA, biorąc pod uwagę definicje obu wskaźników, taka sytuacja nie jest możliwa na taką skalę. W bazie danych EBIT nie został dokładnie opisany, natomiast EBITDA została opisana jako zysk na działalności operacyjnej - deprecjacja. Z uwagi na fakt braku opisu formuły EBITu oraz wyników powyższej analizy nie mozna uznać porównania EBIT i EBITDA jako element dalszych analiz, ze względu niepewność co do poprawności atrybutów. Należy zatem usunąć jedną ze zmiennych z bazy danych. Z uwagi na fakt że w 3958 przypadkach ROA > EBITDA, można wysnuć wniosek, że wskaźnik EBITDA jest w przypadku niniejszej bazy danych osobliwy i należy się go pozbyć ze zbioru zmiennych objaśniających. ROA wyższe od EBIT jest możliwe w przypadku występowania zysków nadzwyczajnych, zatem jeżeli taka sytuacja występuje w blisko 12% przypadków, można uznać ją za prawdopodobną."
   ]
  },
  {
   "cell_type": "markdown",
   "metadata": {},
   "source": [
    "2. Sprawdzenie obserwacji z dużą nadwyżką zobowiązań nad aktywami."
   ]
  },
  {
   "cell_type": "code",
   "execution_count": 32,
   "metadata": {},
   "outputs": [
    {
     "data": {
      "image/png": "[encoded data removed]",
      "text/plain": [
       "<Figure size 432x288 with 1 Axes>"
      ]
     },
     "metadata": {
      "needs_background": "light"
     },
     "output_type": "display_data"
    }
   ],
   "source": [
    "train1.Zobowiazania_Aktywa.hist(bins = 1100)\n",
    "plt.title('Histogram Zobowiązania/Aktywa')\n",
    "plt.show()"
   ]
  },
  {
   "cell_type": "markdown",
   "metadata": {},
   "source": [
    "Jest obsrewacja z bardzo wysokim wskaźnikiem, należy ją sprawdzić."
   ]
  },
  {
   "cell_type": "code",
   "execution_count": 33,
   "metadata": {},
   "outputs": [
    {
     "data": {
      "text/html": [
       "<div>\n",
       "<style scoped>\n",
       "    .dataframe tbody tr th:only-of-type {\n",
       "        vertical-align: middle;\n",
       "    }\n",
       "\n",
       "    .dataframe tbody tr th {\n",
       "        vertical-align: top;\n",
       "    }\n",
       "\n",
       "    .dataframe thead th {\n",
       "        text-align: right;\n",
       "    }\n",
       "</style>\n",
       "<table border=\"1\" class=\"dataframe\">\n",
       "  <thead>\n",
       "    <tr style=\"text-align: right;\">\n",
       "      <th></th>\n",
       "      <th>ROA</th>\n",
       "      <th>Zobowiazania_Aktywa</th>\n",
       "      <th>KO_Aktywa</th>\n",
       "      <th>CurrentRatio</th>\n",
       "      <th>Zzatrzymane_Aktywa</th>\n",
       "      <th>EBIT_Aktywa</th>\n",
       "      <th>WartRynk_WartKsDlugu</th>\n",
       "      <th>Sprzedaz_Aktywa</th>\n",
       "      <th>RotacjaZapasow</th>\n",
       "      <th>PrzyrostSprzedazySpadek_BrakDanych</th>\n",
       "      <th>Rozmiar</th>\n",
       "      <th>RotacjaNaleznosci</th>\n",
       "      <th>EBITDA_Aktywa</th>\n",
       "      <th>MarzaZyskuBrutto</th>\n",
       "      <th>RotacjaZobowiazan</th>\n",
       "      <th>bankrut</th>\n",
       "      <th>DzwigniaFinansowa</th>\n",
       "      <th>Zscore</th>\n",
       "      <th>wyplacalnosc</th>\n",
       "    </tr>\n",
       "  </thead>\n",
       "  <tbody>\n",
       "    <tr>\n",
       "      <th>5613</th>\n",
       "      <td>-32.052</td>\n",
       "      <td>72.416</td>\n",
       "      <td>-72.067</td>\n",
       "      <td>0.004819</td>\n",
       "      <td>-32.052</td>\n",
       "      <td>-32.09</td>\n",
       "      <td>-0.98657</td>\n",
       "      <td>0.43456</td>\n",
       "      <td>25.406</td>\n",
       "      <td>1.0</td>\n",
       "      <td>3.2657</td>\n",
       "      <td>17.525</td>\n",
       "      <td>-2.5956</td>\n",
       "      <td>-1.3012</td>\n",
       "      <td>9090.5</td>\n",
       "      <td>1.0</td>\n",
       "      <td>0.077856</td>\n",
       "      <td>-1.944296</td>\n",
       "      <td>1.0</td>\n",
       "    </tr>\n",
       "  </tbody>\n",
       "</table>\n",
       "</div>"
      ],
      "text/plain": [
       "         ROA  Zobowiazania_Aktywa  KO_Aktywa  CurrentRatio  \\\n",
       "5613 -32.052               72.416    -72.067      0.004819   \n",
       "\n",
       "      Zzatrzymane_Aktywa  EBIT_Aktywa  WartRynk_WartKsDlugu  Sprzedaz_Aktywa  \\\n",
       "5613             -32.052       -32.09              -0.98657          0.43456   \n",
       "\n",
       "      RotacjaZapasow  PrzyrostSprzedazySpadek_BrakDanych  Rozmiar  \\\n",
       "5613          25.406                                 1.0   3.2657   \n",
       "\n",
       "      RotacjaNaleznosci  EBITDA_Aktywa  MarzaZyskuBrutto  RotacjaZobowiazan  \\\n",
       "5613             17.525        -2.5956           -1.3012             9090.5   \n",
       "\n",
       "      bankrut  DzwigniaFinansowa    Zscore  wyplacalnosc  \n",
       "5613      1.0           0.077856 -1.944296           1.0  "
      ]
     },
     "execution_count": 33,
     "metadata": {},
     "output_type": "execute_result"
    }
   ],
   "source": [
    "train1.where(train1.Zobowiazania_Aktywa == train1.Zobowiazania_Aktywa.max()).dropna()"
   ]
  },
  {
   "cell_type": "markdown",
   "metadata": {},
   "source": [
    "5613 - Nie potrafię wyjaśnić przypadku, w którym cykl rotacji zobowiązań trwa 25 lat, a zobowiązania przekraczają aktywa 72 krotnie, dodatkowo wnioskując, że większość z nich to zobowiązania krótkoterminowe (current ratio ok 0, KO_Aktywa -72, dodatkowo cykl rotacji zobowiązań odnosi się do zobowiązań handlowych - z definicji krótkoterminowych). Należy usunąć obserwację."
   ]
  },
  {
   "cell_type": "code",
   "execution_count": 34,
   "metadata": {},
   "outputs": [],
   "source": [
    "# lista uzupełniana na bieżąco w korespondencji z filtrem z komórki poniżej\n",
    "lista = [5613, 3100, 5898, 4136, 5877, 5775, 5885, 3103, 4558, 5530, 1870, 5818, 5820, 5515, 4897, 1859, 765, 5571,\n",
    "        5785, 3178, 5848, 677, 5789, 5836, 815, 5718, 5748, 5748, 5713, 3831, 5645, 4727, 5685, 5685, 2152, 5654, \n",
    "        3077, 3906, 2740, 5710, 5698, 5545, 3360, 2557]\n",
    "\n",
    "# do usunięcia:\n",
    "# 5613, 3103, 5515"
   ]
  },
  {
   "cell_type": "code",
   "execution_count": 35,
   "metadata": {},
   "outputs": [
    {
     "data": {
      "text/html": [
       "<div>\n",
       "<style scoped>\n",
       "    .dataframe tbody tr th:only-of-type {\n",
       "        vertical-align: middle;\n",
       "    }\n",
       "\n",
       "    .dataframe tbody tr th {\n",
       "        vertical-align: top;\n",
       "    }\n",
       "\n",
       "    .dataframe thead th {\n",
       "        text-align: right;\n",
       "    }\n",
       "</style>\n",
       "<table border=\"1\" class=\"dataframe\">\n",
       "  <thead>\n",
       "    <tr style=\"text-align: right;\">\n",
       "      <th></th>\n",
       "      <th>ROA</th>\n",
       "      <th>Zobowiazania_Aktywa</th>\n",
       "      <th>KO_Aktywa</th>\n",
       "      <th>CurrentRatio</th>\n",
       "      <th>Zzatrzymane_Aktywa</th>\n",
       "      <th>EBIT_Aktywa</th>\n",
       "      <th>WartRynk_WartKsDlugu</th>\n",
       "      <th>Sprzedaz_Aktywa</th>\n",
       "      <th>RotacjaZapasow</th>\n",
       "      <th>PrzyrostSprzedazySpadek_BrakDanych</th>\n",
       "      <th>Rozmiar</th>\n",
       "      <th>RotacjaNaleznosci</th>\n",
       "      <th>EBITDA_Aktywa</th>\n",
       "      <th>MarzaZyskuBrutto</th>\n",
       "      <th>RotacjaZobowiazan</th>\n",
       "      <th>bankrut</th>\n",
       "      <th>DzwigniaFinansowa</th>\n",
       "      <th>Zscore</th>\n",
       "      <th>wyplacalnosc</th>\n",
       "    </tr>\n",
       "  </thead>\n",
       "  <tbody>\n",
       "    <tr>\n",
       "      <th>3403</th>\n",
       "      <td>-0.3071</td>\n",
       "      <td>1.9614</td>\n",
       "      <td>-1.1747</td>\n",
       "      <td>0.40106</td>\n",
       "      <td>-1.356</td>\n",
       "      <td>-0.3071</td>\n",
       "      <td>-0.4906</td>\n",
       "      <td>0.92284</td>\n",
       "      <td>154.73</td>\n",
       "      <td>1.0</td>\n",
       "      <td>4.0122</td>\n",
       "      <td>38.41</td>\n",
       "      <td>-0.34443</td>\n",
       "      <td>-0.083615</td>\n",
       "      <td>511.12</td>\n",
       "      <td>0.0</td>\n",
       "      <td>0.894828</td>\n",
       "      <td>0.875759</td>\n",
       "      <td>1.0</td>\n",
       "    </tr>\n",
       "  </tbody>\n",
       "</table>\n",
       "</div>"
      ],
      "text/plain": [
       "         ROA  Zobowiazania_Aktywa  KO_Aktywa  CurrentRatio  \\\n",
       "3403 -0.3071               1.9614    -1.1747       0.40106   \n",
       "\n",
       "      Zzatrzymane_Aktywa  EBIT_Aktywa  WartRynk_WartKsDlugu  Sprzedaz_Aktywa  \\\n",
       "3403              -1.356      -0.3071               -0.4906          0.92284   \n",
       "\n",
       "      RotacjaZapasow  PrzyrostSprzedazySpadek_BrakDanych  Rozmiar  \\\n",
       "3403          154.73                                 1.0   4.0122   \n",
       "\n",
       "      RotacjaNaleznosci  EBITDA_Aktywa  MarzaZyskuBrutto  RotacjaZobowiazan  \\\n",
       "3403              38.41       -0.34443         -0.083615             511.12   \n",
       "\n",
       "      bankrut  DzwigniaFinansowa    Zscore  wyplacalnosc  \n",
       "3403      0.0           0.894828  0.875759           1.0  "
      ]
     },
     "execution_count": 35,
     "metadata": {},
     "output_type": "execute_result"
    }
   ],
   "source": [
    "# filtr\n",
    "train1.drop(lista).where(\n",
    "    train1.Zobowiazania_Aktywa == train1.drop(lista).Zobowiazania_Aktywa.max()).dropna()"
   ]
  },
  {
   "cell_type": "markdown",
   "metadata": {},
   "source": [
    "3103 - wskaźniki wyglądają jak pomyłka dla nie bankruta<br/>\n",
    "4558 - jw <br/>\n",
    "1870 - rosnąca sprzedaż, wysoka marża, wysoka sprzedaż, niezłe inkaso należności, można zostawić obserwację jako nie bankruta <br/>\n",
    "5515 - absuradle wyniki wskaźników rotacji, zobowiązania - 1236 lat, to nie może być prawda, pomimo że jest to bankrut :)<br/>\n",
    "4897 - strata dorównująca aktywom, zerowa płynność, ujemna marża przy wzroście sprzedaży, jeżleli ta spółka nie upadła, to coś jest nie tak z danymi. Usuwamy <br/>"
   ]
  },
  {
   "cell_type": "code",
   "execution_count": 36,
   "metadata": {},
   "outputs": [
    {
     "data": {
      "image/png": "[encoded data removed]",
      "text/plain": [
       "<Figure size 432x288 with 1 Axes>"
      ]
     },
     "metadata": {
      "needs_background": "light"
     },
     "output_type": "display_data"
    }
   ],
   "source": [
    "# usunięcie obserwacji błędnych wykrytych przy analizie pokrycia zobowiązaniami aktywów\n",
    "bye = [5613, 3103, 5515]\n",
    "train1.drop(bye, inplace = True)\n",
    "\n",
    "# sprawdzenie histogramu\n",
    "train1.Zobowiazania_Aktywa.hist(bins = 600)\n",
    "plt.title('Histogram Zobowiązania/Aktywa')\n",
    "plt.show()"
   ]
  },
  {
   "cell_type": "markdown",
   "metadata": {},
   "source": [
    "3 .Często błędy pojawialy się przy wskaźniach rotacji, należy je sprawdzić.<br/>\n",
    " - Rotacja Należności."
   ]
  },
  {
   "cell_type": "code",
   "execution_count": 37,
   "metadata": {},
   "outputs": [
    {
     "data": {
      "image/png": "[encoded data removed]",
      "text/plain": [
       "<Figure size 432x288 with 1 Axes>"
      ]
     },
     "metadata": {
      "needs_background": "light"
     },
     "output_type": "display_data"
    }
   ],
   "source": [
    "train1.RotacjaNaleznosci.hist(bins = 600)\n",
    "plt.title('Rotacja należności')\n",
    "plt.show()"
   ]
  },
  {
   "cell_type": "markdown",
   "metadata": {},
   "source": [
    "Zdecydowanie skala na osi jest zbyt duża, aby była racjonalna, trzeba sprawdzić wartości maksymalne."
   ]
  },
  {
   "cell_type": "code",
   "execution_count": 38,
   "metadata": {},
   "outputs": [],
   "source": [
    "# lista uzupełniana na bieżąco w korespondencji z filtrem z komórki poniżej\n",
    "lista = [1553, 5808, 5631, 5759, 915, 3112, 4744, 4774, 2444, 2588, 3715, 3824]\n",
    "\n",
    "# do usunięcia:\n",
    "# 1553, 5808, 5631, 5759, 915, 3112, 4744, 4774, 2444, 2588, 3715, 3824"
   ]
  },
  {
   "cell_type": "code",
   "execution_count": 39,
   "metadata": {},
   "outputs": [
    {
     "data": {
      "text/html": [
       "<div>\n",
       "<style scoped>\n",
       "    .dataframe tbody tr th:only-of-type {\n",
       "        vertical-align: middle;\n",
       "    }\n",
       "\n",
       "    .dataframe tbody tr th {\n",
       "        vertical-align: top;\n",
       "    }\n",
       "\n",
       "    .dataframe thead th {\n",
       "        text-align: right;\n",
       "    }\n",
       "</style>\n",
       "<table border=\"1\" class=\"dataframe\">\n",
       "  <thead>\n",
       "    <tr style=\"text-align: right;\">\n",
       "      <th></th>\n",
       "      <th>ROA</th>\n",
       "      <th>Zobowiazania_Aktywa</th>\n",
       "      <th>KO_Aktywa</th>\n",
       "      <th>CurrentRatio</th>\n",
       "      <th>Zzatrzymane_Aktywa</th>\n",
       "      <th>EBIT_Aktywa</th>\n",
       "      <th>WartRynk_WartKsDlugu</th>\n",
       "      <th>Sprzedaz_Aktywa</th>\n",
       "      <th>RotacjaZapasow</th>\n",
       "      <th>PrzyrostSprzedazySpadek_BrakDanych</th>\n",
       "      <th>Rozmiar</th>\n",
       "      <th>RotacjaNaleznosci</th>\n",
       "      <th>EBITDA_Aktywa</th>\n",
       "      <th>MarzaZyskuBrutto</th>\n",
       "      <th>RotacjaZobowiazan</th>\n",
       "      <th>bankrut</th>\n",
       "      <th>DzwigniaFinansowa</th>\n",
       "      <th>Zscore</th>\n",
       "      <th>wyplacalnosc</th>\n",
       "    </tr>\n",
       "  </thead>\n",
       "  <tbody>\n",
       "    <tr>\n",
       "      <th>2163</th>\n",
       "      <td>-0.029495</td>\n",
       "      <td>0.82617</td>\n",
       "      <td>0.097451</td>\n",
       "      <td>1.4921</td>\n",
       "      <td>0.0</td>\n",
       "      <td>-0.029495</td>\n",
       "      <td>0.2104</td>\n",
       "      <td>0.1399</td>\n",
       "      <td>0.0</td>\n",
       "      <td>0.0</td>\n",
       "      <td>3.0501</td>\n",
       "      <td>705.98</td>\n",
       "      <td>-0.064623</td>\n",
       "      <td>0.01477</td>\n",
       "      <td>516.71</td>\n",
       "      <td>0.0</td>\n",
       "      <td>-0.070085</td>\n",
       "      <td>0.141219</td>\n",
       "      <td>0.0</td>\n",
       "    </tr>\n",
       "  </tbody>\n",
       "</table>\n",
       "</div>"
      ],
      "text/plain": [
       "           ROA  Zobowiazania_Aktywa  KO_Aktywa  CurrentRatio  \\\n",
       "2163 -0.029495              0.82617   0.097451        1.4921   \n",
       "\n",
       "      Zzatrzymane_Aktywa  EBIT_Aktywa  WartRynk_WartKsDlugu  Sprzedaz_Aktywa  \\\n",
       "2163                 0.0    -0.029495                0.2104           0.1399   \n",
       "\n",
       "      RotacjaZapasow  PrzyrostSprzedazySpadek_BrakDanych  Rozmiar  \\\n",
       "2163             0.0                                 0.0   3.0501   \n",
       "\n",
       "      RotacjaNaleznosci  EBITDA_Aktywa  MarzaZyskuBrutto  RotacjaZobowiazan  \\\n",
       "2163             705.98      -0.064623           0.01477             516.71   \n",
       "\n",
       "      bankrut  DzwigniaFinansowa    Zscore  wyplacalnosc  \n",
       "2163      0.0          -0.070085  0.141219           0.0  "
      ]
     },
     "execution_count": 39,
     "metadata": {},
     "output_type": "execute_result"
    }
   ],
   "source": [
    "# filtr\n",
    "train1.drop(lista).where(\n",
    "    train1.RotacjaNaleznosci == train1.drop(lista).RotacjaNaleznosci.max()).dropna()"
   ]
  },
  {
   "cell_type": "markdown",
   "metadata": {},
   "source": [
    "1553 - 111 lat inkasa należności. usuwamy <br/>\n",
    "5808 - 45 lat inkasa należności + 36 lat przeciętnej rotacji zobowiązan. usuwamy <br/>\n",
    "5631 - 21 lat inkasa należności. usuwamy <br/>\n",
    "5759 - 17 lat inkasa należności + 22 lata rotacji zobowiązań. usuwamy <br/>\n",
    "915 - 17 lat inkasa należności. usuwamy <br/>\n",
    "3112 - 10 lat inkasa należności. usuwamy <br/>\n",
    "4744 - 9 lat inkasa należności. usuwamy <br/>\n",
    "4744 - 9 lat inkasa należności, 219 lat rotacji zobowiązań. usuwamy <br/>\n",
    "2444 - 6,5 lat inkasa należności. usuwamy <br/>\n",
    "2588 - 6 lat inkasa należności. usuwamy <br/>\n",
    "3715 - 5,5 roku inkasa należności, 11 lat rotacji zobowiązań. usuwamy"
   ]
  },
  {
   "cell_type": "code",
   "execution_count": 40,
   "metadata": {},
   "outputs": [
    {
     "data": {
      "image/png": "[encoded data removed]",
      "text/plain": [
       "<Figure size 432x288 with 1 Axes>"
      ]
     },
     "metadata": {
      "needs_background": "light"
     },
     "output_type": "display_data"
    }
   ],
   "source": [
    "# usunięcie obserwacji uznanych za nieprawidłowe\n",
    "bye = [1553, 5808, 5631, 5759, 915, 3112, 4744, 4774, 2444, 2588, 3715, 3824, 3077] # 3077?\n",
    "train1.drop(bye, inplace = True)\n",
    "\n",
    "# sprawdzenie histogramu\n",
    "train1.RotacjaNaleznosci.hist(bins = 600)\n",
    "plt.title('Rotacja należności')\n",
    "plt.show()"
   ]
  },
  {
   "cell_type": "markdown",
   "metadata": {},
   "source": [
    " - Rotacja zobowiązań."
   ]
  },
  {
   "cell_type": "code",
   "execution_count": 41,
   "metadata": {},
   "outputs": [
    {
     "data": {
      "image/png": "[encoded data removed]",
      "text/plain": [
       "<Figure size 432x288 with 1 Axes>"
      ]
     },
     "metadata": {
      "needs_background": "light"
     },
     "output_type": "display_data"
    }
   ],
   "source": [
    "train1.RotacjaZobowiazan.hist(bins = 600)\n",
    "plt.title('Rotacja zobowiązań')\n",
    "plt.show()"
   ]
  },
  {
   "cell_type": "markdown",
   "metadata": {},
   "source": [
    "Poza badzo dużymi wartościami, widać też obserwację z ujemną rotacją zobowiązan."
   ]
  },
  {
   "cell_type": "code",
   "execution_count": 42,
   "metadata": {},
   "outputs": [],
   "source": [
    "# lista uzupełniana na bieżąco w korespondencji z filtrem z komórki poniżej\n",
    "lista = [5681, 5598, 5718, 337, 5865, 3767, 5639, 4118, 5773]\n",
    "\n",
    "# do usunięcia:\n",
    "# 5681, 5598, 5718, 337, 5865, 3767, 5639, 4118, 5773"
   ]
  },
  {
   "cell_type": "code",
   "execution_count": 43,
   "metadata": {},
   "outputs": [
    {
     "data": {
      "text/html": [
       "<div>\n",
       "<style scoped>\n",
       "    .dataframe tbody tr th:only-of-type {\n",
       "        vertical-align: middle;\n",
       "    }\n",
       "\n",
       "    .dataframe tbody tr th {\n",
       "        vertical-align: top;\n",
       "    }\n",
       "\n",
       "    .dataframe thead th {\n",
       "        text-align: right;\n",
       "    }\n",
       "</style>\n",
       "<table border=\"1\" class=\"dataframe\">\n",
       "  <thead>\n",
       "    <tr style=\"text-align: right;\">\n",
       "      <th></th>\n",
       "      <th>ROA</th>\n",
       "      <th>Zobowiazania_Aktywa</th>\n",
       "      <th>KO_Aktywa</th>\n",
       "      <th>CurrentRatio</th>\n",
       "      <th>Zzatrzymane_Aktywa</th>\n",
       "      <th>EBIT_Aktywa</th>\n",
       "      <th>WartRynk_WartKsDlugu</th>\n",
       "      <th>Sprzedaz_Aktywa</th>\n",
       "      <th>RotacjaZapasow</th>\n",
       "      <th>PrzyrostSprzedazySpadek_BrakDanych</th>\n",
       "      <th>Rozmiar</th>\n",
       "      <th>RotacjaNaleznosci</th>\n",
       "      <th>EBITDA_Aktywa</th>\n",
       "      <th>MarzaZyskuBrutto</th>\n",
       "      <th>RotacjaZobowiazan</th>\n",
       "      <th>bankrut</th>\n",
       "      <th>DzwigniaFinansowa</th>\n",
       "      <th>Zscore</th>\n",
       "      <th>wyplacalnosc</th>\n",
       "    </tr>\n",
       "  </thead>\n",
       "  <tbody>\n",
       "    <tr>\n",
       "      <th>2623</th>\n",
       "      <td>-0.20097</td>\n",
       "      <td>1.3318</td>\n",
       "      <td>-0.48012</td>\n",
       "      <td>0.61873</td>\n",
       "      <td>-0.17871</td>\n",
       "      <td>-0.22562</td>\n",
       "      <td>-0.24914</td>\n",
       "      <td>0.32792</td>\n",
       "      <td>764.72</td>\n",
       "      <td>1.0</td>\n",
       "      <td>3.4533</td>\n",
       "      <td>15.88</td>\n",
       "      <td>-0.08799</td>\n",
       "      <td>-0.18441</td>\n",
       "      <td>1401.7</td>\n",
       "      <td>0.0</td>\n",
       "      <td>0.291208</td>\n",
       "      <td>0.310388</td>\n",
       "      <td>1.0</td>\n",
       "    </tr>\n",
       "  </tbody>\n",
       "</table>\n",
       "</div>"
      ],
      "text/plain": [
       "          ROA  Zobowiazania_Aktywa  KO_Aktywa  CurrentRatio  \\\n",
       "2623 -0.20097               1.3318   -0.48012       0.61873   \n",
       "\n",
       "      Zzatrzymane_Aktywa  EBIT_Aktywa  WartRynk_WartKsDlugu  Sprzedaz_Aktywa  \\\n",
       "2623            -0.17871     -0.22562              -0.24914          0.32792   \n",
       "\n",
       "      RotacjaZapasow  PrzyrostSprzedazySpadek_BrakDanych  Rozmiar  \\\n",
       "2623          764.72                                 1.0   3.4533   \n",
       "\n",
       "      RotacjaNaleznosci  EBITDA_Aktywa  MarzaZyskuBrutto  RotacjaZobowiazan  \\\n",
       "2623              15.88       -0.08799          -0.18441             1401.7   \n",
       "\n",
       "      bankrut  DzwigniaFinansowa    Zscore  wyplacalnosc  \n",
       "2623      0.0           0.291208  0.310388           1.0  "
      ]
     },
     "execution_count": 43,
     "metadata": {},
     "output_type": "execute_result"
    }
   ],
   "source": [
    "# filtr\n",
    "train1.drop(lista).where(\n",
    "    train1.RotacjaZobowiazan == train1.drop(lista).RotacjaZobowiazan.max()).dropna()"
   ]
  },
  {
   "cell_type": "markdown",
   "metadata": {},
   "source": [
    "5681 - ujemna rotacja zobowiązań. usuwamy <br/>\n",
    "5598 - 21 lat rotacji zobowiązań. usuwamy <br/>\n",
    "5718 - 14 lat rotacji zobowiązań. usuwamy <br/>\n",
    "337 - 9 lat rotacji zobowiązań. usuwamy <br/>\n",
    "5865 - 8.5 roku rotacji zobowiązań. usuwamy <br/>\n",
    "3767 - 7.5 roku robacji zobowiązań. usuwamy <br/>\n",
    "5639 - 6.5 roku rotacji zobowiązań. usuwamy <br/>\n",
    "4118 - 5.5 roku rotacji zobowiązań. usuwamy <br/>\n",
    "5773 - 4 lata rotacji zobowiązań. usuwamy."
   ]
  },
  {
   "cell_type": "code",
   "execution_count": 44,
   "metadata": {},
   "outputs": [
    {
     "data": {
      "image/png": "[encoded data removed]",
      "text/plain": [
       "<Figure size 432x288 with 1 Axes>"
      ]
     },
     "metadata": {
      "needs_background": "light"
     },
     "output_type": "display_data"
    }
   ],
   "source": [
    "# usunięcie obserwacji uznanych za nieprawidłowe\n",
    "bye = [5681, 5598, 5718, 337, 5865, 3767, 5639, 4118]\n",
    "train1.drop(bye, inplace = True)\n",
    "\n",
    "# sprawdzenie histogramu\n",
    "train1.RotacjaZobowiazan.hist(bins = 600)\n",
    "plt.title('Rotacja zobowiązań')\n",
    "plt.show()"
   ]
  },
  {
   "cell_type": "markdown",
   "metadata": {},
   "source": [
    " - Rotacja zapasów."
   ]
  },
  {
   "cell_type": "code",
   "execution_count": 45,
   "metadata": {},
   "outputs": [
    {
     "data": {
      "image/png": "[encoded data removed]",
      "text/plain": [
       "<Figure size 432x288 with 1 Axes>"
      ]
     },
     "metadata": {
      "needs_background": "light"
     },
     "output_type": "display_data"
    }
   ],
   "source": [
    "train1.RotacjaZapasow.hist(bins = 600)\n",
    "plt.title('Rotacja zapasów')\n",
    "plt.show()"
   ]
  },
  {
   "cell_type": "code",
   "execution_count": 46,
   "metadata": {},
   "outputs": [],
   "source": [
    "# lista uzupełniana na bieżąco w korespondencji z filtrem z komórki poniżej\n",
    "lista = [3775, 5822, 2623, 4060, 2288, 89, 5537]\n",
    "\n",
    "# do usunięcia:\n",
    "# 3775, 5822, 2623, 4060, 2288, 89, 5537"
   ]
  },
  {
   "cell_type": "code",
   "execution_count": 47,
   "metadata": {},
   "outputs": [
    {
     "data": {
      "text/html": [
       "<div>\n",
       "<style scoped>\n",
       "    .dataframe tbody tr th:only-of-type {\n",
       "        vertical-align: middle;\n",
       "    }\n",
       "\n",
       "    .dataframe tbody tr th {\n",
       "        vertical-align: top;\n",
       "    }\n",
       "\n",
       "    .dataframe thead th {\n",
       "        text-align: right;\n",
       "    }\n",
       "</style>\n",
       "<table border=\"1\" class=\"dataframe\">\n",
       "  <thead>\n",
       "    <tr style=\"text-align: right;\">\n",
       "      <th></th>\n",
       "      <th>ROA</th>\n",
       "      <th>Zobowiazania_Aktywa</th>\n",
       "      <th>KO_Aktywa</th>\n",
       "      <th>CurrentRatio</th>\n",
       "      <th>Zzatrzymane_Aktywa</th>\n",
       "      <th>EBIT_Aktywa</th>\n",
       "      <th>WartRynk_WartKsDlugu</th>\n",
       "      <th>Sprzedaz_Aktywa</th>\n",
       "      <th>RotacjaZapasow</th>\n",
       "      <th>PrzyrostSprzedazySpadek_BrakDanych</th>\n",
       "      <th>Rozmiar</th>\n",
       "      <th>RotacjaNaleznosci</th>\n",
       "      <th>EBITDA_Aktywa</th>\n",
       "      <th>MarzaZyskuBrutto</th>\n",
       "      <th>RotacjaZobowiazan</th>\n",
       "      <th>bankrut</th>\n",
       "      <th>DzwigniaFinansowa</th>\n",
       "      <th>Zscore</th>\n",
       "      <th>wyplacalnosc</th>\n",
       "    </tr>\n",
       "  </thead>\n",
       "  <tbody>\n",
       "    <tr>\n",
       "      <th>559</th>\n",
       "      <td>-0.19325</td>\n",
       "      <td>0.44967</td>\n",
       "      <td>0.049913</td>\n",
       "      <td>1.2313</td>\n",
       "      <td>-0.000533</td>\n",
       "      <td>-0.19325</td>\n",
       "      <td>1.2238</td>\n",
       "      <td>0.16282</td>\n",
       "      <td>470.75</td>\n",
       "      <td>1.0</td>\n",
       "      <td>3.5337</td>\n",
       "      <td>71.676</td>\n",
       "      <td>-0.2548</td>\n",
       "      <td>-1.925</td>\n",
       "      <td>483.75</td>\n",
       "      <td>0.0</td>\n",
       "      <td>0.936894</td>\n",
       "      <td>0.164214</td>\n",
       "      <td>0.0</td>\n",
       "    </tr>\n",
       "  </tbody>\n",
       "</table>\n",
       "</div>"
      ],
      "text/plain": [
       "         ROA  Zobowiazania_Aktywa  KO_Aktywa  CurrentRatio  \\\n",
       "559 -0.19325              0.44967   0.049913        1.2313   \n",
       "\n",
       "     Zzatrzymane_Aktywa  EBIT_Aktywa  WartRynk_WartKsDlugu  Sprzedaz_Aktywa  \\\n",
       "559           -0.000533     -0.19325                1.2238          0.16282   \n",
       "\n",
       "     RotacjaZapasow  PrzyrostSprzedazySpadek_BrakDanych  Rozmiar  \\\n",
       "559          470.75                                 1.0   3.5337   \n",
       "\n",
       "     RotacjaNaleznosci  EBITDA_Aktywa  MarzaZyskuBrutto  RotacjaZobowiazan  \\\n",
       "559             71.676        -0.2548            -1.925             483.75   \n",
       "\n",
       "     bankrut  DzwigniaFinansowa    Zscore  wyplacalnosc  \n",
       "559      0.0           0.936894  0.164214           0.0  "
      ]
     },
     "execution_count": 47,
     "metadata": {},
     "output_type": "execute_result"
    }
   ],
   "source": [
    "# filtr\n",
    "train1.drop(lista).where(\n",
    "    train1.RotacjaZapasow == train1.drop(lista).RotacjaZapasow.max()).dropna()"
   ]
  },
  {
   "cell_type": "code",
   "execution_count": 48,
   "metadata": {},
   "outputs": [
    {
     "data": {
      "image/png": "[encoded data removed]",
      "text/plain": [
       "<Figure size 432x288 with 1 Axes>"
      ]
     },
     "metadata": {
      "needs_background": "light"
     },
     "output_type": "display_data"
    }
   ],
   "source": [
    "# usunięcie obserwacji uznanych za nieprawidłowe\n",
    "bye = [3775, 5822, 2623, 4060, 2288, 89, 5537]\n",
    "train1.drop(bye, inplace = True)\n",
    "\n",
    "# sprawdzenie histogramu\n",
    "train1.RotacjaZapasow.hist(bins = 600)\n",
    "plt.title('Rotacja zapasów')\n",
    "plt.show()"
   ]
  },
  {
   "cell_type": "markdown",
   "metadata": {},
   "source": [
    "4. Inne \"dziwne obserwacje\" "
   ]
  },
  {
   "cell_type": "code",
   "execution_count": 49,
   "metadata": {},
   "outputs": [
    {
     "data": {
      "text/html": [
       "<div>\n",
       "<style scoped>\n",
       "    .dataframe tbody tr th:only-of-type {\n",
       "        vertical-align: middle;\n",
       "    }\n",
       "\n",
       "    .dataframe tbody tr th {\n",
       "        vertical-align: top;\n",
       "    }\n",
       "\n",
       "    .dataframe thead th {\n",
       "        text-align: right;\n",
       "    }\n",
       "</style>\n",
       "<table border=\"1\" class=\"dataframe\">\n",
       "  <thead>\n",
       "    <tr style=\"text-align: right;\">\n",
       "      <th></th>\n",
       "      <th>ROA</th>\n",
       "      <th>Zobowiazania_Aktywa</th>\n",
       "      <th>KO_Aktywa</th>\n",
       "      <th>CurrentRatio</th>\n",
       "      <th>Zzatrzymane_Aktywa</th>\n",
       "      <th>EBIT_Aktywa</th>\n",
       "      <th>WartRynk_WartKsDlugu</th>\n",
       "      <th>Sprzedaz_Aktywa</th>\n",
       "      <th>RotacjaZapasow</th>\n",
       "      <th>PrzyrostSprzedazySpadek_BrakDanych</th>\n",
       "      <th>Rozmiar</th>\n",
       "      <th>RotacjaNaleznosci</th>\n",
       "      <th>EBITDA_Aktywa</th>\n",
       "      <th>MarzaZyskuBrutto</th>\n",
       "      <th>RotacjaZobowiazan</th>\n",
       "      <th>bankrut</th>\n",
       "      <th>DzwigniaFinansowa</th>\n",
       "      <th>Zscore</th>\n",
       "      <th>wyplacalnosc</th>\n",
       "    </tr>\n",
       "  </thead>\n",
       "  <tbody>\n",
       "    <tr>\n",
       "      <th>4265</th>\n",
       "      <td>0.000289</td>\n",
       "      <td>0.000342</td>\n",
       "      <td>0.003491</td>\n",
       "      <td>16.831</td>\n",
       "      <td>-0.20989</td>\n",
       "      <td>0.000353</td>\n",
       "      <td>2922.0</td>\n",
       "      <td>0.000191</td>\n",
       "      <td>0.0</td>\n",
       "      <td>0.0</td>\n",
       "      <td>5.7901</td>\n",
       "      <td>535.13</td>\n",
       "      <td>-0.002904</td>\n",
       "      <td>0.94915</td>\n",
       "      <td>420.68</td>\n",
       "      <td>0.0</td>\n",
       "      <td>-8.215426</td>\n",
       "      <td>17.529306</td>\n",
       "      <td>0.0</td>\n",
       "    </tr>\n",
       "  </tbody>\n",
       "</table>\n",
       "</div>"
      ],
      "text/plain": [
       "           ROA  Zobowiazania_Aktywa  KO_Aktywa  CurrentRatio  \\\n",
       "4265  0.000289             0.000342   0.003491        16.831   \n",
       "\n",
       "      Zzatrzymane_Aktywa  EBIT_Aktywa  WartRynk_WartKsDlugu  Sprzedaz_Aktywa  \\\n",
       "4265            -0.20989     0.000353                2922.0         0.000191   \n",
       "\n",
       "      RotacjaZapasow  PrzyrostSprzedazySpadek_BrakDanych  Rozmiar  \\\n",
       "4265             0.0                                 0.0   5.7901   \n",
       "\n",
       "      RotacjaNaleznosci  EBITDA_Aktywa  MarzaZyskuBrutto  RotacjaZobowiazan  \\\n",
       "4265             535.13      -0.002904           0.94915             420.68   \n",
       "\n",
       "      bankrut  DzwigniaFinansowa     Zscore  wyplacalnosc  \n",
       "4265      0.0          -8.215426  17.529306           0.0  "
      ]
     },
     "execution_count": 49,
     "metadata": {},
     "output_type": "execute_result"
    }
   ],
   "source": [
    "train1.where(train1.WartRynk_WartKsDlugu == train1.WartRynk_WartKsDlugu.max()).dropna()"
   ]
  },
  {
   "cell_type": "markdown",
   "metadata": {},
   "source": [
    "Bardzo małe zadłużenie - zatem jest to wytłumaczalna obserwacja. <br/>\n",
    "W toku analizy stwierdzono, że dźwignia finansowa nie jest zmienną na tyle istotną, aby umieszczać ją w modelu ogólnym, a tym bardziej na jej podstawie usuwać obserwacje<br/>\n",
    "**Wykresy pudełkowe po oczyszczaniu**"
   ]
  },
  {
   "cell_type": "code",
   "execution_count": 50,
   "metadata": {},
   "outputs": [
    {
     "data": {
      "image/png": "[encoded data removed]",
      "text/plain": [
       "<Figure size 864x864 with 16 Axes>"
      ]
     },
     "metadata": {
      "needs_background": "light"
     },
     "output_type": "display_data"
    },
    {
     "name": "stdout",
     "output_type": "stream",
     "text": [
      "train1\n",
      "bankruci: 6.33% liczebność: 296\n",
      "niebankruci: 93.67% liczebność: 4379\n"
     ]
    }
   ],
   "source": [
    "rozmiar = subplotShape(np.array(num), 4)\n",
    "\n",
    "f, ax = plt.subplots(nrows = rozmiar[0], ncols = rozmiar[1], figsize = (12, 12))\n",
    "flag = 0\n",
    "for r in range(rozmiar[0]):\n",
    "    for c in range(rozmiar[1]):\n",
    "        try:\n",
    "            ax[r, c].boxplot(train1[num[flag]], labels = [num[flag]])\n",
    "            flag += 1\n",
    "        except:\n",
    "            pass\n",
    "\n",
    "plt.show()\n",
    "\n",
    "\n",
    "print('train1\\nbankruci: {}% liczebność: {}\\nniebankruci: {}% liczebność: {}'.format(\n",
    "    round(sum(train1['bankrut'] == 1)/train1.shape[0]*100, 2),\n",
    "    sum(train1['bankrut'] == 1),\n",
    "    round(sum(train1['bankrut'] == 0)/train1.shape[0]*100, 2),\n",
    "    sum(train1['bankrut'] == 0)))"
   ]
  },
  {
   "cell_type": "markdown",
   "metadata": {},
   "source": [
    "#### Testowanie różnic średnich między populacjami"
   ]
  },
  {
   "cell_type": "code",
   "execution_count": 51,
   "metadata": {},
   "outputs": [],
   "source": [
    "# funkcja do liczenia statystyki porównującej dwie populacje.\n",
    "# Autor: Maciej Odziemczyk, student, Wydział Nauk Ekonomicznych UW, maj 2020.\n",
    "# funkcja zwraca statystykę, wartość krytyczną i p_value dla H0: mi1 = mi2 i HA dwustronnej mi != m2, lub HA jednostronnej\n",
    "    # mi1 > mi2. W celu przetestowania HA mi1 < mi2, należy przy podawaniu argumentów zamienić wektory miejscami. \n",
    "# argumenty, dokumentacja:\n",
    "#     a i b to realizacje obsewracji z dwóch populacji, powinny być podane jako wektory numpy\n",
    "#     alfa - poziom ufności (0;1)\n",
    "#     alternative - wybór hipotezy alternatywnej, 'two-sided' - HA: mia != mib, 'one-sided' - HA: mia > mib\n",
    "\n",
    "def popMeanTest(a, b, alfa = 0.05, alternative = 'two-sided'):\n",
    "    # import rozkładu normalnego\n",
    "    from scipy.stats import norm\n",
    "    \n",
    "    # statystyka testowa\n",
    "    stat = (a.mean()-b.mean())/(((a.var()/a.shape[0])+(b.var()/b.shape[0]))**(1/2))\n",
    "    \n",
    "    # wartość krytyczna i p_value dla wybranej hipotezy alternatywnej\n",
    "    if alternative == 'two-sided':\n",
    "        critical_value = norm.ppf(q = 1-alfa/2)\n",
    "        p = 2*(1-norm.cdf(abs(stat)))  \n",
    "    elif alternative == 'one-sided':\n",
    "        critical_value = norm.ppf(q = 1-alfa)\n",
    "        p = 1-norm.cdf(abs(stat))\n",
    "    else:\n",
    "        raise 'niepoprawny wynik, sprawdź argumenty'\n",
    "    \n",
    "    # zwrócenie wyników\n",
    "    return stat, critical_value, p      "
   ]
  },
  {
   "cell_type": "code",
   "execution_count": 52,
   "metadata": {},
   "outputs": [],
   "source": [
    "# skopiowanie oczyszczonego train1 do train\n",
    "train = train1.copy()"
   ]
  },
  {
   "cell_type": "code",
   "execution_count": 53,
   "metadata": {},
   "outputs": [],
   "source": [
    "# podzielenie próbki na bankrutów i niebankrutów\n",
    "\n",
    "# sortowanie \n",
    "train = train.sort_values(by = 'bankrut', axis = 0)\n",
    "\n",
    "# podział\n",
    "niebankruci = train.iloc[:train.sort_values(by = 'bankrut', axis = 0).bankrut.value_counts()[0], :]\n",
    "bankruci = train.iloc[train.sort_values(by = 'bankrut', axis = 0).bankrut.value_counts()[0]:, :]"
   ]
  },
  {
   "cell_type": "code",
   "execution_count": 54,
   "metadata": {},
   "outputs": [
    {
     "data": {
      "text/html": [
       "<div>\n",
       "<style scoped>\n",
       "    .dataframe tbody tr th:only-of-type {\n",
       "        vertical-align: middle;\n",
       "    }\n",
       "\n",
       "    .dataframe tbody tr th {\n",
       "        vertical-align: top;\n",
       "    }\n",
       "\n",
       "    .dataframe thead th {\n",
       "        text-align: right;\n",
       "    }\n",
       "</style>\n",
       "<table border=\"1\" class=\"dataframe\">\n",
       "  <thead>\n",
       "    <tr style=\"text-align: right;\">\n",
       "      <th></th>\n",
       "      <th>zmienna</th>\n",
       "      <th>U</th>\n",
       "      <th>wartość krytyczna</th>\n",
       "      <th>p_value</th>\n",
       "    </tr>\n",
       "  </thead>\n",
       "  <tbody>\n",
       "    <tr>\n",
       "      <th>0</th>\n",
       "      <td>CurrentRatio</td>\n",
       "      <td>-0.016867</td>\n",
       "      <td>1.959964</td>\n",
       "      <td>0.98654</td>\n",
       "    </tr>\n",
       "    <tr>\n",
       "      <th>1</th>\n",
       "      <td>WartRynk_WartKsDlugu</td>\n",
       "      <td>-0.812942</td>\n",
       "      <td>1.959964</td>\n",
       "      <td>0.41625</td>\n",
       "    </tr>\n",
       "    <tr>\n",
       "      <th>2</th>\n",
       "      <td>RotacjaZapasow</td>\n",
       "      <td>1.643559</td>\n",
       "      <td>1.959964</td>\n",
       "      <td>0.10027</td>\n",
       "    </tr>\n",
       "    <tr>\n",
       "      <th>3</th>\n",
       "      <td>RotacjaNaleznosci</td>\n",
       "      <td>-0.057591</td>\n",
       "      <td>1.959964</td>\n",
       "      <td>0.95407</td>\n",
       "    </tr>\n",
       "    <tr>\n",
       "      <th>4</th>\n",
       "      <td>DzwigniaFinansowa</td>\n",
       "      <td>-0.409450</td>\n",
       "      <td>1.959964</td>\n",
       "      <td>0.68221</td>\n",
       "    </tr>\n",
       "  </tbody>\n",
       "</table>\n",
       "</div>"
      ],
      "text/plain": [
       "                zmienna         U  wartość krytyczna  p_value\n",
       "0          CurrentRatio -0.016867           1.959964  0.98654\n",
       "1  WartRynk_WartKsDlugu -0.812942           1.959964  0.41625\n",
       "2        RotacjaZapasow  1.643559           1.959964  0.10027\n",
       "3     RotacjaNaleznosci -0.057591           1.959964  0.95407\n",
       "4     DzwigniaFinansowa -0.409450           1.959964  0.68221"
      ]
     },
     "metadata": {},
     "output_type": "display_data"
    }
   ],
   "source": [
    "# listy, w których będą zapisane wyniki\n",
    "stats = []\n",
    "critics = []\n",
    "pvals = []\n",
    "atr = []\n",
    "\n",
    "for n in num:\n",
    "    # testowanie\n",
    "    s, crt, p = popMeanTest(np.array(bankruci[n]), np.array(niebankruci[n]), alternative='two-sided')\n",
    "    # zapisanie wyników\n",
    "    stats.append(s)\n",
    "    critics.append(crt)\n",
    "    pvals.append(round(p, 5))\n",
    "    atr.append(n)\n",
    "    \n",
    "# zapisanie wyników do obiektu DataFrame\n",
    "srednie = pd.DataFrame(data = {\"zmienna\":atr, \"U\":stats, \"wartość krytyczna\":critics, \"p_value\":pvals})\n",
    "\n",
    "# usunięcie z obiektu zmiennych z p < 0.05\n",
    "srednie = srednie.where(srednie['p_value'] > 0.05).dropna()\n",
    "\n",
    "# porządkowanie indeksów\n",
    "srednie.reset_index(inplace = True, drop = True)\n",
    "\n",
    "# wyświetlenie wyników\n",
    "display(srednie)"
   ]
  },
  {
   "cell_type": "markdown",
   "metadata": {},
   "source": [
    "Z powyższej analizy wynika, że średnie dla podpróbek są statystycznie takie same dla zmiennych: Current Ratio, Wartość rynkowa/wartość księgowa długu, Rotacja zapasów i Rotacja należności (alfa 5). Można zatem spodziewać się nieistotności tych zmiennych. "
   ]
  },
  {
   "cell_type": "markdown",
   "metadata": {},
   "source": [
    "#### Macierz korelacji Spearmana (zmienne nie mają rozkładów normalnych)"
   ]
  },
  {
   "cell_type": "code",
   "execution_count": 55,
   "metadata": {},
   "outputs": [],
   "source": [
    "# import funkcji do liczenia korelacji spearmana i p_value\n",
    "from scipy.stats import spearmanr"
   ]
  },
  {
   "cell_type": "code",
   "execution_count": 56,
   "metadata": {},
   "outputs": [
    {
     "data": {
      "image/png": "[encoded data removed]",
      "text/plain": [
       "<Figure size 900x720 with 2 Axes>"
      ]
     },
     "metadata": {
      "needs_background": "light"
     },
     "output_type": "display_data"
    }
   ],
   "source": [
    "import seaborn as sns\n",
    "import matplotlib.pyplot as plt\n",
    "plt.figure(figsize=(12.5,10))\n",
    "\n",
    "\n",
    "correl = np.round(train[num].corr(method = 'spearman'), 2)\n",
    "sns.heatmap(correl, cmap=\"YlGnBu\", annot=True, cbar=True)\n",
    "plt.title('Heatmapa macierzy korelacji Spearmana')\n",
    "plt.show()"
   ]
  },
  {
   "cell_type": "code",
   "execution_count": 57,
   "metadata": {},
   "outputs": [
    {
     "name": "stdout",
     "output_type": "stream",
     "text": [
      "Zmienne skorelowane >= 0.8\n"
     ]
    },
    {
     "data": {
      "text/html": [
       "<div>\n",
       "<style scoped>\n",
       "    .dataframe tbody tr th:only-of-type {\n",
       "        vertical-align: middle;\n",
       "    }\n",
       "\n",
       "    .dataframe tbody tr th {\n",
       "        vertical-align: top;\n",
       "    }\n",
       "\n",
       "    .dataframe thead th {\n",
       "        text-align: right;\n",
       "    }\n",
       "</style>\n",
       "<table border=\"1\" class=\"dataframe\">\n",
       "  <thead>\n",
       "    <tr style=\"text-align: right;\">\n",
       "      <th></th>\n",
       "      <th>zmienna1</th>\n",
       "      <th>zmienna2</th>\n",
       "      <th>korelacja</th>\n",
       "      <th>p_value</th>\n",
       "    </tr>\n",
       "  </thead>\n",
       "  <tbody>\n",
       "    <tr>\n",
       "      <th>0</th>\n",
       "      <td>EBIT_Aktywa</td>\n",
       "      <td>ROA</td>\n",
       "      <td>0.986642</td>\n",
       "      <td>0.0</td>\n",
       "    </tr>\n",
       "    <tr>\n",
       "      <th>1</th>\n",
       "      <td>WartRynk_WartKsDlugu</td>\n",
       "      <td>Zobowiazania_Aktywa</td>\n",
       "      <td>-0.995572</td>\n",
       "      <td>0.0</td>\n",
       "    </tr>\n",
       "    <tr>\n",
       "      <th>2</th>\n",
       "      <td>CurrentRatio</td>\n",
       "      <td>KO_Aktywa</td>\n",
       "      <td>0.925328</td>\n",
       "      <td>0.0</td>\n",
       "    </tr>\n",
       "    <tr>\n",
       "      <th>3</th>\n",
       "      <td>EBITDA_Aktywa</td>\n",
       "      <td>EBIT_Aktywa</td>\n",
       "      <td>0.802079</td>\n",
       "      <td>0.0</td>\n",
       "    </tr>\n",
       "    <tr>\n",
       "      <th>4</th>\n",
       "      <td>Zscore</td>\n",
       "      <td>Sprzedaz_Aktywa</td>\n",
       "      <td>0.986159</td>\n",
       "      <td>0.0</td>\n",
       "    </tr>\n",
       "  </tbody>\n",
       "</table>\n",
       "</div>"
      ],
      "text/plain": [
       "               zmienna1             zmienna2  korelacja  p_value\n",
       "0           EBIT_Aktywa                  ROA   0.986642      0.0\n",
       "1  WartRynk_WartKsDlugu  Zobowiazania_Aktywa  -0.995572      0.0\n",
       "2          CurrentRatio            KO_Aktywa   0.925328      0.0\n",
       "3         EBITDA_Aktywa          EBIT_Aktywa   0.802079      0.0\n",
       "4                Zscore      Sprzedaz_Aktywa   0.986159      0.0"
      ]
     },
     "metadata": {},
     "output_type": "display_data"
    }
   ],
   "source": [
    "# obliczenie korelacji spearmana i p_value (wartościowe, w przypadku prób > 500 obserwacji - spełnione)\n",
    "# H0: zmienne są nieskorelowane\n",
    "\n",
    "# obliczenie współczynnika i p_value, zaokraglonych do 7 miejsca po przecinku (wcześniej korelacja np. a z a = 0.999999998)\n",
    "coef, p = np.round(spearmanr(train[num]),7)\n",
    "\n",
    "# zapis statystyki do obiektu DataFrame\n",
    "spearman = pd.DataFrame(coef, index = train[num].columns.tolist(), columns = train[num].columns.tolist())\n",
    "\n",
    "# zapis p_value do obiektu DataFrame\n",
    "p_value = pd.DataFrame(np.round(p,5), index = train[num].columns.tolist(), columns = train[num].columns.tolist())\n",
    "\n",
    "# listy, w których będą przechowywane informacje\n",
    "zmienna1 = []\n",
    "zmienna2 = []\n",
    "korelacja = []\n",
    "p = []\n",
    "\n",
    "# poziom korelacji, powyżej którego chcę mieć informacje\n",
    "b = 0.8\n",
    "\n",
    "for i in range(spearman.shape[0]):\n",
    "    for j in range(spearman.shape[0]):\n",
    "        \n",
    "        # warunek (nie chcę korelacji zmiennych między nimi samymi)\n",
    "        if np.abs(spearman.iloc[i,j]) >= b and spearman.iloc[i,j] != 1.0:\n",
    "            \n",
    "            # zapis wyników do list\n",
    "            zmienna1.append(spearman.iloc[:, j].name)\n",
    "            zmienna2.append(spearman.index[i])\n",
    "            korelacja.append(spearman.iloc[i,j])\n",
    "            p.append(p_value.iloc[i,j])\n",
    "\n",
    "# tworzenie obiektu data frame z list wynikowych\n",
    "spearmanRes = pd.DataFrame({'zmienna1':zmienna1, \"zmienna2\":zmienna2, \"korelacja\":korelacja, \"p_value\":p})\n",
    "\n",
    "# usuwanie duplikatów ze względu na korelację (możliwe dwukrotne ujęcie tej samej zależności)\n",
    "spearmanRes.drop_duplicates(subset = 'korelacja', inplace = True)\n",
    "\n",
    "# porządkowanie indeksów\n",
    "spearmanRes.reset_index(inplace = True, drop = True)\n",
    "\n",
    "# wyświetlenie wyników\n",
    "print('Zmienne skorelowane >= {}'.format(b))\n",
    "display(spearmanRes)"
   ]
  },
  {
   "cell_type": "markdown",
   "metadata": {},
   "source": [
    "Z tabeli można zauważyć, że wszystkie współczynniki są istotne statystycznie <br/>\n",
    "**Scatterploty**, w celu lepszego zobrazowania wyników."
   ]
  },
  {
   "cell_type": "code",
   "execution_count": 58,
   "metadata": {},
   "outputs": [
    {
     "data": {
      "image/png": "[encoded data removed]",
      "text/plain": [
       "<Figure size 1440x720 with 8 Axes>"
      ]
     },
     "metadata": {
      "needs_background": "light"
     },
     "output_type": "display_data"
    }
   ],
   "source": [
    "rozmiar = subplotShape(spearmanRes.zmienna1, 4)\n",
    "\n",
    "f, ax = plt.subplots(nrows = rozmiar[0], ncols = rozmiar[1], figsize = (20,10))\n",
    "flag = 0\n",
    "for r in range(rozmiar[0]):\n",
    "    for c in range(rozmiar[1]):\n",
    "        ax[r, c].set_visible(False)\n",
    "        try:\n",
    "            ax[r, c].scatter(train[spearmanRes.iloc[flag,0]], train[spearmanRes.iloc[flag,1]])\n",
    "            ax[r, c].set_xlabel(spearmanRes.iloc[flag,0])\n",
    "            ax[r, c].set_ylabel(spearmanRes.iloc[flag,1])\n",
    "            flag += 1\n",
    "            ax[r, c].set_visible(True)\n",
    "        except:\n",
    "            pass\n",
    "plt.show()"
   ]
  },
  {
   "cell_type": "markdown",
   "metadata": {},
   "source": [
    "Zrzutowanie wyników daje dodatkowy pogląd na rodzaj zależności między zmiennymi, bowiem współczynnik Spearmana wykrywa również nieliniowości.<br/>\n",
    "1. Liniowe zależności:\n",
    " - ROA i EBIT/Aktywa\n",
    " - EBIT/Aktywa i EBITDA/Aktywa\n",
    " - Sprzedaż/Aktywa i Zscore\n",
    "2. Nieliniowe zależności:\n",
    " - Zobowiązania/Aktywa i Wartość rynkowa/Wartość księgowa długu\n",
    " - Kapitał obrotowy/Aktywa i Current ratio\n",
    "\n",
    "Wyniki utwierdzają w przekonaniu o nieprzydatności zmiennej EBITDA/Aktywa. Nie zostanie ona zatem ujęta w modelu ogólnym. Dodatkowo, można spodziewać się wysokiej inflacji wariancji w przypadku pozostawienia zmiennych ROA i EBIT/Aktywa. Warto to sprawdzić."
   ]
  },
  {
   "cell_type": "markdown",
   "metadata": {},
   "source": [
    "#### Wskaźnik inflacji wariancji\n",
    "Źródło:<br/>\n",
    "http://sigmaquality.pl/uncategorized/multicollinearity-w-regresji-logistycznej-vif-pl202001081905"
   ]
  },
  {
   "cell_type": "code",
   "execution_count": 59,
   "metadata": {},
   "outputs": [],
   "source": [
    "# import bibliotek i funkcji\n",
    "from patsy import dmatrices\n",
    "from statsmodels.stats.outliers_influence import variance_inflation_factor\n",
    "import statsmodels.formula.api as smf"
   ]
  },
  {
   "cell_type": "code",
   "execution_count": 60,
   "metadata": {},
   "outputs": [],
   "source": [
    "# lista zmiennych - do formuły\n",
    "zmienne = train.columns.tolist()\n",
    "\n",
    "# usunięcie z listy zmiennej zależnej, zmiennej Altmana oraz zdiagnozowanej jako niepoprawną - EBITDA\n",
    "zmienne.remove('bankrut')\n",
    "zmienne.remove('Zscore')\n",
    "zmienne.remove('EBITDA_Aktywa')\n",
    "\n",
    "# formuła\n",
    "formula = 'bankrut~{}+I(Rozmiar**2)+wyplacalnosc:PrzyrostSprzedazySpadek_BrakDanych'.format('+'.join(zmienne))"
   ]
  },
  {
   "cell_type": "code",
   "execution_count": 61,
   "metadata": {},
   "outputs": [
    {
     "data": {
      "text/html": [
       "<div>\n",
       "<style scoped>\n",
       "    .dataframe tbody tr th:only-of-type {\n",
       "        vertical-align: middle;\n",
       "    }\n",
       "\n",
       "    .dataframe tbody tr th {\n",
       "        vertical-align: top;\n",
       "    }\n",
       "\n",
       "    .dataframe thead th {\n",
       "        text-align: right;\n",
       "    }\n",
       "</style>\n",
       "<table border=\"1\" class=\"dataframe\">\n",
       "  <thead>\n",
       "    <tr style=\"text-align: right;\">\n",
       "      <th></th>\n",
       "      <th>Zmienna</th>\n",
       "      <th>VIF</th>\n",
       "    </tr>\n",
       "  </thead>\n",
       "  <tbody>\n",
       "    <tr>\n",
       "      <th>0</th>\n",
       "      <td>Intercept</td>\n",
       "      <td>299.59</td>\n",
       "    </tr>\n",
       "    <tr>\n",
       "      <th>1</th>\n",
       "      <td>ROA</td>\n",
       "      <td>26.76</td>\n",
       "    </tr>\n",
       "    <tr>\n",
       "      <th>2</th>\n",
       "      <td>Zobowiazania_Aktywa</td>\n",
       "      <td>3.25</td>\n",
       "    </tr>\n",
       "    <tr>\n",
       "      <th>3</th>\n",
       "      <td>KO_Aktywa</td>\n",
       "      <td>3.70</td>\n",
       "    </tr>\n",
       "    <tr>\n",
       "      <th>4</th>\n",
       "      <td>CurrentRatio</td>\n",
       "      <td>1.17</td>\n",
       "    </tr>\n",
       "    <tr>\n",
       "      <th>5</th>\n",
       "      <td>Zzatrzymane_Aktywa</td>\n",
       "      <td>1.02</td>\n",
       "    </tr>\n",
       "    <tr>\n",
       "      <th>6</th>\n",
       "      <td>EBIT_Aktywa</td>\n",
       "      <td>26.92</td>\n",
       "    </tr>\n",
       "    <tr>\n",
       "      <th>7</th>\n",
       "      <td>WartRynk_WartKsDlugu</td>\n",
       "      <td>1.15</td>\n",
       "    </tr>\n",
       "    <tr>\n",
       "      <th>8</th>\n",
       "      <td>Sprzedaz_Aktywa</td>\n",
       "      <td>1.60</td>\n",
       "    </tr>\n",
       "    <tr>\n",
       "      <th>9</th>\n",
       "      <td>RotacjaZapasow</td>\n",
       "      <td>1.33</td>\n",
       "    </tr>\n",
       "    <tr>\n",
       "      <th>10</th>\n",
       "      <td>PrzyrostSprzedazySpadek_BrakDanych</td>\n",
       "      <td>1.19</td>\n",
       "    </tr>\n",
       "    <tr>\n",
       "      <th>11</th>\n",
       "      <td>Rozmiar</td>\n",
       "      <td>37.77</td>\n",
       "    </tr>\n",
       "    <tr>\n",
       "      <th>12</th>\n",
       "      <td>RotacjaNaleznosci</td>\n",
       "      <td>1.41</td>\n",
       "    </tr>\n",
       "    <tr>\n",
       "      <th>13</th>\n",
       "      <td>MarzaZyskuBrutto</td>\n",
       "      <td>1.25</td>\n",
       "    </tr>\n",
       "    <tr>\n",
       "      <th>14</th>\n",
       "      <td>RotacjaZobowiazan</td>\n",
       "      <td>2.46</td>\n",
       "    </tr>\n",
       "    <tr>\n",
       "      <th>15</th>\n",
       "      <td>DzwigniaFinansowa</td>\n",
       "      <td>1.03</td>\n",
       "    </tr>\n",
       "    <tr>\n",
       "      <th>16</th>\n",
       "      <td>wyplacalnosc</td>\n",
       "      <td>2.30</td>\n",
       "    </tr>\n",
       "    <tr>\n",
       "      <th>17</th>\n",
       "      <td>I(Rozmiar ** 2)</td>\n",
       "      <td>35.88</td>\n",
       "    </tr>\n",
       "    <tr>\n",
       "      <th>18</th>\n",
       "      <td>wyplacalnosc:PrzyrostSprzedazySpadek_BrakDanych</td>\n",
       "      <td>1.95</td>\n",
       "    </tr>\n",
       "  </tbody>\n",
       "</table>\n",
       "</div>"
      ],
      "text/plain": [
       "                                            Zmienna     VIF\n",
       "0                                         Intercept  299.59\n",
       "1                                               ROA   26.76\n",
       "2                               Zobowiazania_Aktywa    3.25\n",
       "3                                         KO_Aktywa    3.70\n",
       "4                                      CurrentRatio    1.17\n",
       "5                                Zzatrzymane_Aktywa    1.02\n",
       "6                                       EBIT_Aktywa   26.92\n",
       "7                              WartRynk_WartKsDlugu    1.15\n",
       "8                                   Sprzedaz_Aktywa    1.60\n",
       "9                                    RotacjaZapasow    1.33\n",
       "10               PrzyrostSprzedazySpadek_BrakDanych    1.19\n",
       "11                                          Rozmiar   37.77\n",
       "12                                RotacjaNaleznosci    1.41\n",
       "13                                 MarzaZyskuBrutto    1.25\n",
       "14                                RotacjaZobowiazan    2.46\n",
       "15                                DzwigniaFinansowa    1.03\n",
       "16                                     wyplacalnosc    2.30\n",
       "17                                  I(Rozmiar ** 2)   35.88\n",
       "18  wyplacalnosc:PrzyrostSprzedazySpadek_BrakDanych    1.95"
      ]
     },
     "execution_count": 61,
     "metadata": {},
     "output_type": "execute_result"
    }
   ],
   "source": [
    "# model odporny na heteroskedastyczność\n",
    "lm = smf.ols(formula = formula, data = train).fit(cov_type = 'HC0')\n",
    "\n",
    "# macierz X i VIF\n",
    "y, X = dmatrices(formula, data = train, return_type = \"dataframe\")\n",
    "vif = np.round([variance_inflation_factor(X.values, i) for i in range(X.shape[1])], 2)\n",
    "\n",
    "# przystosowanie wyników do wyświetlenia\n",
    "vif = list(map(float, vif))\n",
    "name = list(X)\n",
    "\n",
    "s1 = pd.Series(name, name = 'Zmienna')\n",
    "s2 = pd.Series(vif, name = 'VIF')\n",
    "\n",
    "VIF_results = pd.concat([s1,s2], axis = 1)\n",
    "VIF_results"
   ]
  },
  {
   "cell_type": "markdown",
   "metadata": {},
   "source": [
    "Jedynym niepokojącym wynikiem jest ROA i EBIT/Aktywa, co można było zaobserwować już wcześniej, zarówno na heatmapie jak i w tabeli korelacji > 0.8 oraz wykresach rozrzutu. Większą inflacją charakteryzuje się EBIT, zatem należy się go pozbyć ze zbioru zmiennych objaśniających przed przystąpieniem do estymacji w celu uniknięcia problemu współliniowości zmiennych niezależnych. Wyskoie VIF w przypadku interakcji potęgowych tej samej zmiennej jest logiczne i nie należy się tym przejmować.<br/>\n",
    "VIF po usunięciu EBIT/Aktywa:"
   ]
  },
  {
   "cell_type": "code",
   "execution_count": 62,
   "metadata": {},
   "outputs": [
    {
     "data": {
      "text/html": [
       "<div>\n",
       "<style scoped>\n",
       "    .dataframe tbody tr th:only-of-type {\n",
       "        vertical-align: middle;\n",
       "    }\n",
       "\n",
       "    .dataframe tbody tr th {\n",
       "        vertical-align: top;\n",
       "    }\n",
       "\n",
       "    .dataframe thead th {\n",
       "        text-align: right;\n",
       "    }\n",
       "</style>\n",
       "<table border=\"1\" class=\"dataframe\">\n",
       "  <thead>\n",
       "    <tr style=\"text-align: right;\">\n",
       "      <th></th>\n",
       "      <th>Zmienna</th>\n",
       "      <th>VIF</th>\n",
       "    </tr>\n",
       "  </thead>\n",
       "  <tbody>\n",
       "    <tr>\n",
       "      <th>0</th>\n",
       "      <td>Intercept</td>\n",
       "      <td>299.42</td>\n",
       "    </tr>\n",
       "    <tr>\n",
       "      <th>1</th>\n",
       "      <td>ROA</td>\n",
       "      <td>1.65</td>\n",
       "    </tr>\n",
       "    <tr>\n",
       "      <th>2</th>\n",
       "      <td>Zobowiazania_Aktywa</td>\n",
       "      <td>3.25</td>\n",
       "    </tr>\n",
       "    <tr>\n",
       "      <th>3</th>\n",
       "      <td>KO_Aktywa</td>\n",
       "      <td>3.69</td>\n",
       "    </tr>\n",
       "    <tr>\n",
       "      <th>4</th>\n",
       "      <td>CurrentRatio</td>\n",
       "      <td>1.17</td>\n",
       "    </tr>\n",
       "    <tr>\n",
       "      <th>5</th>\n",
       "      <td>Zzatrzymane_Aktywa</td>\n",
       "      <td>1.02</td>\n",
       "    </tr>\n",
       "    <tr>\n",
       "      <th>6</th>\n",
       "      <td>WartRynk_WartKsDlugu</td>\n",
       "      <td>1.15</td>\n",
       "    </tr>\n",
       "    <tr>\n",
       "      <th>7</th>\n",
       "      <td>Sprzedaz_Aktywa</td>\n",
       "      <td>1.58</td>\n",
       "    </tr>\n",
       "    <tr>\n",
       "      <th>8</th>\n",
       "      <td>RotacjaZapasow</td>\n",
       "      <td>1.32</td>\n",
       "    </tr>\n",
       "    <tr>\n",
       "      <th>9</th>\n",
       "      <td>PrzyrostSprzedazySpadek_BrakDanych</td>\n",
       "      <td>1.18</td>\n",
       "    </tr>\n",
       "    <tr>\n",
       "      <th>10</th>\n",
       "      <td>Rozmiar</td>\n",
       "      <td>37.74</td>\n",
       "    </tr>\n",
       "    <tr>\n",
       "      <th>11</th>\n",
       "      <td>RotacjaNaleznosci</td>\n",
       "      <td>1.40</td>\n",
       "    </tr>\n",
       "    <tr>\n",
       "      <th>12</th>\n",
       "      <td>MarzaZyskuBrutto</td>\n",
       "      <td>1.25</td>\n",
       "    </tr>\n",
       "    <tr>\n",
       "      <th>13</th>\n",
       "      <td>RotacjaZobowiazan</td>\n",
       "      <td>2.45</td>\n",
       "    </tr>\n",
       "    <tr>\n",
       "      <th>14</th>\n",
       "      <td>DzwigniaFinansowa</td>\n",
       "      <td>1.03</td>\n",
       "    </tr>\n",
       "    <tr>\n",
       "      <th>15</th>\n",
       "      <td>wyplacalnosc</td>\n",
       "      <td>2.30</td>\n",
       "    </tr>\n",
       "    <tr>\n",
       "      <th>16</th>\n",
       "      <td>I(Rozmiar ** 2)</td>\n",
       "      <td>35.86</td>\n",
       "    </tr>\n",
       "    <tr>\n",
       "      <th>17</th>\n",
       "      <td>wyplacalnosc:PrzyrostSprzedazySpadek_BrakDanych</td>\n",
       "      <td>1.94</td>\n",
       "    </tr>\n",
       "  </tbody>\n",
       "</table>\n",
       "</div>"
      ],
      "text/plain": [
       "                                            Zmienna     VIF\n",
       "0                                         Intercept  299.42\n",
       "1                                               ROA    1.65\n",
       "2                               Zobowiazania_Aktywa    3.25\n",
       "3                                         KO_Aktywa    3.69\n",
       "4                                      CurrentRatio    1.17\n",
       "5                                Zzatrzymane_Aktywa    1.02\n",
       "6                              WartRynk_WartKsDlugu    1.15\n",
       "7                                   Sprzedaz_Aktywa    1.58\n",
       "8                                    RotacjaZapasow    1.32\n",
       "9                PrzyrostSprzedazySpadek_BrakDanych    1.18\n",
       "10                                          Rozmiar   37.74\n",
       "11                                RotacjaNaleznosci    1.40\n",
       "12                                 MarzaZyskuBrutto    1.25\n",
       "13                                RotacjaZobowiazan    2.45\n",
       "14                                DzwigniaFinansowa    1.03\n",
       "15                                     wyplacalnosc    2.30\n",
       "16                                  I(Rozmiar ** 2)   35.86\n",
       "17  wyplacalnosc:PrzyrostSprzedazySpadek_BrakDanych    1.94"
      ]
     },
     "execution_count": 62,
     "metadata": {},
     "output_type": "execute_result"
    }
   ],
   "source": [
    "# usunięcie EBIT/Aktywa z listy zmiennych\n",
    "zmienne.remove('EBIT_Aktywa')\n",
    "\n",
    "# formuła\n",
    "formula = 'bankrut~{}+I(Rozmiar**2)+wyplacalnosc:PrzyrostSprzedazySpadek_BrakDanych'.format('+'.join(zmienne))\n",
    "\n",
    "# model odporny na heteroskedastyczność\n",
    "lm = smf.ols(formula = formula, data = train).fit(cov_type = 'HC0')\n",
    "\n",
    "# macierz X i VIF\n",
    "y, X = dmatrices(formula, data = train, return_type = \"dataframe\")\n",
    "vif = np.round([variance_inflation_factor(X.values, i) for i in range(X.shape[1])], 2)\n",
    "\n",
    "# przystosowanie wyników do wyświetlenia\n",
    "vif = list(map(float, vif))\n",
    "name = list(X)\n",
    "\n",
    "s1 = pd.Series(name, name = 'Zmienna')\n",
    "s2 = pd.Series(vif, name = 'VIF')\n",
    "\n",
    "VIF_results = pd.concat([s1,s2], axis = 1)\n",
    "VIF_results"
   ]
  },
  {
   "cell_type": "markdown",
   "metadata": {},
   "source": [
    "Po usunięciu EBIT/Aktywa, problem współliniowości zniknął z modelu - ROA ma bardzo niską wartość VIF. Można zatem przystąpić do estymacji."
   ]
  },
  {
   "cell_type": "markdown",
   "metadata": {},
   "source": [
    "#### Estymacja"
   ]
  },
  {
   "cell_type": "code",
   "execution_count": 63,
   "metadata": {},
   "outputs": [],
   "source": [
    "# import potrzebnych bibliotek i funkcji\n",
    "import statsmodels.api as sm\n",
    "from statsmodels.formula.api import logit, probit, ols"
   ]
  },
  {
   "cell_type": "code",
   "execution_count": 64,
   "metadata": {
    "scrolled": false
   },
   "outputs": [
    {
     "name": "stdout",
     "output_type": "stream",
     "text": [
      "                                Results: Ordinary least squares\n",
      "===============================================================================================\n",
      "Model:                         OLS                       Adj. R-squared:              0.162    \n",
      "Dependent Variable:            bankrut                   AIC:                         -744.6922\n",
      "Date:                          2020-05-20 13:50          BIC:                         -628.5925\n",
      "No. Observations:              4675                      Log-Likelihood:              390.35   \n",
      "Df Model:                      17                        F-statistic:                 20.84    \n",
      "Df Residuals:                  4657                      Prob (F-statistic):          2.22e-62 \n",
      "R-squared:                     0.165                     Scale:                       0.049737 \n",
      "-----------------------------------------------------------------------------------------------\n",
      "                                                 Coef.  Std.Err.    z    P>|z|   [0.025  0.975]\n",
      "-----------------------------------------------------------------------------------------------\n",
      "Intercept                                        0.0817   0.0792  1.0318 0.3021 -0.0735  0.2369\n",
      "ROA                                             -0.1113   0.0313 -3.5589 0.0004 -0.1725 -0.0500\n",
      "Zobowiazania_Aktywa                             -0.0052   0.0156 -0.3317 0.7401 -0.0359  0.0255\n",
      "KO_Aktywa                                       -0.0640   0.0213 -3.0111 0.0026 -0.1057 -0.0223\n",
      "CurrentRatio                                     0.0004   0.0003  1.4356 0.1511 -0.0001  0.0009\n",
      "Zzatrzymane_Aktywa                              -0.0008   0.0007 -1.1787 0.2385 -0.0022  0.0005\n",
      "WartRynk_WartKsDlugu                            -0.0000   0.0000 -0.4647 0.6421 -0.0001  0.0000\n",
      "Sprzedaz_Aktywa                                  0.0087   0.0054  1.6030 0.1089 -0.0019  0.0194\n",
      "RotacjaZapasow                                  -0.0001   0.0001 -0.8611 0.3892 -0.0003  0.0001\n",
      "PrzyrostSprzedazySpadek_BrakDanych               0.0908   0.0099  9.1779 0.0000  0.0714  0.1102\n",
      "Rozmiar                                         -0.0013   0.0316 -0.0425 0.9661 -0.0633  0.0606\n",
      "RotacjaNaleznosci                               -0.0002   0.0001 -1.8377 0.0661 -0.0003  0.0000\n",
      "MarzaZyskuBrutto                                -0.0541   0.0256 -2.1107 0.0348 -0.1043 -0.0039\n",
      "RotacjaZobowiazan                                0.0003   0.0001  3.4950 0.0005  0.0001  0.0004\n",
      "DzwigniaFinansowa                               -0.0000   0.0000 -1.0862 0.2774 -0.0001  0.0000\n",
      "wyplacalnosc                                    -0.0411   0.0291 -1.4144 0.1572 -0.0982  0.0159\n",
      "I(Rozmiar ** 2)                                 -0.0023   0.0034 -0.6880 0.4915 -0.0089  0.0043\n",
      "wyplacalnosc:PrzyrostSprzedazySpadek_BrakDanych  0.1998   0.0569  3.5141 0.0004  0.0884  0.3112\n",
      "-----------------------------------------------------------------------------------------------\n",
      "Omnibus:                       2920.112               Durbin-Watson:                  0.323    \n",
      "Prob(Omnibus):                 0.000                  Jarque-Bera (JB):               25551.200\n",
      "Skew:                          2.987                  Prob(JB):                       0.000    \n",
      "Kurtosis:                      12.771                 Condition No.:                  3199     \n",
      "===============================================================================================\n",
      "* The condition number is large (3e+03). This might indicate             strong\n",
      "multicollinearity or other numerical problems. \n",
      "\n",
      "                                        Results: Probit\n",
      "===============================================================================================\n",
      "Model:                        Probit                     Pseudo R-squared:           0.233     \n",
      "Dependent Variable:           bankrut                    AIC:                        1727.6872 \n",
      "Date:                         2020-05-20 13:50           BIC:                        1843.7869 \n",
      "No. Observations:             4675                       Log-Likelihood:             -845.84   \n",
      "Df Model:                     17                         LL-Null:                    -1103.3   \n",
      "Df Residuals:                 4657                       LLR p-value:                1.3961e-98\n",
      "Converged:                    1.0000                     Scale:                      1.0000    \n",
      "No. Iterations:               7.0000                                                           \n",
      "-----------------------------------------------------------------------------------------------\n",
      "                                                 Coef.  Std.Err.    z    P>|z|   [0.025  0.975]\n",
      "-----------------------------------------------------------------------------------------------\n",
      "Intercept                                       -2.2617   0.5473 -4.1323 0.0000 -3.3344 -1.1890\n",
      "ROA                                             -0.5996   0.1812 -3.3097 0.0009 -0.9548 -0.2445\n",
      "Zobowiazania_Aktywa                              0.0468   0.1156  0.4045 0.6859 -0.1799  0.2734\n",
      "KO_Aktywa                                       -0.4542   0.1405 -3.2320 0.0012 -0.7297 -0.1788\n",
      "CurrentRatio                                     0.0032   0.0021  1.4848 0.1376 -0.0010  0.0074\n",
      "Zzatrzymane_Aktywa                              -0.0111   0.0204 -0.5460 0.5851 -0.0511  0.0288\n",
      "WartRynk_WartKsDlugu                            -0.0019   0.0024 -0.7913 0.4288 -0.0066  0.0028\n",
      "Sprzedaz_Aktywa                                  0.0292   0.0285  1.0243 0.3057 -0.0267  0.0850\n",
      "RotacjaZapasow                                  -0.0007   0.0007 -1.0644 0.2871 -0.0021  0.0006\n",
      "PrzyrostSprzedazySpadek_BrakDanych               0.7873   0.0729 10.8066 0.0000  0.6445  0.9301\n",
      "Rozmiar                                          0.4060   0.2644  1.5355 0.1247 -0.1122  0.9242\n",
      "RotacjaNaleznosci                               -0.0012   0.0006 -1.8215 0.0685 -0.0024  0.0001\n",
      "MarzaZyskuBrutto                                -0.3611   0.1339 -2.6967 0.0070 -0.6236 -0.0987\n",
      "RotacjaZobowiazan                                0.0012   0.0004  3.3408 0.0008  0.0005  0.0019\n",
      "DzwigniaFinansowa                               -0.0002   0.0009 -0.2517 0.8013 -0.0021  0.0016\n",
      "wyplacalnosc                                    -0.1391   0.2039 -0.6826 0.4949 -0.5387  0.2604\n",
      "I(Rozmiar ** 2)                                 -0.0761   0.0338 -2.2490 0.0245 -0.1424 -0.0098\n",
      "wyplacalnosc:PrzyrostSprzedazySpadek_BrakDanych  0.1652   0.2254  0.7328 0.4637 -0.2766  0.6069\n",
      "===============================================================================================\n",
      " \n",
      "\n",
      "                                        Results: Logit\n",
      "===============================================================================================\n",
      "Model:                        Logit                      Pseudo R-squared:           0.231     \n",
      "Dependent Variable:           bankrut                    AIC:                        1733.0127 \n",
      "Date:                         2020-05-20 13:50           BIC:                        1849.1124 \n",
      "No. Observations:             4675                       Log-Likelihood:             -848.51   \n",
      "Df Model:                     17                         LL-Null:                    -1103.3   \n",
      "Df Residuals:                 4657                       LLR p-value:                1.8519e-97\n",
      "Converged:                    1.0000                     Scale:                      1.0000    \n",
      "No. Iterations:               8.0000                                                           \n",
      "-----------------------------------------------------------------------------------------------\n",
      "                                                 Coef.  Std.Err.    z    P>|z|   [0.025  0.975]\n",
      "-----------------------------------------------------------------------------------------------\n",
      "Intercept                                       -5.2161   1.1555 -4.5141 0.0000 -7.4808 -2.9513\n",
      "ROA                                             -1.2652   0.4059 -3.1173 0.0018 -2.0607 -0.4697\n",
      "Zobowiazania_Aktywa                              0.0781   0.2088  0.3739 0.7085 -0.3312  0.4874\n",
      "KO_Aktywa                                       -1.0104   0.2831 -3.5692 0.0004 -1.5652 -0.4556\n",
      "CurrentRatio                                     0.0058   0.0036  1.6163 0.1060 -0.0012  0.0129\n",
      "Zzatrzymane_Aktywa                              -0.0194   0.0406 -0.4765 0.6337 -0.0990  0.0603\n",
      "WartRynk_WartKsDlugu                            -0.0028   0.0042 -0.6569 0.5112 -0.0111  0.0055\n",
      "Sprzedaz_Aktywa                                  0.0920   0.0576  1.5989 0.1098 -0.0208  0.2048\n",
      "RotacjaZapasow                                  -0.0010   0.0013 -0.7529 0.4515 -0.0036  0.0016\n",
      "PrzyrostSprzedazySpadek_BrakDanych               1.6757   0.1557 10.7625 0.0000  1.3705  1.9808\n",
      "Rozmiar                                          1.2552   0.5595  2.2433 0.0249  0.1585  2.3518\n",
      "RotacjaNaleznosci                               -0.0017   0.0013 -1.3297 0.1836 -0.0042  0.0008\n",
      "MarzaZyskuBrutto                                -0.6383   0.2477 -2.5772 0.0100 -1.1238 -0.1529\n",
      "RotacjaZobowiazan                                0.0018   0.0007  2.6883 0.0072  0.0005  0.0031\n",
      "DzwigniaFinansowa                               -0.0005   0.0019 -0.2761 0.7825 -0.0042  0.0031\n",
      "wyplacalnosc                                    -0.2392   0.4293 -0.5572 0.5774 -1.0806  0.6022\n",
      "I(Rozmiar ** 2)                                 -0.2048   0.0720 -2.8451 0.0044 -0.3459 -0.0637\n",
      "wyplacalnosc:PrzyrostSprzedazySpadek_BrakDanych  0.1157   0.4426  0.2614 0.7937 -0.7517  0.9831\n",
      "===============================================================================================\n"
     ]
    },
    {
     "name": "stdout",
     "output_type": "stream",
     "text": [
      "\n"
     ]
    }
   ],
   "source": [
    "# liniowy model prawdopodobieństwa z odporną na heteroskedastyczność macierzą wariancji kowariancji White'a\n",
    "lpm = smf.ols(formula, train)\n",
    "reslpm = lpm.fit(cov_type = 'HC0', disp = False)\n",
    "print(reslpm.summary2(), '\\n')\n",
    "\n",
    "# probit\n",
    "probitOgolny = probit(formula, train)\n",
    "resprobit = probitOgolny.fit(maxiter = 100, disp = False)\n",
    "print(resprobit.summary2(), '\\n')\n",
    "\n",
    "# logit\n",
    "logitOgolny = logit(formula, train)\n",
    "reslogit = logitOgolny.fit(maxiter = 100, disp = False)\n",
    "print(reslogit.summary2())"
   ]
  },
  {
   "cell_type": "markdown",
   "metadata": {},
   "source": [
    "Estymacje modeli ogólnych odbyły się bez zakłóceń (za wyjątkiem LPM, jednak VIF nie wskazuje na występującą współliniowość), brak nadmiernych oszacowań błędów standardowych parametrów oraz odwracalny Hessian pozwalają domniemywać o właściwym wyborze metody detekcji outlierów (na surowych danych występowały problemy).<br/>\n",
    "LPM ze względu na swoją specyfikę nie może być rozważany jako model główny - oszacowane prawdopodobieństwa nie muszą w nim należeć do przedziału <0;1> co kłóci się z definicją prawdopodobieństwa, przez co są parametry nieinterpretowalne, ponadto estymatory LPM nie są zgodne.<br/>\n",
    "Modele logitowy i probitowy zawierają zmienne istotne - H0 o nieistotności zmiennych zostaje silnie odrzucone w obu modelach (p value bliskie zeru -LLR p-value).<br/>\n",
    "Pod względem kryteriów informacyjnych, zarówno AIC jak i BIC, lepiej od logitu wypada probit.<br/>\n",
    "**Do dalszej analizy i procedury od ogółu do szczegółu wykorzystany zostanie model probitowy**."
   ]
  },
  {
   "cell_type": "markdown",
   "metadata": {},
   "source": [
    "#### Procedura od ogólu do szczegółu"
   ]
  },
  {
   "cell_type": "code",
   "execution_count": 65,
   "metadata": {},
   "outputs": [
    {
     "data": {
      "text/plain": [
       "DzwigniaFinansowa                                  0.801279\n",
       "Zobowiazania_Aktywa                                0.685856\n",
       "Zzatrzymane_Aktywa                                 0.585053\n",
       "wyplacalnosc                                       0.494878\n",
       "wyplacalnosc:PrzyrostSprzedazySpadek_BrakDanych    0.463688\n",
       "WartRynk_WartKsDlugu                               0.428771\n",
       "Sprzedaz_Aktywa                                    0.305673\n",
       "RotacjaZapasow                                     0.287143\n",
       "CurrentRatio                                       0.137606\n",
       "Rozmiar                                            0.124663\n",
       "RotacjaNaleznosci                                  0.068534\n",
       "dtype: float64"
      ]
     },
     "execution_count": 65,
     "metadata": {},
     "output_type": "execute_result"
    }
   ],
   "source": [
    "resprobit.pvalues.sort_values(ascending = False).where(resprobit.pvalues > 0.05).dropna()"
   ]
  },
  {
   "cell_type": "markdown",
   "metadata": {},
   "source": [
    "Dźwignia finansowa okazała się zmienną najbardziej nieistotną, zatem nieusowanie outlierów na jej podstawie było dobrą decyzją."
   ]
  },
  {
   "cell_type": "code",
   "execution_count": 66,
   "metadata": {},
   "outputs": [],
   "source": [
    "# funkcja do liczenia LRtest dla modeli logit i probit.\n",
    "# Autor: Maciej Odziemczyk, student, Wydział Nauk Ekonomicznych UW, maj 2020.\n",
    "# funkcja zwraca model z ograniczeniami.\n",
    "# argumenty, dokumentacja:\n",
    "#     funkcja dostosowana do rezultatów modeli logit i probit z biblioteki statsmodels.formula.api (discrete choice models)\n",
    "#     resmod - model ogólny (dopasowany)\n",
    "#     formula - formuła, z której ma być oszacowany nowy model (z ograniczeniami),\n",
    "#     data - dane, na których ma być oszacowany model (powinny być takie same jak dla modelu bez ograniczeń),\n",
    "#     alfa - poziom istotności,\n",
    "#     model - typ modelu do oszacowania (\"logit\", \"probit\"), powinien być taki sam jak model bez ograniczeń.\n",
    "\n",
    "def testLR(resmod, formula, data, alfa = 0.05,  model = 'logit'):\n",
    "    \n",
    "    # import rozkładu chi^2\n",
    "    from scipy.stats import chi2\n",
    "    \n",
    "    # logliklelihood modelu bez ograniczeń\n",
    "    logLikelihoodUnc = resmod.llf\n",
    "    \n",
    "    # estymacja odpowiedniego modelu z ograniczeniami\n",
    "    if model == 'logit':\n",
    "        conmod = logit(formula = formula, data = data).fit(maxiter = 100)\n",
    "    elif model == 'probit':\n",
    "        conmod = probit(formula = formula, data = data).fit(maxiter = 100, disp = False)\n",
    "    else:\n",
    "        raise 'funkcja testLR działa tylko dla modeli \"logit\", \"probit\"'\n",
    "    \n",
    "    # obliczenie stopni swobody rozkładu chi^2\n",
    "    g = resmod.pvalues.shape[0] - conmod.pvalues.shape[0]\n",
    "    logLikelihoodCon = conmod.llf\n",
    "    if g <= 0:\n",
    "        raise 'liczba stopni swobody musi być dodatnia, model z ograniczeniami musi zawierać mniej zmiennych od modelu bez ograniczeń'\n",
    "    else:\n",
    "        pass\n",
    "    \n",
    "    # obliczenie statystyki LR, wartości krytycznej i p_value\n",
    "    LR = 2*(logLikelihoodUnc-logLikelihoodCon)\n",
    "    critical_value = chi2.ppf(q = 1-alfa, df = g)\n",
    "    p = 1-chi2.cdf(LR, df = g)\n",
    "    \n",
    "    # weryfikacja hipotezy 0, drukowanie wyników\n",
    "    if LR > critical_value:\n",
    "        print('\\nStatystyka LR ({}) > wartość krytyczna ({}), p_value ({}) - podstawa do odrzucenia H0'.format(\n",
    "            LR, critical_value, round(p, 4)))\n",
    "    else:\n",
    "        print('\\nStatystyka LR ({}) < wartość krytyczna ({}), p_value ({}) - brak podstaw do odrzucenia H0'.format(\n",
    "            LR, critical_value, round(p, 4)))\n",
    "    \n",
    "    # zwrócenie modelu z ograniczeniami jako obiektu\n",
    "    return conmod"
   ]
  },
  {
   "cell_type": "markdown",
   "metadata": {},
   "source": [
    "- Krok 1 - usunięcie zmiennej DźwigniaFinansowa"
   ]
  },
  {
   "cell_type": "code",
   "execution_count": 67,
   "metadata": {},
   "outputs": [
    {
     "name": "stdout",
     "output_type": "stream",
     "text": [
      "\n",
      "Statystyka LR (0.08010469264945641) < wartość krytyczna (3.841458820694124), p_value (0.7772) - brak podstaw do odrzucenia H0\n"
     ]
    }
   ],
   "source": [
    "# zbiór zmiennych z poprzedniego modelu\n",
    "zmienne = resprobit.params.index.tolist()\n",
    "\n",
    "# usunięcie niepotrzebnych zmiennych + sortowanie\n",
    "zmienne.remove('Intercept')\n",
    "zmienne.remove('DzwigniaFinansowa')\n",
    "zmienne.sort()\n",
    "\n",
    "# formuła\n",
    "formula = 'bankrut~{}'.format('+'.join(zmienne))\n",
    "\n",
    "# test\n",
    "resprobit2 = testLR(resprobit, formula, train, model = 'probit')"
   ]
  },
  {
   "cell_type": "code",
   "execution_count": 68,
   "metadata": {},
   "outputs": [
    {
     "name": "stdout",
     "output_type": "stream",
     "text": [
      "                                        Results: Probit\n",
      "===============================================================================================\n",
      "Model:                        Probit                     Pseudo R-squared:           0.233     \n",
      "Dependent Variable:           bankrut                    AIC:                        1725.7673 \n",
      "Date:                         2020-05-20 13:50           BIC:                        1835.4170 \n",
      "No. Observations:             4675                       Log-Likelihood:             -845.88   \n",
      "Df Model:                     16                         LL-Null:                    -1103.3   \n",
      "Df Residuals:                 4658                       LLR p-value:                2.5143e-99\n",
      "Converged:                    1.0000                     Scale:                      1.0000    \n",
      "No. Iterations:               7.0000                                                           \n",
      "-----------------------------------------------------------------------------------------------\n",
      "                                                 Coef.  Std.Err.    z    P>|z|   [0.025  0.975]\n",
      "-----------------------------------------------------------------------------------------------\n",
      "Intercept                                       -2.2606   0.5471 -4.1318 0.0000 -3.3330 -1.1883\n",
      "CurrentRatio                                     0.0032   0.0021  1.4848 0.1376 -0.0010  0.0074\n",
      "I(Rozmiar ** 2)                                 -0.0760   0.0338 -2.2479 0.0246 -0.1423 -0.0097\n",
      "KO_Aktywa                                       -0.4516   0.1402 -3.2220 0.0013 -0.7264 -0.1769\n",
      "MarzaZyskuBrutto                                -0.3594   0.1337 -2.6878 0.0072 -0.6215 -0.0973\n",
      "PrzyrostSprzedazySpadek_BrakDanych               0.7873   0.0729 10.8049 0.0000  0.6445  0.9301\n",
      "ROA                                             -0.6018   0.1811 -3.3230 0.0009 -0.9568 -0.2469\n",
      "RotacjaNaleznosci                               -0.0012   0.0006 -1.8695 0.0616 -0.0025  0.0001\n",
      "RotacjaZapasow                                  -0.0008   0.0007 -1.1120 0.2661 -0.0021  0.0006\n",
      "RotacjaZobowiazan                                0.0012   0.0004  3.3830 0.0007  0.0005  0.0019\n",
      "Rozmiar                                          0.4057   0.2643  1.5350 0.1248 -0.1123  0.9238\n",
      "Sprzedaz_Aktywa                                  0.0291   0.0285  1.0218 0.3069 -0.0267  0.0850\n",
      "WartRynk_WartKsDlugu                            -0.0019   0.0024 -0.7904 0.4293 -0.0066  0.0028\n",
      "Zobowiazania_Aktywa                              0.0468   0.1156  0.4044 0.6859 -0.1799  0.2734\n",
      "Zzatrzymane_Aktywa                              -0.0111   0.0204 -0.5469 0.5845 -0.0511  0.0288\n",
      "wyplacalnosc                                    -0.1383   0.2038 -0.6785 0.4975 -0.5378  0.2612\n",
      "wyplacalnosc:PrzyrostSprzedazySpadek_BrakDanych  0.1648   0.2254  0.7313 0.4646 -0.2769  0.6066\n",
      "===============================================================================================\n",
      "\n"
     ]
    }
   ],
   "source": [
    "print(resprobit2.summary2())"
   ]
  },
  {
   "cell_type": "markdown",
   "metadata": {},
   "source": [
    "Zmienne łącznie istotne - LLR p-value bliskie zeru."
   ]
  },
  {
   "cell_type": "code",
   "execution_count": 69,
   "metadata": {},
   "outputs": [
    {
     "data": {
      "text/plain": [
       "Zobowiazania_Aktywa                                0.685916\n",
       "Zzatrzymane_Aktywa                                 0.584459\n",
       "wyplacalnosc                                       0.497475\n",
       "wyplacalnosc:PrzyrostSprzedazySpadek_BrakDanych    0.464569\n",
       "WartRynk_WartKsDlugu                               0.429266\n",
       "Sprzedaz_Aktywa                                    0.306884\n",
       "RotacjaZapasow                                     0.266133\n",
       "CurrentRatio                                       0.137610\n",
       "Rozmiar                                            0.124785\n",
       "RotacjaNaleznosci                                  0.061555\n",
       "dtype: float64"
      ]
     },
     "execution_count": 69,
     "metadata": {},
     "output_type": "execute_result"
    }
   ],
   "source": [
    "# zmienne nieistotne\n",
    "resprobit2.pvalues.sort_values(ascending = False).where(resprobit2.pvalues > 0.05).dropna()"
   ]
  },
  {
   "cell_type": "markdown",
   "metadata": {},
   "source": [
    "Zaskoczeniem okazała się nieistotność zmiennej Zobowiązania/Aktywa, która wydaje się oczywistym predyktorem bankructwa. Być może jej silna korelacja ze zmienną Wartość rynkowa/wartość księgowa długu, co ciekawe ta zmienna również jest na liście zmiennych nieistotnych, być może po tym kroku z niej zniknie.\n",
    " - Krok 2 - usunięcie zmiennej Zobowiazania_Aktywa"
   ]
  },
  {
   "cell_type": "code",
   "execution_count": 70,
   "metadata": {},
   "outputs": [
    {
     "name": "stdout",
     "output_type": "stream",
     "text": [
      "\n",
      "Statystyka LR (0.2381703382404794) < wartość krytyczna (5.991464547107979), p_value (0.8877) - brak podstaw do odrzucenia H0\n"
     ]
    }
   ],
   "source": [
    "# zbiór zmiennych z poprzedniego modelu\n",
    "zmienne = resprobit2.params.index.tolist()\n",
    "\n",
    "# usunięcie niepotrzebnych zmiennych + sortowanie\n",
    "zmienne.remove('Intercept')\n",
    "zmienne.remove('Zobowiazania_Aktywa')\n",
    "zmienne.sort()\n",
    "\n",
    "# formuła\n",
    "formula = 'bankrut~{}'.format('+'.join(zmienne))\n",
    "\n",
    "# test\n",
    "resprobit3 = testLR(resprobit, formula, train, model = 'probit')"
   ]
  },
  {
   "cell_type": "code",
   "execution_count": 71,
   "metadata": {},
   "outputs": [
    {
     "name": "stdout",
     "output_type": "stream",
     "text": [
      "                                        Results: Probit\n",
      "===============================================================================================\n",
      "Model:                         Probit                    Pseudo R-squared:          0.233      \n",
      "Dependent Variable:            bankrut                   AIC:                       1723.9253  \n",
      "Date:                          2020-05-20 13:50          BIC:                       1827.1251  \n",
      "No. Observations:              4675                      Log-Likelihood:            -845.96    \n",
      "Df Model:                      15                        LL-Null:                   -1103.3    \n",
      "Df Residuals:                  4659                      LLR p-value:               4.5500e-100\n",
      "Converged:                     1.0000                    Scale:                     1.0000     \n",
      "No. Iterations:                7.0000                                                          \n",
      "-----------------------------------------------------------------------------------------------\n",
      "                                                 Coef.  Std.Err.    z    P>|z|   [0.025  0.975]\n",
      "-----------------------------------------------------------------------------------------------\n",
      "Intercept                                       -2.2295   0.5416 -4.1164 0.0000 -3.2910 -1.1679\n",
      "CurrentRatio                                     0.0032   0.0021  1.5280 0.1265 -0.0009  0.0074\n",
      "I(Rozmiar ** 2)                                 -0.0760   0.0338 -2.2493 0.0245 -0.1423 -0.0098\n",
      "KO_Aktywa                                       -0.4806   0.1209 -3.9769 0.0001 -0.7175 -0.2438\n",
      "MarzaZyskuBrutto                                -0.3548   0.1331 -2.6659 0.0077 -0.6156 -0.0939\n",
      "PrzyrostSprzedazySpadek_BrakDanych               0.7859   0.0728 10.8001 0.0000  0.6433  0.9285\n",
      "ROA                                             -0.6093   0.1802 -3.3811 0.0007 -0.9625 -0.2561\n",
      "RotacjaNaleznosci                               -0.0012   0.0006 -1.8392 0.0659 -0.0024  0.0001\n",
      "RotacjaZapasow                                  -0.0007   0.0007 -1.0735 0.2830 -0.0020  0.0006\n",
      "RotacjaZobowiazan                                0.0012   0.0004  3.3789 0.0007  0.0005  0.0019\n",
      "Rozmiar                                          0.4039   0.2642  1.5286 0.1264 -0.1140  0.9218\n",
      "Sprzedaz_Aktywa                                  0.0309   0.0281  1.1006 0.2711 -0.0242  0.0860\n",
      "WartRynk_WartKsDlugu                            -0.0020   0.0024 -0.8395 0.4012 -0.0067  0.0027\n",
      "Zzatrzymane_Aktywa                              -0.0121   0.0203 -0.5951 0.5518 -0.0519  0.0277\n",
      "wyplacalnosc                                    -0.1169   0.1966 -0.5949 0.5519 -0.5022  0.2683\n",
      "wyplacalnosc:PrzyrostSprzedazySpadek_BrakDanych  0.1667   0.2254  0.7393 0.4597 -0.2752  0.6085\n",
      "===============================================================================================\n",
      "\n"
     ]
    }
   ],
   "source": [
    "print(resprobit3.summary2())"
   ]
  },
  {
   "cell_type": "markdown",
   "metadata": {},
   "source": [
    "Zmienne łącznie istotne - LLR p-value bliskie zeru."
   ]
  },
  {
   "cell_type": "code",
   "execution_count": 72,
   "metadata": {},
   "outputs": [
    {
     "data": {
      "text/plain": [
       "wyplacalnosc                                       0.551920\n",
       "Zzatrzymane_Aktywa                                 0.551793\n",
       "wyplacalnosc:PrzyrostSprzedazySpadek_BrakDanych    0.459720\n",
       "WartRynk_WartKsDlugu                               0.401179\n",
       "RotacjaZapasow                                     0.283048\n",
       "Sprzedaz_Aktywa                                    0.271065\n",
       "CurrentRatio                                       0.126509\n",
       "Rozmiar                                            0.126351\n",
       "RotacjaNaleznosci                                  0.065889\n",
       "dtype: float64"
      ]
     },
     "execution_count": 72,
     "metadata": {},
     "output_type": "execute_result"
    }
   ],
   "source": [
    "# zmienne nieistotne\n",
    "resprobit3.pvalues.sort_values(ascending = False).where(resprobit3.pvalues > 0.05).dropna()"
   ]
  },
  {
   "cell_type": "markdown",
   "metadata": {},
   "source": [
    "Można się było spodziewać, że skoro nieistotne okazały się Zobowiązania/Aktywa, to podobnie jest ze zmienną binarną mówiącą o przewyższaniu aktywów przez zobowiązania. Co ciekawe zmienna Wartość rynkowa/Wartość księgowa długu dalej pozostaje na liście zmiennych nieistotnych, co najprawopodobniej wynika z faktu statystycznie takich samych średnich w populacji bankrutów i nie bankrutów dla tej zmiennej. Dziwnym w takim razie jest fakt nieistotności zmiennej Zobowiązania/Aktywa, najwyraźniej taka jest specyfika badanej próby, nie należy z tym dyskytować. \n",
    "- Krok 3 - usunięcie zmiennej wyplacalnosc"
   ]
  },
  {
   "cell_type": "code",
   "execution_count": 73,
   "metadata": {},
   "outputs": [
    {
     "name": "stdout",
     "output_type": "stream",
     "text": [
      "\n",
      "Statystyka LR (0.5989336654067756) < wartość krytyczna (7.814727903251179), p_value (0.8967) - brak podstaw do odrzucenia H0\n"
     ]
    }
   ],
   "source": [
    "# zbiór zmiennych z poprzedniego modelu\n",
    "zmienne = resprobit3.params.index.tolist()\n",
    "\n",
    "\n",
    "zmienne.remove('Intercept')\n",
    "zmienne.remove('wyplacalnosc')\n",
    "zmienne.sort()\n",
    "\n",
    "# formuła\n",
    "formula = 'bankrut~{}'.format('+'.join(zmienne))\n",
    "\n",
    "# test\n",
    "resprobit4 = testLR(resprobit, formula, train, model = 'probit')"
   ]
  },
  {
   "cell_type": "code",
   "execution_count": 74,
   "metadata": {},
   "outputs": [
    {
     "name": "stdout",
     "output_type": "stream",
     "text": [
      "                                        Results: Probit\n",
      "===============================================================================================\n",
      "Model:                         Probit                    Pseudo R-squared:          0.233      \n",
      "Dependent Variable:            bankrut                   AIC:                       1722.2861  \n",
      "Date:                          2020-05-20 13:50          BIC:                       1819.0359  \n",
      "No. Observations:              4675                      Log-Likelihood:            -846.14    \n",
      "Df Model:                      14                        LL-Null:                   -1103.3    \n",
      "Df Residuals:                  4660                      LLR p-value:               8.7749e-101\n",
      "Converged:                     1.0000                    Scale:                     1.0000     \n",
      "No. Iterations:                7.0000                                                          \n",
      "-----------------------------------------------------------------------------------------------\n",
      "                                                 Coef.  Std.Err.    z    P>|z|   [0.025  0.975]\n",
      "-----------------------------------------------------------------------------------------------\n",
      "Intercept                                       -2.2450   0.5405 -4.1536 0.0000 -3.3044 -1.1857\n",
      "CurrentRatio                                     0.0032   0.0021  1.5044 0.1325 -0.0010  0.0073\n",
      "I(Rozmiar ** 2)                                 -0.0756   0.0338 -2.2382 0.0252 -0.1417 -0.0094\n",
      "KO_Aktywa                                       -0.4583   0.1146 -3.9973 0.0001 -0.6830 -0.2336\n",
      "MarzaZyskuBrutto                                -0.3561   0.1331 -2.6759 0.0075 -0.6169 -0.0953\n",
      "PrzyrostSprzedazySpadek_BrakDanych               0.7950   0.0712 11.1581 0.0000  0.6554  0.9347\n",
      "ROA                                             -0.6052   0.1798 -3.3665 0.0008 -0.9575 -0.2528\n",
      "RotacjaNaleznosci                               -0.0012   0.0006 -1.8559 0.0635 -0.0024  0.0001\n",
      "RotacjaZapasow                                  -0.0007   0.0007 -1.0935 0.2742 -0.0020  0.0006\n",
      "RotacjaZobowiazan                                0.0012   0.0004  3.3617 0.0008  0.0005  0.0019\n",
      "Rozmiar                                          0.4036   0.2640  1.5291 0.1262 -0.1137  0.9210\n",
      "Sprzedaz_Aktywa                                  0.0302   0.0280  1.0779 0.2811 -0.0247  0.0851\n",
      "WartRynk_WartKsDlugu                            -0.0020   0.0024 -0.8355 0.4034 -0.0067  0.0027\n",
      "Zzatrzymane_Aktywa                              -0.0116   0.0203 -0.5710 0.5680 -0.0515  0.0283\n",
      "wyplacalnosc:PrzyrostSprzedazySpadek_BrakDanych  0.0739   0.1620  0.4562 0.6482 -0.2436  0.3914\n",
      "===============================================================================================\n",
      "\n"
     ]
    }
   ],
   "source": [
    "print(resprobit4.summary2())"
   ]
  },
  {
   "cell_type": "markdown",
   "metadata": {},
   "source": [
    "Zmienne łącznie istotne - LLR p-value bliskie zeru."
   ]
  },
  {
   "cell_type": "code",
   "execution_count": 75,
   "metadata": {},
   "outputs": [
    {
     "name": "stdout",
     "output_type": "stream",
     "text": [
      "wyplacalnosc:PrzyrostSprzedazySpadek_BrakDanych    0.648218\n",
      "Zzatrzymane_Aktywa                                 0.568001\n",
      "WartRynk_WartKsDlugu                               0.403443\n",
      "Sprzedaz_Aktywa                                    0.281071\n",
      "RotacjaZapasow                                     0.274171\n",
      "CurrentRatio                                       0.132487\n",
      "Rozmiar                                            0.126233\n",
      "RotacjaNaleznosci                                  0.063462\n",
      "dtype: float64\n"
     ]
    }
   ],
   "source": [
    "# zmienne nieistotne\n",
    "print(resprobit4.pvalues.sort_values(ascending = False).where(resprobit4.pvalues > 0.05).dropna())"
   ]
  },
  {
   "cell_type": "markdown",
   "metadata": {},
   "source": [
    "Skoro nieistotne okazały się Zobowiązania/Aktywa i wypłacalność oraz interakcja wypłacalności ze zmienną mówiącą o spadku sprzedaży lub braku danych na ten temat, to wyniki te są spójne. Najwyraźniej informacja o stosunku zadlużenia do aktywów nie jest kryterium istotnie różnicującym bankrutów i nie bankrutów na dysponowanej próbie.\n",
    "- Krok 4 - usunięcie zmiennej wyplacalnosc:PrzyrostSprzedazySpadek_BrakDanych"
   ]
  },
  {
   "cell_type": "code",
   "execution_count": 76,
   "metadata": {},
   "outputs": [
    {
     "name": "stdout",
     "output_type": "stream",
     "text": [
      "\n",
      "Statystyka LR (0.8066689894289993) < wartość krytyczna (9.487729036781154), p_value (0.9376) - brak podstaw do odrzucenia H0\n"
     ]
    }
   ],
   "source": [
    "# zbiór zmiennych z poprzedniego modelu\n",
    "zmienne = resprobit4.params.index.tolist()\n",
    "\n",
    "# usunięcie niepotrzebnych zmiennych + sortowanie\n",
    "zmienne.remove('Intercept')\n",
    "zmienne.remove('wyplacalnosc:PrzyrostSprzedazySpadek_BrakDanych')\n",
    "zmienne.sort()\n",
    "\n",
    "# formuła\n",
    "formula = 'bankrut~{}'.format('+'.join(zmienne))\n",
    "\n",
    "# test\n",
    "resprobit5 = testLR(resprobit, formula, train, model = 'probit')"
   ]
  },
  {
   "cell_type": "code",
   "execution_count": 77,
   "metadata": {},
   "outputs": [
    {
     "name": "stdout",
     "output_type": "stream",
     "text": [
      "                                 Results: Probit\n",
      "==================================================================================\n",
      "Model:                    Probit                Pseudo R-squared:      0.233      \n",
      "Dependent Variable:       bankrut               AIC:                   1720.4938  \n",
      "Date:                     2020-05-20 13:50      BIC:                   1810.7936  \n",
      "No. Observations:         4675                  Log-Likelihood:        -846.25    \n",
      "Df Model:                 13                    LL-Null:               -1103.3    \n",
      "Df Residuals:             4661                  LLR p-value:           1.5120e-101\n",
      "Converged:                1.0000                Scale:                 1.0000     \n",
      "No. Iterations:           7.0000                                                  \n",
      "----------------------------------------------------------------------------------\n",
      "                                    Coef.  Std.Err.    z    P>|z|   [0.025  0.975]\n",
      "----------------------------------------------------------------------------------\n",
      "Intercept                          -2.2335   0.5395 -4.1403 0.0000 -3.2908 -1.1762\n",
      "CurrentRatio                        0.0032   0.0021  1.5186 0.1289 -0.0009  0.0074\n",
      "I(Rozmiar ** 2)                    -0.0754   0.0337 -2.2344 0.0255 -0.1415 -0.0093\n",
      "KO_Aktywa                          -0.4699   0.1117 -4.2075 0.0000 -0.6888 -0.2510\n",
      "MarzaZyskuBrutto                   -0.3544   0.1329 -2.6658 0.0077 -0.6149 -0.0938\n",
      "PrzyrostSprzedazySpadek_BrakDanych  0.8020   0.0696 11.5252 0.0000  0.6656  0.9384\n",
      "ROA                                -0.6089   0.1796 -3.3900 0.0007 -0.9610 -0.2569\n",
      "RotacjaNaleznosci                  -0.0012   0.0006 -1.8695 0.0615 -0.0024  0.0001\n",
      "RotacjaZapasow                     -0.0007   0.0007 -1.0942 0.2739 -0.0020  0.0006\n",
      "RotacjaZobowiazan                   0.0012   0.0003  3.4636 0.0005  0.0005  0.0019\n",
      "Rozmiar                             0.3995   0.2636  1.5157 0.1296 -0.1171  0.9162\n",
      "Sprzedaz_Aktywa                     0.0308   0.0279  1.1017 0.2706 -0.0240  0.0855\n",
      "WartRynk_WartKsDlugu               -0.0020   0.0024 -0.8431 0.3992 -0.0067  0.0027\n",
      "Zzatrzymane_Aktywa                 -0.0121   0.0203 -0.5936 0.5528 -0.0519  0.0278\n",
      "==================================================================================\n",
      "\n"
     ]
    }
   ],
   "source": [
    "print(resprobit5.summary2())"
   ]
  },
  {
   "cell_type": "markdown",
   "metadata": {},
   "source": [
    "Zmienne łącznie istotne - LLR p-value bliskie zeru."
   ]
  },
  {
   "cell_type": "code",
   "execution_count": 78,
   "metadata": {},
   "outputs": [
    {
     "name": "stdout",
     "output_type": "stream",
     "text": [
      "Zzatrzymane_Aktywa      0.552782\n",
      "WartRynk_WartKsDlugu    0.399180\n",
      "RotacjaZapasow          0.273863\n",
      "Sprzedaz_Aktywa         0.270583\n",
      "Rozmiar                 0.129594\n",
      "CurrentRatio            0.128867\n",
      "RotacjaNaleznosci       0.061547\n",
      "dtype: float64\n"
     ]
    }
   ],
   "source": [
    "# zmienne nieistotne\n",
    "print(resprobit5.pvalues.sort_values(ascending = False).where(resprobit5.pvalues > 0.05).dropna())"
   ]
  },
  {
   "cell_type": "markdown",
   "metadata": {},
   "source": [
    " - Krok 5 - usunięcie zmiennej Zzatrzymane_Aktywa"
   ]
  },
  {
   "cell_type": "code",
   "execution_count": 79,
   "metadata": {},
   "outputs": [
    {
     "name": "stdout",
     "output_type": "stream",
     "text": [
      "\n",
      "Statystyka LR (1.1809276743558712) < wartość krytyczna (11.070497693516351), p_value (0.9467) - brak podstaw do odrzucenia H0\n"
     ]
    }
   ],
   "source": [
    "# zbiór zmiennych z poprzedniego modelu\n",
    "zmienne = resprobit5.params.index.tolist()\n",
    "\n",
    "# usunięcie niepotrzebnych zmiennych + sortowanie\n",
    "zmienne.remove('Intercept')\n",
    "zmienne.remove('Zzatrzymane_Aktywa')\n",
    "zmienne.sort()\n",
    "\n",
    "# formuła\n",
    "formula = 'bankrut~{}'.format('+'.join(zmienne))\n",
    "\n",
    "# test\n",
    "resprobit6 = testLR(resprobit, formula, train, model = 'probit')"
   ]
  },
  {
   "cell_type": "code",
   "execution_count": 80,
   "metadata": {},
   "outputs": [
    {
     "name": "stdout",
     "output_type": "stream",
     "text": [
      "                                 Results: Probit\n",
      "==================================================================================\n",
      "Model:                    Probit                Pseudo R-squared:      0.233      \n",
      "Dependent Variable:       bankrut               AIC:                   1718.8681  \n",
      "Date:                     2020-05-20 13:50      BIC:                   1802.7179  \n",
      "No. Observations:         4675                  Log-Likelihood:        -846.43    \n",
      "Df Model:                 12                    LL-Null:               -1103.3    \n",
      "Df Residuals:             4662                  LLR p-value:           2.7130e-102\n",
      "Converged:                1.0000                Scale:                 1.0000     \n",
      "No. Iterations:           7.0000                                                  \n",
      "----------------------------------------------------------------------------------\n",
      "                                    Coef.  Std.Err.    z    P>|z|   [0.025  0.975]\n",
      "----------------------------------------------------------------------------------\n",
      "Intercept                          -2.2226   0.5390 -4.1238 0.0000 -3.2789 -1.1662\n",
      "CurrentRatio                        0.0032   0.0021  1.5244 0.1274 -0.0009  0.0074\n",
      "I(Rozmiar ** 2)                    -0.0750   0.0337 -2.2229 0.0262 -0.1411 -0.0089\n",
      "KO_Aktywa                          -0.4767   0.1111 -4.2899 0.0000 -0.6945 -0.2589\n",
      "MarzaZyskuBrutto                   -0.3560   0.1329 -2.6778 0.0074 -0.6165 -0.0954\n",
      "PrzyrostSprzedazySpadek_BrakDanych  0.8019   0.0696 11.5253 0.0000  0.6655  0.9382\n",
      "ROA                                -0.6057   0.1793 -3.3777 0.0007 -0.9572 -0.2543\n",
      "RotacjaNaleznosci                  -0.0012   0.0006 -1.8690 0.0616 -0.0024  0.0001\n",
      "RotacjaZapasow                     -0.0007   0.0007 -1.0753 0.2823 -0.0020  0.0006\n",
      "RotacjaZobowiazan                   0.0012   0.0003  3.4616 0.0005  0.0005  0.0019\n",
      "Rozmiar                             0.3953   0.2635  1.5001 0.1336 -0.1212  0.9117\n",
      "Sprzedaz_Aktywa                     0.0312   0.0279  1.1177 0.2637 -0.0235  0.0859\n",
      "WartRynk_WartKsDlugu               -0.0020   0.0024 -0.8422 0.3997 -0.0067  0.0027\n",
      "==================================================================================\n",
      "\n"
     ]
    }
   ],
   "source": [
    "print(resprobit6.summary2())"
   ]
  },
  {
   "cell_type": "markdown",
   "metadata": {},
   "source": [
    "Zmienne łącznie istotne - LLR p-value bliskie zeru."
   ]
  },
  {
   "cell_type": "code",
   "execution_count": 81,
   "metadata": {},
   "outputs": [
    {
     "name": "stdout",
     "output_type": "stream",
     "text": [
      "WartRynk_WartKsDlugu    0.399670\n",
      "RotacjaZapasow          0.282260\n",
      "Sprzedaz_Aktywa         0.263698\n",
      "Rozmiar                 0.133588\n",
      "CurrentRatio            0.127414\n",
      "RotacjaNaleznosci       0.061623\n",
      "dtype: float64\n"
     ]
    }
   ],
   "source": [
    "# zmienne nieistotne\n",
    "print(resprobit6.pvalues.sort_values(ascending = False).where(resprobit6.pvalues > 0.05).dropna())"
   ]
  },
  {
   "cell_type": "markdown",
   "metadata": {},
   "source": [
    "Nieistotność zmiennej Wartość rynkowa/Wartość księgowa długu nie budzi wątpliwości, wnioski został wyciągnięte w kroku 2.\n",
    " - Krok 6 - usunięcie zmiennej WartRynk_WartKsDlugu"
   ]
  },
  {
   "cell_type": "code",
   "execution_count": 82,
   "metadata": {},
   "outputs": [
    {
     "name": "stdout",
     "output_type": "stream",
     "text": [
      "\n",
      "Statystyka LR (1.9115048216362993) < wartość krytyczna (12.591587243743977), p_value (0.9277) - brak podstaw do odrzucenia H0\n"
     ]
    }
   ],
   "source": [
    "# zbiór zmiennych z poprzedniego modelu\n",
    "zmienne = resprobit6.params.index.tolist()\n",
    "\n",
    "# usunięcie niepotrzebnych zmiennych + sortowanie\n",
    "zmienne.remove('Intercept')\n",
    "zmienne.remove('WartRynk_WartKsDlugu')\n",
    "zmienne.sort()\n",
    "\n",
    "# formuła\n",
    "formula = 'bankrut~{}'.format('+'.join(zmienne))\n",
    "\n",
    "# test\n",
    "resprobit7 = testLR(resprobit, formula, train, model = 'probit')"
   ]
  },
  {
   "cell_type": "code",
   "execution_count": 83,
   "metadata": {},
   "outputs": [
    {
     "name": "stdout",
     "output_type": "stream",
     "text": [
      "                                 Results: Probit\n",
      "==================================================================================\n",
      "Model:                    Probit                Pseudo R-squared:      0.232      \n",
      "Dependent Variable:       bankrut               AIC:                   1717.5987  \n",
      "Date:                     2020-05-20 13:50      BIC:                   1794.9985  \n",
      "No. Observations:         4675                  Log-Likelihood:        -846.80    \n",
      "Df Model:                 11                    LL-Null:               -1103.3    \n",
      "Df Residuals:             4663                  LLR p-value:           5.5457e-103\n",
      "Converged:                1.0000                Scale:                 1.0000     \n",
      "No. Iterations:           7.0000                                                  \n",
      "----------------------------------------------------------------------------------\n",
      "                                    Coef.  Std.Err.    z    P>|z|   [0.025  0.975]\n",
      "----------------------------------------------------------------------------------\n",
      "Intercept                          -2.2592   0.5377 -4.2016 0.0000 -3.3131 -1.2053\n",
      "CurrentRatio                        0.0017   0.0014  1.2581 0.2084 -0.0009  0.0043\n",
      "I(Rozmiar ** 2)                    -0.0769   0.0337 -2.2812 0.0225 -0.1430 -0.0108\n",
      "KO_Aktywa                          -0.4787   0.1111 -4.3104 0.0000 -0.6964 -0.2610\n",
      "MarzaZyskuBrutto                   -0.3576   0.1328 -2.6923 0.0071 -0.6179 -0.0973\n",
      "PrzyrostSprzedazySpadek_BrakDanych  0.8014   0.0696 11.5216 0.0000  0.6650  0.9377\n",
      "ROA                                -0.5951   0.1785 -3.3348 0.0009 -0.9449 -0.2454\n",
      "RotacjaNaleznosci                  -0.0012   0.0006 -1.8937 0.0583 -0.0024  0.0000\n",
      "RotacjaZapasow                     -0.0007   0.0007 -1.0490 0.2942 -0.0020  0.0006\n",
      "RotacjaZobowiazan                   0.0012   0.0003  3.5030 0.0005  0.0005  0.0019\n",
      "Rozmiar                             0.4111   0.2632  1.5618 0.1183 -0.1048  0.9270\n",
      "Sprzedaz_Aktywa                     0.0329   0.0278  1.1848 0.2361 -0.0215  0.0874\n",
      "==================================================================================\n",
      "\n"
     ]
    }
   ],
   "source": [
    "print(resprobit7.summary2())"
   ]
  },
  {
   "cell_type": "markdown",
   "metadata": {},
   "source": [
    "Zmienne łącznie istotne - LLR p-value bliskie zeru."
   ]
  },
  {
   "cell_type": "code",
   "execution_count": 84,
   "metadata": {},
   "outputs": [
    {
     "name": "stdout",
     "output_type": "stream",
     "text": [
      "RotacjaZapasow       0.294170\n",
      "Sprzedaz_Aktywa      0.236085\n",
      "CurrentRatio         0.208358\n",
      "Rozmiar              0.118345\n",
      "RotacjaNaleznosci    0.058269\n",
      "dtype: float64\n"
     ]
    }
   ],
   "source": [
    "# zmienne nieistotne\n",
    "print(resprobit7.pvalues.sort_values(ascending = False).where(resprobit7.pvalues > 0.05).dropna())"
   ]
  },
  {
   "cell_type": "markdown",
   "metadata": {},
   "source": [
    "Rotacja zapasów to zmienna o takiej samej średniej dla populacji bankrutów i nie bankrutów, z tego powodu jej nieistotnośc nie budzi wątpliwości.\n",
    " - Krok 7 - usunięcie zmiennej RotacjaZapasow"
   ]
  },
  {
   "cell_type": "code",
   "execution_count": 85,
   "metadata": {},
   "outputs": [
    {
     "name": "stdout",
     "output_type": "stream",
     "text": [
      "\n",
      "Statystyka LR (3.0333568774260584) < wartość krytyczna (14.067140449340169), p_value (0.8819) - brak podstaw do odrzucenia H0\n"
     ]
    }
   ],
   "source": [
    "# zbiór zmiennych z poprzedniego modelu\n",
    "zmienne = resprobit7.params.index.tolist()\n",
    "\n",
    "# usunięcie niepotrzebnych zmiennych + sortowanie\n",
    "zmienne.remove('Intercept')\n",
    "zmienne.remove('RotacjaZapasow')\n",
    "zmienne.sort()\n",
    "\n",
    "# formuła\n",
    "formula = 'bankrut~{}'.format('+'.join(zmienne))\n",
    "\n",
    "# test\n",
    "resprobit8 = testLR(resprobit, formula, train, model = 'probit')"
   ]
  },
  {
   "cell_type": "code",
   "execution_count": 86,
   "metadata": {},
   "outputs": [
    {
     "name": "stdout",
     "output_type": "stream",
     "text": [
      "                                 Results: Probit\n",
      "==================================================================================\n",
      "Model:                    Probit                Pseudo R-squared:      0.232      \n",
      "Dependent Variable:       bankrut               AIC:                   1716.7205  \n",
      "Date:                     2020-05-20 13:50      BIC:                   1787.6703  \n",
      "No. Observations:         4675                  Log-Likelihood:        -847.36    \n",
      "Df Model:                 10                    LL-Null:               -1103.3    \n",
      "Df Residuals:             4664                  LLR p-value:           1.3093e-103\n",
      "Converged:                1.0000                Scale:                 1.0000     \n",
      "No. Iterations:           7.0000                                                  \n",
      "----------------------------------------------------------------------------------\n",
      "                                    Coef.  Std.Err.    z    P>|z|   [0.025  0.975]\n",
      "----------------------------------------------------------------------------------\n",
      "Intercept                          -2.2526   0.5379 -4.1878 0.0000 -3.3068 -1.1983\n",
      "CurrentRatio                        0.0017   0.0013  1.2754 0.2022 -0.0009  0.0043\n",
      "I(Rozmiar ** 2)                    -0.0746   0.0336 -2.2167 0.0266 -0.1405 -0.0086\n",
      "KO_Aktywa                          -0.5135   0.1059 -4.8488 0.0000 -0.7211 -0.3060\n",
      "MarzaZyskuBrutto                   -0.3556   0.1323 -2.6887 0.0072 -0.6148 -0.0964\n",
      "PrzyrostSprzedazySpadek_BrakDanych  0.7964   0.0694 11.4828 0.0000  0.6605  0.9323\n",
      "ROA                                -0.5702   0.1751 -3.2558 0.0011 -0.9135 -0.2270\n",
      "RotacjaNaleznosci                  -0.0011   0.0006 -1.7116 0.0870 -0.0023  0.0002\n",
      "RotacjaZobowiazan                   0.0011   0.0003  3.3546 0.0008  0.0004  0.0017\n",
      "Rozmiar                             0.3920   0.2626  1.4929 0.1355 -0.1226  0.9067\n",
      "Sprzedaz_Aktywa                     0.0366   0.0275  1.3297 0.1836 -0.0173  0.0905\n",
      "==================================================================================\n",
      "\n"
     ]
    }
   ],
   "source": [
    "print(resprobit8.summary2())"
   ]
  },
  {
   "cell_type": "markdown",
   "metadata": {},
   "source": [
    "Zmienne łącznie istotne - LLR p-value bliskie zeru."
   ]
  },
  {
   "cell_type": "code",
   "execution_count": 87,
   "metadata": {},
   "outputs": [
    {
     "name": "stdout",
     "output_type": "stream",
     "text": [
      "CurrentRatio         0.202174\n",
      "Sprzedaz_Aktywa      0.183603\n",
      "Rozmiar              0.135456\n",
      "RotacjaNaleznosci    0.086963\n",
      "dtype: float64\n"
     ]
    }
   ],
   "source": [
    "# zmienne nieistotne\n",
    "print(resprobit8.pvalues.sort_values(ascending = False).where(resprobit8.pvalues > 0.05).dropna())"
   ]
  },
  {
   "cell_type": "markdown",
   "metadata": {},
   "source": [
    "Podobnie jak w przypadku zmiennej Zobowiązania/Aktywa i jej pochodnych, wydawać by się mogło, że wskaźnik płynności szybkiej powinien być jednym z kryteriów różnicujących bankrutów od nie bankrutów. W trakcie analizy wartości odstających zauważono natomiast, że w wielu przypadkach wskaźnik ten osiągał wartości znacznie powyżej 2, co jest oznaką niewykorzystywania potencjału firmy, ponadto test na równość średnich w populacjach nie bankrutów i bankrutów w przypadku tej zmiennej nie dał podstaw do odrzucenia hipotezy zerowej. Nieistotność Current Ratio jest więc wytłumaczalna nie tylko ekonometrycznie, ale i ekonomicznie. Ponadto opisana sytuacja często miała miejsce w literaturze, warto również wspomnieć o niespójności znaków oszacowań tej zmiennej w artykułach naukowych.\n",
    " - Krok 8 - usunięcie zmiennej CurrentRatio"
   ]
  },
  {
   "cell_type": "code",
   "execution_count": 88,
   "metadata": {},
   "outputs": [
    {
     "name": "stdout",
     "output_type": "stream",
     "text": [
      "\n",
      "Statystyka LR (4.418888070340927) < wartość krytyczna (15.50731305586545), p_value (0.8175) - brak podstaw do odrzucenia H0\n"
     ]
    }
   ],
   "source": [
    "# zbiór zmiennych z poprzedniego modelu\n",
    "zmienne = resprobit8.params.index.tolist()\n",
    "\n",
    "# usunięcie niepotrzebnych zmiennych + sortowanie\n",
    "zmienne.remove('Intercept')\n",
    "zmienne.remove('CurrentRatio')\n",
    "zmienne.sort()\n",
    "\n",
    "# formuła\n",
    "formula = 'bankrut~{}'.format('+'.join(zmienne))\n",
    "\n",
    "# test\n",
    "resprobit9 = testLR(resprobit, formula, train, model = 'probit')"
   ]
  },
  {
   "cell_type": "code",
   "execution_count": 89,
   "metadata": {},
   "outputs": [
    {
     "name": "stdout",
     "output_type": "stream",
     "text": [
      "                                 Results: Probit\n",
      "==================================================================================\n",
      "Model:                    Probit                Pseudo R-squared:      0.231      \n",
      "Dependent Variable:       bankrut               AIC:                   1716.1060  \n",
      "Date:                     2020-05-20 13:50      BIC:                   1780.6059  \n",
      "No. Observations:         4675                  Log-Likelihood:        -848.05    \n",
      "Df Model:                 9                     LL-Null:               -1103.3    \n",
      "Df Residuals:             4665                  LLR p-value:           3.3378e-104\n",
      "Converged:                1.0000                Scale:                 1.0000     \n",
      "No. Iterations:           7.0000                                                  \n",
      "----------------------------------------------------------------------------------\n",
      "                                    Coef.  Std.Err.    z    P>|z|   [0.025  0.975]\n",
      "----------------------------------------------------------------------------------\n",
      "Intercept                          -2.1845   0.5339 -4.0919 0.0000 -3.2308 -1.1382\n",
      "I(Rozmiar ** 2)                    -0.0716   0.0335 -2.1401 0.0323 -0.1373 -0.0060\n",
      "KO_Aktywa                          -0.5021   0.1055 -4.7601 0.0000 -0.7088 -0.2953\n",
      "MarzaZyskuBrutto                   -0.3548   0.1319 -2.6897 0.0072 -0.6134 -0.0963\n",
      "PrzyrostSprzedazySpadek_BrakDanych  0.7988   0.0693 11.5217 0.0000  0.6629  0.9347\n",
      "ROA                                -0.5653   0.1754 -3.2239 0.0013 -0.9090 -0.2216\n",
      "RotacjaNaleznosci                  -0.0010   0.0006 -1.6726 0.0944 -0.0022  0.0002\n",
      "RotacjaZobowiazan                   0.0011   0.0003  3.3292 0.0009  0.0004  0.0017\n",
      "Rozmiar                             0.3644   0.2611  1.3958 0.1628 -0.1473  0.8760\n",
      "Sprzedaz_Aktywa                     0.0346   0.0275  1.2600 0.2077 -0.0192  0.0885\n",
      "==================================================================================\n",
      "\n"
     ]
    }
   ],
   "source": [
    "print(resprobit9.summary2())"
   ]
  },
  {
   "cell_type": "markdown",
   "metadata": {},
   "source": [
    "Zmienne łącznie istotne - LLR p-value bliskie zeru."
   ]
  },
  {
   "cell_type": "code",
   "execution_count": 90,
   "metadata": {},
   "outputs": [
    {
     "name": "stdout",
     "output_type": "stream",
     "text": [
      "Sprzedaz_Aktywa      0.207673\n",
      "Rozmiar              0.162781\n",
      "RotacjaNaleznosci    0.094399\n",
      "dtype: float64\n"
     ]
    }
   ],
   "source": [
    "# zmienne nieistotne\n",
    "print(resprobit9.pvalues.sort_values(ascending = False).where(resprobit9.pvalues > 0.05).dropna())"
   ]
  },
  {
   "cell_type": "markdown",
   "metadata": {},
   "source": [
    "Sprzedaż/Aktywa wydaje się być ważną zmienną w ocenie kondycji przedsiębiorstwa, z uwagi na ogrom próby oraz brak informacji o sektorze, z którego pochodzą zmienne, można domniemywać że badane obiekty pochodzą z różnych gałęzi gospodarki, a te jak wiadomo nie muszą w stu procentach opierać się na sprzedaży.\n",
    " - Krok 9 - usunięcie zmiennej Sprzedaz_Aktywa"
   ]
  },
  {
   "cell_type": "code",
   "execution_count": 91,
   "metadata": {},
   "outputs": [
    {
     "name": "stdout",
     "output_type": "stream",
     "text": [
      "\n",
      "Statystyka LR (5.9712344483205015) < wartość krytyczna (16.918977604620448), p_value (0.7428) - brak podstaw do odrzucenia H0\n"
     ]
    }
   ],
   "source": [
    "# zbiór zmiennych z poprzedniego modelu\n",
    "zmienne = resprobit9.params.index.tolist()\n",
    "\n",
    "# usunięcie niepotrzebnych zmiennych + sortowanie\n",
    "zmienne.remove('Intercept')\n",
    "zmienne.remove('Sprzedaz_Aktywa')\n",
    "zmienne.sort()\n",
    "\n",
    "# formuła\n",
    "formula = 'bankrut~{}'.format('+'.join(zmienne))\n",
    "\n",
    "# test\n",
    "resprobit10 = testLR(resprobit, formula, train, model = 'probit')"
   ]
  },
  {
   "cell_type": "code",
   "execution_count": 92,
   "metadata": {},
   "outputs": [
    {
     "name": "stdout",
     "output_type": "stream",
     "text": [
      "                                 Results: Probit\n",
      "==================================================================================\n",
      "Model:                    Probit                Pseudo R-squared:      0.231      \n",
      "Dependent Variable:       bankrut               AIC:                   1715.6584  \n",
      "Date:                     2020-05-20 13:50      BIC:                   1773.7082  \n",
      "No. Observations:         4675                  Log-Likelihood:        -848.83    \n",
      "Df Model:                 8                     LL-Null:               -1103.3    \n",
      "Df Residuals:             4666                  LLR p-value:           8.7051e-105\n",
      "Converged:                1.0000                Scale:                 1.0000     \n",
      "No. Iterations:           7.0000                                                  \n",
      "----------------------------------------------------------------------------------\n",
      "                                    Coef.  Std.Err.    z    P>|z|   [0.025  0.975]\n",
      "----------------------------------------------------------------------------------\n",
      "Intercept                          -1.9139   0.4854 -3.9431 0.0001 -2.8653 -0.9626\n",
      "I(Rozmiar ** 2)                    -0.0649   0.0330 -1.9662 0.0493 -0.1296 -0.0002\n",
      "KO_Aktywa                          -0.5300   0.1030 -5.1443 0.0000 -0.7319 -0.3281\n",
      "MarzaZyskuBrutto                   -0.3442   0.1315 -2.6171 0.0089 -0.6020 -0.0864\n",
      "PrzyrostSprzedazySpadek_BrakDanych  0.7943   0.0692 11.4768 0.0000  0.6586  0.9299\n",
      "ROA                                -0.5802   0.1749 -3.3176 0.0009 -0.9230 -0.2374\n",
      "RotacjaNaleznosci                  -0.0011   0.0006 -1.7856 0.0742 -0.0023  0.0001\n",
      "RotacjaZobowiazan                   0.0010   0.0003  3.1019 0.0019  0.0004  0.0016\n",
      "Rozmiar                             0.2887   0.2533  1.1398 0.2543 -0.2077  0.7852\n",
      "==================================================================================\n",
      "\n"
     ]
    }
   ],
   "source": [
    "print(resprobit10.summary2())"
   ]
  },
  {
   "cell_type": "markdown",
   "metadata": {},
   "source": [
    "Zmienne łącznie istotne - LLR p-value bliskie zeru."
   ]
  },
  {
   "cell_type": "code",
   "execution_count": 93,
   "metadata": {},
   "outputs": [
    {
     "name": "stdout",
     "output_type": "stream",
     "text": [
      "Rozmiar              0.254350\n",
      "RotacjaNaleznosci    0.074168\n",
      "dtype: float64\n"
     ]
    }
   ],
   "source": [
    "# zmienne nieistotne\n",
    "print(resprobit10.pvalues.sort_values(ascending = False).where(resprobit10.pvalues > 0.05).dropna())"
   ]
  },
  {
   "cell_type": "markdown",
   "metadata": {},
   "source": [
    "Bardzo dziwi fakt nieistotności Rozmiaru przedsiębiorstwa w problemie predykcji jego bankructwa, takie przypadki jednak znane są już w literaturze (Jinlan Ni i in. 2014). Istotny natomiast dalej pozostaje kwadrat Rozmiaru i jest szacowany ze znakiem \"-\", co jest spójne z intuicją oraz hipotezą poboczną Too big to fail. Jeżeli dotakowo weźmiemy pod uwagę fakt, że próba jest dość duża, możemy domniemywać, że rozmiar spółek bankrutujących jest tam bardzo różny, dlatego w pewnych granich, jej rozmiar nie rozróżnia bankrutów od nie bankrutów. Kwadrat spółki obrazuje dużo większe różnice, dlatego też jego istotność wydaje się uzasadniona.\n",
    " - Krok 10 - usunięcie zmiennej Rozmiar"
   ]
  },
  {
   "cell_type": "code",
   "execution_count": 94,
   "metadata": {},
   "outputs": [
    {
     "name": "stdout",
     "output_type": "stream",
     "text": [
      "\n",
      "Statystyka LR (7.323520636549347) < wartość krytyczna (18.307038053275146), p_value (0.6946) - brak podstaw do odrzucenia H0\n"
     ]
    }
   ],
   "source": [
    "# zbiór zmiennych z poprzedniego modelu\n",
    "zmienne = resprobit10.params.index.tolist()\n",
    "\n",
    "# usunięcie niepotrzebnych zmiennych + sortowanie\n",
    "zmienne.remove('Intercept')\n",
    "zmienne.remove('Rozmiar')\n",
    "zmienne.sort()\n",
    "\n",
    "# formuła\n",
    "formula = 'bankrut~{}'.format('+'.join(zmienne))\n",
    "\n",
    "# test\n",
    "resprobit11 = testLR(resprobit, formula, train, model = 'probit')"
   ]
  },
  {
   "cell_type": "code",
   "execution_count": 95,
   "metadata": {},
   "outputs": [
    {
     "name": "stdout",
     "output_type": "stream",
     "text": [
      "                                  Results: Probit\n",
      "===================================================================================\n",
      "Model:                     Probit                Pseudo R-squared:      0.230      \n",
      "Dependent Variable:        bankrut               AIC:                   1715.0107  \n",
      "Date:                      2020-05-20 13:50      BIC:                   1766.6105  \n",
      "No. Observations:          4675                  Log-Likelihood:        -849.51    \n",
      "Df Model:                  7                     LL-Null:               -1103.3    \n",
      "Df Residuals:              4667                  LLR p-value:           1.9207e-105\n",
      "Converged:                 1.0000                Scale:                 1.0000     \n",
      "No. Iterations:            7.0000                                                  \n",
      "-----------------------------------------------------------------------------------\n",
      "                                    Coef.  Std.Err.    z     P>|z|   [0.025  0.975]\n",
      "-----------------------------------------------------------------------------------\n",
      "Intercept                          -1.3750   0.1074 -12.8035 0.0000 -1.5854 -1.1645\n",
      "I(Rozmiar ** 2)                    -0.0278   0.0053  -5.2357 0.0000 -0.0382 -0.0174\n",
      "KO_Aktywa                          -0.5187   0.1019  -5.0879 0.0000 -0.7185 -0.3189\n",
      "MarzaZyskuBrutto                   -0.3456   0.1313  -2.6321 0.0085 -0.6029 -0.0883\n",
      "PrzyrostSprzedazySpadek_BrakDanych  0.7935   0.0692  11.4678 0.0000  0.6579  0.9291\n",
      "ROA                                -0.5665   0.1733  -3.2684 0.0011 -0.9063 -0.2268\n",
      "RotacjaNaleznosci                  -0.0011   0.0006  -1.8274 0.0676 -0.0023  0.0001\n",
      "RotacjaZobowiazan                   0.0010   0.0003   3.1022 0.0019  0.0004  0.0016\n",
      "===================================================================================\n",
      "\n"
     ]
    }
   ],
   "source": [
    "print(resprobit11.summary2())"
   ]
  },
  {
   "cell_type": "markdown",
   "metadata": {},
   "source": [
    "Zmienne łącznie istotne - LLR p-value bliskie zeru."
   ]
  },
  {
   "cell_type": "code",
   "execution_count": 96,
   "metadata": {},
   "outputs": [
    {
     "name": "stdout",
     "output_type": "stream",
     "text": [
      "RotacjaNaleznosci    0.067642\n",
      "dtype: float64\n"
     ]
    }
   ],
   "source": [
    "# zmienne nieistotne\n",
    "print(resprobit11.pvalues.sort_values(ascending = False).where(resprobit11.pvalues > 0.05).dropna())"
   ]
  },
  {
   "cell_type": "markdown",
   "metadata": {},
   "source": [
    "Rotacja należności to jedna ze zmiennych o takiej samej średniej w przypadku bankrutów i nie bankrutów, dlatego jej nieistotność nie dziwi.\n",
    " - Krok 11 - usunięcie zmiennej RotacjaNaleznosci"
   ]
  },
  {
   "cell_type": "code",
   "execution_count": 97,
   "metadata": {},
   "outputs": [
    {
     "name": "stdout",
     "output_type": "stream",
     "text": [
      "\n",
      "Statystyka LR (10.840170664185507) < wartość krytyczna (19.67513757268249), p_value (0.4567) - brak podstaw do odrzucenia H0\n"
     ]
    }
   ],
   "source": [
    "# zbiór zmiennych z poprzedniego modelu\n",
    "zmienne = resprobit11.params.index.tolist()\n",
    "\n",
    "# usunięcie niepotrzebnych zmiennych + sortowanie\n",
    "zmienne.remove('Intercept')\n",
    "zmienne.remove('RotacjaNaleznosci')\n",
    "zmienne.sort()\n",
    "\n",
    "# formuła\n",
    "formula = 'bankrut~{}'.format('+'.join(zmienne))\n",
    "\n",
    "# test\n",
    "resprobit12 = testLR(resprobit, formula, train, model = 'probit')"
   ]
  },
  {
   "cell_type": "code",
   "execution_count": 98,
   "metadata": {},
   "outputs": [
    {
     "name": "stdout",
     "output_type": "stream",
     "text": [
      "                                  Results: Probit\n",
      "===================================================================================\n",
      "Model:                     Probit                Pseudo R-squared:      0.228      \n",
      "Dependent Variable:        bankrut               AIC:                   1716.5273  \n",
      "Date:                      2020-05-20 13:50      BIC:                   1761.6772  \n",
      "No. Observations:          4675                  Log-Likelihood:        -851.26    \n",
      "Df Model:                  6                     LL-Null:               -1103.3    \n",
      "Df Residuals:              4668                  LLR p-value:           1.1443e-105\n",
      "Converged:                 1.0000                Scale:                 1.0000     \n",
      "No. Iterations:            7.0000                                                  \n",
      "-----------------------------------------------------------------------------------\n",
      "                                    Coef.  Std.Err.    z     P>|z|   [0.025  0.975]\n",
      "-----------------------------------------------------------------------------------\n",
      "Intercept                          -1.4111   0.1054 -13.3897 0.0000 -1.6176 -1.2045\n",
      "I(Rozmiar ** 2)                    -0.0279   0.0053  -5.2668 0.0000 -0.0383 -0.0175\n",
      "KO_Aktywa                          -0.5847   0.0955  -6.1222 0.0000 -0.7719 -0.3975\n",
      "MarzaZyskuBrutto                   -0.3345   0.1321  -2.5329 0.0113 -0.5933 -0.0757\n",
      "PrzyrostSprzedazySpadek_BrakDanych  0.7920   0.0691  11.4666 0.0000  0.6566  0.9274\n",
      "ROA                                -0.5534   0.1711  -3.2340 0.0012 -0.8888 -0.2180\n",
      "RotacjaZobowiazan                   0.0007   0.0003   2.5563 0.0106  0.0002  0.0012\n",
      "===================================================================================\n",
      "\n"
     ]
    }
   ],
   "source": [
    "print(resprobit12.summary2())"
   ]
  },
  {
   "cell_type": "code",
   "execution_count": 99,
   "metadata": {},
   "outputs": [
    {
     "name": "stdout",
     "output_type": "stream",
     "text": [
      "Series([], dtype: float64)\n"
     ]
    }
   ],
   "source": [
    "# zmienne nieistotne\n",
    "print(resprobit12.pvalues.sort_values(ascending = False).where(resprobit12.pvalues > 0.05).dropna())"
   ]
  },
  {
   "cell_type": "markdown",
   "metadata": {},
   "source": [
    " - **resprobit12 to ostateczny model**\n",
    "#### Diagnostyka \n",
    "\n",
    "Funkcja do przeprowadzenia testu typu związku (linktest)"
   ]
  },
  {
   "cell_type": "code",
   "execution_count": 100,
   "metadata": {},
   "outputs": [],
   "source": [
    "# Funkcja autorstwa dr Rafała Woźniaka (Wydział Nauk Ekonomicznych UW), język: R, data: 18 kwietnia 2019\n",
    "# dostosowanie do projektu i przełożenie na język Python:\n",
    "#                         Maciej Odziemczyk, student (Wydział Nauk Ekonomicznych UW), data: 6 maja 2020\n",
    "# parametry, dokumentacja:\n",
    "#     modres - model (dopasowany)\n",
    "#     y - nazwa zmiennej zależnej, dokładnie taka jak w zbiorze danych\n",
    "#     data - zbiór danych, na których oszacowany został modres\n",
    "#     model - typ modelu, powinien być taki sam jak dla modres, dostępne 'logit' i 'probit'\n",
    "\n",
    "def linktest(modres, y, data, model = 'logit'):\n",
    "    \n",
    "    try:\n",
    "        # definiowanie wartości dopasowanych i ich kwadratów\n",
    "        y = pd.Series(np.array(data[y]))\n",
    "        y_fit = pd.Series(modres.predict())\n",
    "        yhat = np.log(y_fit/(1-y_fit))\n",
    "        yhat2 = yhat.copy()**2\n",
    "        data = pd.concat((y, yhat, yhat2), axis = 1)\n",
    "        \n",
    "        # model pomocniczy\n",
    "        if model == 'logit':\n",
    "            from statsmodels.formula.api import logit\n",
    "            reg = logit('y~yhat+yhat2', data).fit(disp = False)\n",
    "        elif model == 'probit':\n",
    "            from statsmodels.formula.api import probit\n",
    "            reg = probit('y~yhat+yhat2', data).fit(disp = False)\n",
    "        else:\n",
    "            raise 'link test only for \"logit\" and \"probit\" models'\n",
    "        \n",
    "        # zwrócenie wyników\n",
    "        return reg\n",
    "            \n",
    "    except:\n",
    "        raise 'y should be depended value from model'   "
   ]
  },
  {
   "cell_type": "code",
   "execution_count": 101,
   "metadata": {},
   "outputs": [
    {
     "name": "stdout",
     "output_type": "stream",
     "text": [
      "                         Results: Probit\n",
      "==================================================================\n",
      "Model:              Probit           Pseudo R-squared: 0.230      \n",
      "Dependent Variable: y                AIC:              1705.1164  \n",
      "Date:               2020-05-20 13:50 BIC:              1724.4664  \n",
      "No. Observations:   4675             Log-Likelihood:   -849.56    \n",
      "Df Model:           2                LL-Null:          -1103.3    \n",
      "Df Residuals:       4672             LLR p-value:      6.4957e-111\n",
      "Converged:          1.0000           Scale:            1.0000     \n",
      "No. Iterations:     8.0000                                        \n",
      "-------------------------------------------------------------------\n",
      "                Coef.   Std.Err.     z     P>|z|    [0.025   0.975]\n",
      "-------------------------------------------------------------------\n",
      "Intercept      -0.1602    0.0715  -2.2419  0.0250  -0.3003  -0.0201\n",
      "yhat            0.4347    0.0410  10.6076  0.0000   0.3544   0.5150\n",
      "yhat2          -0.0171    0.0086  -1.9996  0.0455  -0.0340  -0.0003\n",
      "==================================================================\n",
      "\n"
     ]
    }
   ],
   "source": [
    "# sprawdzenie poprawności formy funkcyjnej modelu probit12\n",
    "print(linktest(resprobit12, 'bankrut', train, 'probit').summary2())"
   ]
  },
  {
   "cell_type": "markdown",
   "metadata": {},
   "source": [
    "Interpretacja:\n",
    " - parametr przy yhat jest istotny, parametr przy yhat2 jest istotny, model nie ma poprawej formy funkcyjnej, należy poszukać nieliniowych zależności w zbiorze zmiennych objaśniających.\n",
    " \n",
    "Próba dodania kwadratu zmiennej Kapitał Obrotowy/Aktywa:"
   ]
  },
  {
   "cell_type": "code",
   "execution_count": 102,
   "metadata": {},
   "outputs": [
    {
     "name": "stdout",
     "output_type": "stream",
     "text": [
      "                                  Results: Probit\n",
      "===================================================================================\n",
      "Model:                     Probit                Pseudo R-squared:      0.234      \n",
      "Dependent Variable:        bankrut               AIC:                   1706.1211  \n",
      "Date:                      2020-05-20 13:50      BIC:                   1757.7210  \n",
      "No. Observations:          4675                  Log-Likelihood:        -845.06    \n",
      "Df Model:                  7                     LL-Null:               -1103.3    \n",
      "Df Residuals:              4667                  LLR p-value:           2.3544e-107\n",
      "Converged:                 1.0000                Scale:                 1.0000     \n",
      "No. Iterations:            7.0000                                                  \n",
      "-----------------------------------------------------------------------------------\n",
      "                                    Coef.  Std.Err.    z     P>|z|   [0.025  0.975]\n",
      "-----------------------------------------------------------------------------------\n",
      "Intercept                          -1.3049   0.1094 -11.9264 0.0000 -1.5194 -1.0905\n",
      "I(KO_Aktywa ** 2)                  -0.1470   0.0355  -4.1348 0.0000 -0.2167 -0.0773\n",
      "I(Rozmiar ** 2)                    -0.0308   0.0054  -5.7113 0.0000 -0.0414 -0.0202\n",
      "KO_Aktywa                          -0.7652   0.1093  -6.9992 0.0000 -0.9795 -0.5509\n",
      "MarzaZyskuBrutto                   -0.3078   0.1313  -2.3449 0.0190 -0.5650 -0.0505\n",
      "PrzyrostSprzedazySpadek_BrakDanych  0.7991   0.0695  11.5021 0.0000  0.6630  0.9353\n",
      "ROA                                -0.6446   0.1753  -3.6771 0.0002 -0.9882 -0.3010\n",
      "RotacjaZobowiazan                   0.0006   0.0003   2.0799 0.0375  0.0000  0.0011\n",
      "===================================================================================\n",
      "\n"
     ]
    }
   ],
   "source": [
    "# zbiór zmiennych z poprzedniego modelu\n",
    "zmienne = resprobit12.params.index.tolist()\n",
    "\n",
    "# usunięcie stałej i dodanie kwadratu zmiennej Kapitał obrotowegy/Aktywa + sortowanie\n",
    "zmienne.remove('Intercept')\n",
    "zmienne.append('I(KO_Aktywa ** 2)')\n",
    "zmienne.sort()\n",
    "\n",
    "# formuła\n",
    "formula = 'bankrut~{}'.format('+'.join(zmienne))\n",
    "\n",
    "# model\n",
    "resprobit13 = probit(formula, train).fit(disp = False)\n",
    "print(resprobit13.summary2())"
   ]
  },
  {
   "cell_type": "code",
   "execution_count": 103,
   "metadata": {},
   "outputs": [
    {
     "name": "stdout",
     "output_type": "stream",
     "text": [
      "\n",
      "Statystyka LR (12.406247181317667) > wartość krytyczna (3.841458820694124), p_value (0.0004) - podstawa do odrzucenia H0\n"
     ]
    }
   ],
   "source": [
    "# test LR dla kwadratu KO_Aktywa\n",
    "zmienne = resprobit13.params.index.tolist()\n",
    "zmienne.remove('Intercept')\n",
    "zmienne.remove('I(KO_Aktywa ** 2)')\n",
    "\n",
    "zmienne.sort()\n",
    "formula = 'bankrut~{}'.format('+'.join(zmienne))\n",
    "resprobit14 = testLR(resprobit13, formula, train, model = 'probit')"
   ]
  },
  {
   "cell_type": "code",
   "execution_count": 104,
   "metadata": {},
   "outputs": [
    {
     "name": "stdout",
     "output_type": "stream",
     "text": [
      "                         Results: Probit\n",
      "==================================================================\n",
      "Model:              Probit           Pseudo R-squared: 0.233      \n",
      "Dependent Variable: y                AIC:              1697.5496  \n",
      "Date:               2020-05-20 13:50 BIC:              1716.8995  \n",
      "No. Observations:   4675             Log-Likelihood:   -845.77    \n",
      "Df Model:           2                LL-Null:          -1103.3    \n",
      "Df Residuals:       4672             LLR p-value:      1.4774e-112\n",
      "Converged:          1.0000           Scale:            1.0000     \n",
      "No. Iterations:     8.0000                                        \n",
      "--------------------------------------------------------------------\n",
      "             Coef.    Std.Err.      z      P>|z|     [0.025   0.975]\n",
      "--------------------------------------------------------------------\n",
      "Intercept   -0.0653     0.0823   -0.7932   0.4277   -0.2267   0.0961\n",
      "yhat         0.5773     0.0644    8.9695   0.0000    0.4511   0.7034\n",
      "yhat2        0.0164     0.0130    1.2542   0.2098   -0.0092   0.0419\n",
      "==================================================================\n",
      "\n"
     ]
    }
   ],
   "source": [
    "# linktest dla modelu z kwadratem KO_Aktywa\n",
    "print(linktest(resprobit13, 'bankrut', train, 'probit').summary2())"
   ]
  },
  {
   "cell_type": "markdown",
   "metadata": {},
   "source": [
    "Interpretacja:\n",
    " - parametr przy yhat istotny, parametr przy yhat2 nieistotny, model probit13 ma poprawną formę funkcyjną."
   ]
  },
  {
   "cell_type": "markdown",
   "metadata": {},
   "source": [
    "Funkcja do liczenia $R^2$"
   ]
  },
  {
   "cell_type": "code",
   "execution_count": 105,
   "metadata": {},
   "outputs": [],
   "source": [
    "# funkcja do liczenia Pseudo R^2 dla modeli logit i probit.\n",
    "# Autor: Maciej Odziemczyk, student, Wydział Nauk Ekonomicznych UW, maj 2020.\n",
    "# funkcja zwraca wybrany Pseudo R^2 dla modeli logit i probit. Dostępne warianty: Count, Adjusted Count,\n",
    "#    McKelveya i Zavoiny, lub wszystkie na raz.\n",
    "# argumenty, dokumentacja:\n",
    "#     funkcja dostosowana do rezultatów modeli logit i probit z biblioteki statsmodels.formula.api (discrete choice models)\n",
    "#     modres - model (dopasowany)\n",
    "#     which - 'count' zwraca Count R^2, 'adjcount' zwraca Adjusted Count R^2, 'mckelveyzavoina' zwraca R^2 McKelveya i Zavoiny,\n",
    "#         'all' zwraca obiekt DataFrame ze wszystkimi statystykami\n",
    "#     cutoff - punkt odcięcia, y_hat > cutoff => y_pred = 1, 0 w p.p. \n",
    "\n",
    "def R2(modres, which = 'all', mod = 'logit', cutoff = 0.5):\n",
    "    \n",
    "    # transpozycja, aby zachować zgodność osi ze skryptem dr Mycielskiego\n",
    "    t = modres.pred_table(cutoff).T\n",
    "    nmax = max(t[:,0].sum(), t[:,1].sum())\n",
    "    y_fit = np.array(modres.fittedvalues)\n",
    "    \n",
    "    # wariancja w zależności od wyboru modelu (McKelvey&Zavoina)\n",
    "    if mod == 'logit':\n",
    "        from math import pi\n",
    "        var = (pi**2)/3\n",
    "    elif mod == 'probit':\n",
    "        var = 1\n",
    "    else:\n",
    "        raise 'funkcja działa tylko z modelami \"logit\" i \"probit\". mod musi być podane dla R^2 McKelvey&Zavoina'\n",
    "    \n",
    "    # obliczenia\n",
    "    count = round((t[0,0]+t[1,1])/t.sum(), 4)\n",
    "    adjcount = round((t[0,0]+t[1,1]-nmax)/(t.sum()-nmax), 4)\n",
    "    mckelveyzavoina = round(((y_fit-y_fit.mean())**2).mean()/(((y_fit-y_fit.mean())**2).mean()+var), 4)\n",
    "    \n",
    "    # zwrócenie wyników\n",
    "    if which == 'count':\n",
    "        return count\n",
    "    elif which == 'adjcount':\n",
    "        return adjcount\n",
    "    elif which == 'mckelveyzavoina':\n",
    "        return mckelveyzavoina\n",
    "    elif which == 'all':\n",
    "        ret = pd.DataFrame(data = [count, adjcount, mckelveyzavoina], index = ['Count','Adjusted count','McKelvey&Zavoina'])\n",
    "        ret.rename({0:'R^2'}, axis = 1, inplace = True)\n",
    "        return ret\n",
    "    else:\n",
    "        raise 'możliwe R^2: \"count\", \"adjcount\", \"mckelveyzavoina\" lub \"all\"'"
   ]
  },
  {
   "cell_type": "code",
   "execution_count": 106,
   "metadata": {},
   "outputs": [
    {
     "name": "stdout",
     "output_type": "stream",
     "text": [
      "\n",
      "R^2 probit13:\n",
      "                      R^2\n",
      "Count             0.9380\n",
      "Adjusted count    0.0203\n",
      "McKelvey&Zavoina  0.2770\n"
     ]
    }
   ],
   "source": [
    "ctf = 0.5\n",
    "print('\\nR^2 probit13:\\n', R2(resprobit13, 'all', 'probit', ctf))"
   ]
  },
  {
   "cell_type": "markdown",
   "metadata": {},
   "source": [
    "Interpretacja:\n",
    " - count: model poprawnie klasyfikuje 93,8% obserwacji,\n",
    " - adjusted count: 2,03% poprawnych klasyfikacji wynika ze zmienności zmiennych zawartych w modelu,\n",
    " - McKelvey&Zavoina: gdyby zmienna ukryta była obserwowalna, model wyjaśniałby 27,7% jej zmienności.\n",
    "\n",
    "##### dodanie Zscore"
   ]
  },
  {
   "cell_type": "code",
   "execution_count": 107,
   "metadata": {},
   "outputs": [
    {
     "name": "stdout",
     "output_type": "stream",
     "text": [
      "                                  Results: Probit\n",
      "===================================================================================\n",
      "Model:                     Probit                Pseudo R-squared:      0.235      \n",
      "Dependent Variable:        bankrut               AIC:                   1705.6983  \n",
      "Date:                      2020-05-20 13:50      BIC:                   1763.7482  \n",
      "No. Observations:          4675                  Log-Likelihood:        -843.85    \n",
      "Df Model:                  8                     LL-Null:               -1103.3    \n",
      "Df Residuals:              4666                  LLR p-value:           6.3406e-107\n",
      "Converged:                 1.0000                Scale:                 1.0000     \n",
      "No. Iterations:            7.0000                                                  \n",
      "-----------------------------------------------------------------------------------\n",
      "                                    Coef.  Std.Err.    z     P>|z|   [0.025  0.975]\n",
      "-----------------------------------------------------------------------------------\n",
      "Intercept                          -1.4493   0.1426 -10.1662 0.0000 -1.7287 -1.1699\n",
      "I(KO_Aktywa ** 2)                  -0.1540   0.0354  -4.3515 0.0000 -0.2234 -0.0846\n",
      "I(Rozmiar ** 2)                    -0.0275   0.0058  -4.7714 0.0000 -0.0388 -0.0162\n",
      "KO_Aktywa                          -0.7384   0.1106  -6.6739 0.0000 -0.9553 -0.5216\n",
      "MarzaZyskuBrutto                   -0.3213   0.1315  -2.4432 0.0146 -0.5791 -0.0635\n",
      "PrzyrostSprzedazySpadek_BrakDanych  0.8046   0.0696  11.5581 0.0000  0.6681  0.9410\n",
      "ROA                                -0.6327   0.1752  -3.6115 0.0003 -0.9760 -0.2893\n",
      "RotacjaZobowiazan                   0.0007   0.0003   2.4697 0.0135  0.0001  0.0013\n",
      "Zscore                              0.0408   0.0257   1.5883 0.1122 -0.0095  0.0911\n",
      "===================================================================================\n",
      "\n"
     ]
    }
   ],
   "source": [
    "# zbiór zmiennych z poprzedniego modelu\n",
    "zmienne = resprobit13.params.index.tolist()\n",
    "\n",
    "# usunięcie stałej i dodanie Zscore (zmienna Altmana)\n",
    "zmienne.remove('Intercept')\n",
    "zmienne.append('Zscore')\n",
    "\n",
    "# formuła\n",
    "formula = 'bankrut~{}'.format('+'.join(zmienne))\n",
    "\n",
    "# model\n",
    "resprobit15 = probit(formula, train).fit(disp = False)\n",
    "print(resprobit15.summary2())"
   ]
  },
  {
   "cell_type": "markdown",
   "metadata": {},
   "source": [
    "martwi znak oszacowania parametru zmiennej Zscore, intuicja podpowiada ujemny. Zmienna nie jest istotna statystycznie, jednak hipoteza nie dotyczy wnioskowania statystycznego, a pewności predykcji, ponadto być może istnieje zależność nieliniowa, tak jak to miało miejsce w przypadku z Rozmiarem.<br/>\n",
    "\n",
    "linktest modelu ze zmienną Zscore"
   ]
  },
  {
   "cell_type": "code",
   "execution_count": 108,
   "metadata": {},
   "outputs": [
    {
     "name": "stdout",
     "output_type": "stream",
     "text": [
      "                         Results: Probit\n",
      "==================================================================\n",
      "Model:              Probit           Pseudo R-squared: 0.235      \n",
      "Dependent Variable: y                AIC:              1695.0211  \n",
      "Date:               2020-05-20 13:50 BIC:              1714.3711  \n",
      "No. Observations:   4675             Log-Likelihood:   -844.51    \n",
      "Df Model:           2                LL-Null:          -1103.3    \n",
      "Df Residuals:       4672             LLR p-value:      4.1731e-113\n",
      "Converged:          1.0000           Scale:            1.0000     \n",
      "No. Iterations:     8.0000                                        \n",
      "--------------------------------------------------------------------\n",
      "             Coef.    Std.Err.      z      P>|z|     [0.025   0.975]\n",
      "--------------------------------------------------------------------\n",
      "Intercept   -0.0802     0.0803   -0.9999   0.3174   -0.2375   0.0771\n",
      "yhat         0.5553     0.0621    8.9364   0.0000    0.4335   0.6771\n",
      "yhat2        0.0114     0.0128    0.8926   0.3721   -0.0136   0.0364\n",
      "==================================================================\n",
      "\n"
     ]
    }
   ],
   "source": [
    "print(linktest(resprobit15, 'bankrut', train, 'probit').summary2())"
   ]
  },
  {
   "cell_type": "markdown",
   "metadata": {},
   "source": [
    "Interpretacja:\n",
    " - parametr przy yhat istotny, parametr przy yhat2 nieistotny, model probit13 ma poprawną formę funkcyjną.\n",
    "\n",
    "$R^2$:"
   ]
  },
  {
   "cell_type": "code",
   "execution_count": 109,
   "metadata": {},
   "outputs": [
    {
     "name": "stdout",
     "output_type": "stream",
     "text": [
      "\n",
      "R2 probit15:\n",
      "                      R^2\n",
      "Count             0.9373\n",
      "Adjusted count    0.0101\n",
      "McKelvey&Zavoina  0.2757\n"
     ]
    }
   ],
   "source": [
    "ctf = 0.5\n",
    "print('\\nR2 probit15:\\n', R2(resprobit15, 'all', 'probit', ctf))"
   ]
  },
  {
   "cell_type": "markdown",
   "metadata": {},
   "source": [
    "Interpretacja:\n",
    " - count: model poprawnie klasyfikuje 93,8% obserwacji,\n",
    " - adjusted count: 2,03% poprawnych klasyfikacji wynika ze zmienności zmiennych zawartych w modelu,\n",
    " - McKelvey&Zavoina: gdyby zmienna ukryta była obserwowalna, model wyjaśniałby 27,7% jej zmienności.\n",
    "\n",
    "Modele finalne to:\n",
    " - resprobit13 (model bez zmiennej Altmana)\n",
    " - resprobit15 (model ze zmienną Altmana)"
   ]
  },
  {
   "cell_type": "markdown",
   "metadata": {},
   "source": [
    "##### tablice klasyfikacjyjne i predykcyjne"
   ]
  },
  {
   "cell_type": "code",
   "execution_count": 110,
   "metadata": {},
   "outputs": [],
   "source": [
    "# funkcja do generowania tablicy klasyfikacyjnej (możliwość stosowania na zbiorze testowym)\n",
    "#     i podstawowych statystyk z nią związanych.\n",
    "# Autor: Maciej Odziemczyk, student, Wydział Nauk Ekonomicznych UW, maj 2020.\n",
    "# funkcja zwraca tablicę klasyfikacyjną, wrażliwość i specyficzność\n",
    "# argumenty, dokumentacja:\n",
    "#     funkcja dostosowana do modeli posiadających metodę 'predict()', klasyfikacja binarna,\n",
    "#     resmod - dopasowany model, dla którego chcemy sprawdzić jakość klasyfikacji,\n",
    "#     data - dane, na których testujemy model,\n",
    "#     y - zmienna 'label', prawdziwa wartość,\n",
    "#     cutoff - poziom odcięcia klasyfikacji, pred > cutoff => 1\n",
    "\n",
    "def predictionTable(modres, data, y, cutoff = 0.5):\n",
    "    # wyłączenie notacji naukowej\n",
    "    np.set_printoptions(suppress = True)\n",
    "\n",
    "    # generowanie predykcji\n",
    "    preds = modres.predict(data)\n",
    "\n",
    "    # klasyfikacja w oparciu o cutoff\n",
    "    preds = preds.apply(lambda x: 1 if x > cutoff else 0)\n",
    "\n",
    "    # złączenie wartości rzeczywistych z przewidywanymi\n",
    "    results = pd.concat(objs = [data[y], preds], axis = 1, names = ['labels', 'preds'])\n",
    "    results.rename(mapper = {0:'preds'}, axis = 1, inplace = True)\n",
    "\n",
    "    # obliczanie liczebności trafności prognoz\n",
    "    true = results.where(results.bankrut == results.preds).dropna()\n",
    "    false = results.where(results.bankrut != results.preds).dropna()\n",
    "    TP = true.where(true.preds == 1).dropna().shape[0]\n",
    "    TN = true.where(true.preds == 0).dropna().shape[0]\n",
    "    FP = false.where(false.preds == 1).dropna().shape[0]\n",
    "    FN = false.where(false.preds == 0).dropna().shape[0]\n",
    "\n",
    "    # generacja tabeli klasyfikacji\n",
    "    predTable = np.zeros((2,2))\n",
    "    predTable[0, 0] = TN\n",
    "    predTable[1, 0] = FP\n",
    "    predTable[0, 1] = FN\n",
    "    predTable[1, 1] = TP\n",
    "    \n",
    "    # dodatkowe statystyki\n",
    "    sensivity = predTable[1,1]/(predTable[0, 1] + predTable[1, 1])\n",
    "    specifity = predTable[0, 0]/(predTable[0, 0] + predTable[1, 0])\n",
    "    \n",
    "    # włączenie notacji naukowej\n",
    "    np.set_printoptions(suppress = False)\n",
    "    \n",
    "    return predTable, sensivity, specifity"
   ]
  },
  {
   "cell_type": "markdown",
   "metadata": {},
   "source": [
    "Wrażliwość - prawdopodobieństwo przewidzenia bankructwa, jeżeli zaobserwowano bankructwo <br/>\n",
    "Specyficznośc - prawdopodobieństwo przewidzenia niebankructwa, jeżeli zaobserwowano niebankructwo<br/>\n",
    "\n",
    "punkt odcięcia 0.5 - standard"
   ]
  },
  {
   "cell_type": "code",
   "execution_count": 111,
   "metadata": {},
   "outputs": [
    {
     "name": "stdout",
     "output_type": "stream",
     "text": [
      "model: resprobit13, zbiór: train, próg odcięcia: 0.5:\n",
      "Tablica\n",
      " [[4350.  261.]\n",
      " [  29.   35.]]\n",
      "Wrażliwość: 0.1182\n",
      "Specyficzność: 0.9934\n",
      "\n",
      "model: resprobit13, zbiór: test, próg odcięcia: 0.5:\n",
      "Tablica\n",
      " [[1066.   82.]\n",
      " [  13.   16.]]\n",
      "Wrażliwość: 0.1633\n",
      "Specyficzność: 0.988\n",
      "--------------------------------------------------\n",
      "\n",
      "model: resprobit15, zbiór: train, próg odcięcia: 0.5:\n",
      "Tablica\n",
      " [[4348.  262.]\n",
      " [  31.   34.]]\n",
      "Wrażliwość: 0.1149\n",
      "Specyficzność: 0.9929\n",
      "\n",
      "model: resprobit15, zbiór: test, próg odcięcia: 0.5:\n",
      "Tablica\n",
      " [[1066.   82.]\n",
      " [  13.   16.]]\n",
      "Wrażliwość: 0.1633\n",
      "Specyficzność: 0.988\n"
     ]
    }
   ],
   "source": [
    "predTable, sensivity, specifity = predictionTable(resprobit13, train, 'bankrut')\n",
    "print('model: resprobit13, zbiór: train, próg odcięcia: 0.5:\\nTablica\\n', predTable)\n",
    "print('Wrażliwość:', round(sensivity, 4))\n",
    "print('Specyficzność:', round(specifity, 4))\n",
    "\n",
    "predTable, sensivity, specifity = predictionTable(resprobit13, test, 'bankrut')\n",
    "print('\\nmodel: resprobit13, zbiór: test, próg odcięcia: 0.5:\\nTablica\\n', predTable)\n",
    "print('Wrażliwość:', round(sensivity, 4))\n",
    "print('Specyficzność:', round(specifity, 4))\n",
    "\n",
    "print('-'*50)\n",
    "\n",
    "predTable, sensivity, specifity = predictionTable(resprobit15, train, 'bankrut')\n",
    "print('\\nmodel: resprobit15, zbiór: train, próg odcięcia: 0.5:\\nTablica\\n', predTable)\n",
    "print('Wrażliwość:', round(sensivity, 4))\n",
    "print('Specyficzność:', round(specifity, 4))\n",
    "\n",
    "predTable, sensivity, specifity = predictionTable(resprobit15, test, 'bankrut')\n",
    "print('\\nmodel: resprobit15, zbiór: test, próg odcięcia: 0.5:\\nTablica\\n', predTable)\n",
    "print('Wrażliwość:', round(sensivity, 4))\n",
    "print('Specyficzność:', round(specifity, 4))"
   ]
  },
  {
   "cell_type": "markdown",
   "metadata": {},
   "source": [
    "Ciekawe wyniki, modele wykazują się znacznie lepszą wrażliwością na próbach testowych, ponadto model uwzględniający Zscrore charakteryzuje się gorszą wrażliwością na próbie treningowej i lepszą specyficznością na obu próbach. <br/>\n",
    "\n",
    "#### Wybór optymalnego punktu odcięcia"
   ]
  },
  {
   "cell_type": "code",
   "execution_count": 112,
   "metadata": {},
   "outputs": [],
   "source": [
    "# listy do przechowywania wyników\n",
    "senss = []\n",
    "specs = []\n",
    "cuts = []\n",
    "sums = []\n",
    "\n",
    "for c in range(1, 51, 1):\n",
    "    \n",
    "    # obliczenia\n",
    "    tab, sens, spec = predictionTable(resprobit13, train, 'bankrut', c/100)\n",
    "    cuts.append(c/100)\n",
    "    senss.append(sens)\n",
    "    specs.append(spec)\n",
    "    sums.append(sens+spec)\n",
    "    \n",
    "# wyniki\n",
    "cutres = pd.concat(objs = [pd.Series(cuts), pd.Series(senss), pd.Series(specs), pd.Series(sums)], axis = 1)"
   ]
  },
  {
   "cell_type": "code",
   "execution_count": 113,
   "metadata": {},
   "outputs": [
    {
     "data": {
      "text/html": [
       "<div>\n",
       "<style scoped>\n",
       "    .dataframe tbody tr th:only-of-type {\n",
       "        vertical-align: middle;\n",
       "    }\n",
       "\n",
       "    .dataframe tbody tr th {\n",
       "        vertical-align: top;\n",
       "    }\n",
       "\n",
       "    .dataframe thead th {\n",
       "        text-align: right;\n",
       "    }\n",
       "</style>\n",
       "<table border=\"1\" class=\"dataframe\">\n",
       "  <thead>\n",
       "    <tr style=\"text-align: right;\">\n",
       "      <th></th>\n",
       "      <th>0</th>\n",
       "      <th>1</th>\n",
       "      <th>2</th>\n",
       "      <th>3</th>\n",
       "    </tr>\n",
       "  </thead>\n",
       "  <tbody>\n",
       "    <tr>\n",
       "      <th>18</th>\n",
       "      <td>0.19</td>\n",
       "      <td>0.456081</td>\n",
       "      <td>0.950217</td>\n",
       "      <td>1.406298</td>\n",
       "    </tr>\n",
       "  </tbody>\n",
       "</table>\n",
       "</div>"
      ],
      "text/plain": [
       "       0         1         2         3\n",
       "18  0.19  0.456081  0.950217  1.406298"
      ]
     },
     "execution_count": 113,
     "metadata": {},
     "output_type": "execute_result"
    }
   ],
   "source": [
    "# sortowanie wedle preferencji - chcę osiągnąć maksimum wrażliwości, przy 95% specyficzności.\n",
    "zero95 = cutres.copy()[cutres.copy().iloc[:,2] > 0.95].dropna()\n",
    "zero95[zero95.iloc[:,3] == zero95.iloc[:,3].max()]"
   ]
  },
  {
   "cell_type": "code",
   "execution_count": 114,
   "metadata": {},
   "outputs": [
    {
     "name": "stdout",
     "output_type": "stream",
     "text": [
      "model: resprobit13, zbiór: train, próg odcięcia: 0.19:\n",
      "Tablica\n",
      " [[4161.  161.]\n",
      " [ 218.  135.]]\n",
      "Wrażliwość: 0.4561\n",
      "Specyficzność: 0.9502\n",
      "\n",
      "model: resprobit13, zbiór: test, próg odcięcia: 0.19:\n",
      "Tablica\n",
      " [[1024.   53.]\n",
      " [  55.   45.]]\n",
      "Wrażliwość: 0.4592\n",
      "Specyficzność: 0.949\n",
      "--------------------------------------------------\n",
      "\n",
      "model: resprobit15, zbiór: train, próg odcięcia: 0.19:\n",
      "Tablica\n",
      " [[4170.  162.]\n",
      " [ 209.  134.]]\n",
      "Wrażliwość: 0.4527\n",
      "Specyficzność: 0.9523\n",
      "\n",
      "model: resprobit15, zbiór: test, próg odcięcia: 0.19:\n",
      "Tablica\n",
      " [[1028.   53.]\n",
      " [  51.   45.]]\n",
      "Wrażliwość: 0.4592\n",
      "Specyficzność: 0.9527\n"
     ]
    }
   ],
   "source": [
    "# optymalny punkt odcięcia\n",
    "ctf = 0.19\n",
    "\n",
    "predTable, sensivity, specifity = predictionTable(resprobit13, train, 'bankrut', cutoff = ctf)\n",
    "print('model: resprobit13, zbiór: train, próg odcięcia: {}:\\nTablica\\n'.format(ctf), predTable)\n",
    "print('Wrażliwość:', round(sensivity, 4))\n",
    "print('Specyficzność:', round(specifity, 4))\n",
    "\n",
    "predTable, sensivity, specifity = predictionTable(resprobit13, test, 'bankrut', cutoff = ctf)\n",
    "print('\\nmodel: resprobit13, zbiór: test, próg odcięcia: {}:\\nTablica\\n'.format(ctf), predTable)\n",
    "print('Wrażliwość:', round(sensivity, 4))\n",
    "print('Specyficzność:', round(specifity, 4))\n",
    "\n",
    "print('-'*50)\n",
    "\n",
    "predTable, sensivity, specifity = predictionTable(resprobit15, train, 'bankrut', cutoff = ctf)\n",
    "print('\\nmodel: resprobit15, zbiór: train, próg odcięcia: {}:\\nTablica\\n'.format(ctf), predTable)\n",
    "print('Wrażliwość:', round(sensivity, 4))\n",
    "print('Specyficzność:', round(specifity, 4))\n",
    "\n",
    "predTable, sensivity, specifity = predictionTable(resprobit15, test, 'bankrut', cutoff = ctf)\n",
    "print('\\nmodel: resprobit15, zbiór: test, próg odcięcia: {}:\\nTablica\\n'.format(ctf), predTable)\n",
    "print('Wrażliwość:', round(sensivity, 4))\n",
    "print('Specyficzność:', round(specifity, 4))"
   ]
  },
  {
   "cell_type": "markdown",
   "metadata": {},
   "source": [
    "Zdumiewające wyniki - udało się uzyskać model który wykrywa 45% bankrutów, błędnie klasyfikując niebankrutów zaledwie w niecałych 5%. Model fantastycznie nadaje się do zadania wczesnego ostrzegania.<br/>\n",
    "Kolejnym plusem modeli jest ich stabilność - bardzo zbliżone wyniki na próbach treningowych i testowych (brak overfittingu). "
   ]
  },
  {
   "cell_type": "markdown",
   "metadata": {},
   "source": [
    "##### Hipoteza główna: w oparciu o dane pochodzące jedynie ze sprawozdań finansowych jesteśmy w stanie z wysoką skutecznością ocenić prawdopodbieństwo bankructwa przedsiębiorstwa (specyficzność co najmniej 95%, wrażliwość co najmniej 30%)."
   ]
  },
  {
   "cell_type": "markdown",
   "metadata": {},
   "source": [
    "Po dobraniu optymalnego poziomu odcięcia, wyniki klasyfikacji są zdumiewająco dobre.<br/>\n",
    "1. Próba treningowa to wrażliwość na poziomie 0.4561 dla probitu13 i 0.4527 dla probitu15 przy specyficzności na poziomie 0.9502 dla probitu13 i 0.9523 dla probitu15\n",
    "2. Próba testowa charakteryzuje się w przypadku probitu13 wrażliwością na poziomie 0.4592 (lepszy wynik niż na próbie treningowej) i specyficznością na poziomie 0.949 (gorszy wynik niż na próbie treningowej. Model probit15 na próbie testowej zanotował wrażliwość na poziomie 0.4592 (lepszy wynik niż na próbie treningowej) i specyficzność 0.9527 (lepszy wynik niż na próbie trenignowej)\n",
    "\n",
    "Podsumowując, modele oparte o dane ze sprawozdań finansowych mogą z powodzeniem pełnić rolę wczesnych systemów sygnalizujących - W obu przypadkach specyficzność na poziomie ok 95% z wrażliwością 45-46% .<br/>\n",
    "\n",
    "Krzywe ROC"
   ]
  },
  {
   "cell_type": "code",
   "execution_count": 115,
   "metadata": {},
   "outputs": [
    {
     "data": {
      "image/png": "[encoded data removed]",
      "text/plain": [
       "<Figure size 864x396 with 2 Axes>"
      ]
     },
     "metadata": {
      "needs_background": "light"
     },
     "output_type": "display_data"
    }
   ],
   "source": [
    "from sklearn.metrics import roc_curve, roc_auc_score\n",
    "\n",
    "# Obliczenie punktów potrzebnych do narysowania krzywej ROC\n",
    "# funkcja roc_curve zwraca trzy serie danych, fpr, tpr oraz poziomy progów odcięcia\n",
    "## train\n",
    "probs = resprobit13.predict(train)\n",
    "probs1 = resprobit15.predict(train)\n",
    "y = train.bankrut.values.astype(float)\n",
    "fpr, tpr, thresholds = roc_curve(y_true = y, y_score = probs)\n",
    "fpr1, tpr1, thresholds1 = roc_curve(y_true = y, y_score = probs1)\n",
    "## test\n",
    "probs2 = resprobit13.predict(test)\n",
    "probs3 = resprobit15.predict(test)\n",
    "y2 = test.bankrut.values.astype(float)\n",
    "fpr2, tpr2, thresholds2 = roc_curve(y_true = y2, y_score = probs2)\n",
    "fpr3, tpr3, thresholds3 = roc_curve(y_true = y2, y_score = probs3)\n",
    "\n",
    "# pole powierzchni pod krzywymi\n",
    "## train\n",
    "rocScore = round(roc_auc_score(y_true = y, y_score = probs), 4)\n",
    "rocScore1 = round(roc_auc_score(y_true = y, y_score = probs1), 4)\n",
    "## test\n",
    "rocScore2 = round(roc_auc_score(y_true = y2, y_score = probs2), 4)\n",
    "rocScore3 = round(roc_auc_score(y_true = y2, y_score = probs3), 4)\n",
    "\n",
    "# Ustalanie wielkości rysunku\n",
    "fig, ax = plt.subplots(nrows = 1, ncols = 2, figsize = (12, 5.5))\n",
    "\n",
    "# Grubość krzywej\n",
    "lw = 2\n",
    "\n",
    "# krzywa ROC\n",
    "## train\n",
    "ax[0].plot(fpr, tpr, color = 'darkorange', lw = lw, label = 'probit13: {}'.format(rocScore))\n",
    "ax[0].plot(fpr1, tpr1, color = 'green', lw = lw, label = 'probit15: {}'.format(rocScore1))\n",
    "## test\n",
    "ax[1].plot(fpr2, tpr2, color = 'darkorange', lw = lw, label = 'probit13: {}'.format(rocScore2))\n",
    "ax[1].plot(fpr3, tpr3, color = 'green', lw = lw, label = 'probit15: {}'.format(rocScore3))\n",
    "\n",
    "\n",
    "# krzywa 45 stopni jako punkt odniesienia\n",
    "## train\n",
    "ax[0].plot([0, 1], [0, 1], color = 'navy', lw = lw, linestyle = '--')\n",
    "## test\n",
    "ax[1].plot([0, 1], [0, 1], color = 'navy', lw = lw, linestyle = '--')\n",
    "\n",
    "# marginesy aby krzywa nie pokrywała się z osiami\n",
    "## train\n",
    "ax[0].set_xlim([-0.01, 1.0])\n",
    "ax[0].set_ylim([0.0, 1.01])\n",
    "ax[0].set_xlabel('False Positive Rate')\n",
    "ax[0].set_ylabel('True Positive Rate')\n",
    "ax[0].set_title('ROC dla probit13 i probit15 (train)')\n",
    "ax[0].legend(loc = \"lower right\")\n",
    "## test\n",
    "ax[1].set_xlim([-0.01, 1.0])\n",
    "ax[1].set_ylim([0.0, 1.01])\n",
    "ax[1].set_xlabel('False Positive Rate')\n",
    "ax[1].set_ylabel('True Positive Rate')\n",
    "ax[1].set_title('ROC dla probit13 i probit15 (test)')\n",
    "ax[1].legend(loc = \"lower right\")\n",
    "plt.show()"
   ]
  },
  {
   "cell_type": "markdown",
   "metadata": {},
   "source": [
    "W przypadku zarówno próby tereningowej jak i testowej nieznacznie lepszy okazuje się model zawierający zmienną Altmana."
   ]
  },
  {
   "cell_type": "markdown",
   "metadata": {},
   "source": [
    "#### Tabela publikacyjna"
   ]
  },
  {
   "cell_type": "code",
   "execution_count": 116,
   "metadata": {},
   "outputs": [
    {
     "data": {
      "text/plain": [
       "'from statsmodels.iolib.summary2 import summary_col'"
      ]
     },
     "execution_count": 116,
     "metadata": {},
     "output_type": "execute_result"
    }
   ],
   "source": [
    "'''from statsmodels.iolib.summary2 import summary_col'''"
   ]
  },
  {
   "cell_type": "code",
   "execution_count": 117,
   "metadata": {},
   "outputs": [
    {
     "data": {
      "text/plain": [
       "\"# print\\nprint(summary_col(results = [reslpm, resprobit, reslogit, resprobit13, resprobit15],\\n                  model_names = ['LPM', 'Probit ogólny', 'Logit ogólny', 'Probit 1', 'Probit 2'],\\n                  stars = True))\""
      ]
     },
     "execution_count": 117,
     "metadata": {},
     "output_type": "execute_result"
    }
   ],
   "source": [
    "'''# print\n",
    "print(summary_col(results = [reslpm, resprobit, reslogit, resprobit13, resprobit15],\n",
    "                  model_names = ['LPM', 'Probit ogólny', 'Logit ogólny', 'Probit 1', 'Probit 2'],\n",
    "                  stars = True))'''"
   ]
  },
  {
   "cell_type": "code",
   "execution_count": 118,
   "metadata": {},
   "outputs": [
    {
     "data": {
      "text/plain": [
       "\"# baza latex\\nprint(summary_col(results = [reslpm, resprobit, reslogit, resprobit13, resprobit15],\\n                  model_names = ['LPM', 'Probit ogólny', 'Logit ogólny', 'Probit 1', 'Probit 2'],\\n                  stars = True).as_latex())\""
      ]
     },
     "execution_count": 118,
     "metadata": {},
     "output_type": "execute_result"
    }
   ],
   "source": [
    "'''# baza latex\n",
    "print(summary_col(results = [reslpm, resprobit, reslogit, resprobit13, resprobit15],\n",
    "                  model_names = ['LPM', 'Probit ogólny', 'Logit ogólny', 'Probit 1', 'Probit 2'],\n",
    "                  stars = True).as_latex())'''"
   ]
  },
  {
   "cell_type": "markdown",
   "metadata": {},
   "source": [
    "##### Efekty cząstkowe<br/>\n",
    "policzone dla średnich charakterystyk modelu probit13 i probit15."
   ]
  },
  {
   "cell_type": "code",
   "execution_count": 119,
   "metadata": {},
   "outputs": [
    {
     "name": "stdout",
     "output_type": "stream",
     "text": [
      "       Probit Marginal Effects       \n",
      "=====================================\n",
      "Dep. Variable:                bankrut\n",
      "Method:                          dydx\n",
      "At:                              mean\n",
      "======================================================================================================\n",
      "                                        dy/dx    std err          z      P>|z|      [0.025      0.975]\n",
      "------------------------------------------------------------------------------------------------------\n",
      "I(KO_Aktywa ** 2)                     -0.0111      0.003     -4.213      0.000      -0.016      -0.006\n",
      "I(Rozmiar ** 2)                       -0.0023      0.000     -5.704      0.000      -0.003      -0.002\n",
      "KO_Aktywa                             -0.0577      0.008     -6.907      0.000      -0.074      -0.041\n",
      "MarzaZyskuBrutto                      -0.0232      0.010     -2.330      0.020      -0.043      -0.004\n",
      "PrzyrostSprzedazySpadek_BrakDanych     0.0858      0.009      9.047      0.000       0.067       0.104\n",
      "ROA                                   -0.0486      0.013     -3.607      0.000      -0.075      -0.022\n",
      "RotacjaZobowiazan                   4.319e-05   2.11e-05      2.050      0.040     1.9e-06    8.45e-05\n",
      "======================================================================================================\n"
     ]
    }
   ],
   "source": [
    "me13 = resprobit13.get_margeff(at = 'mean', dummy = True)\n",
    "print(me13.summary())"
   ]
  },
  {
   "cell_type": "code",
   "execution_count": 120,
   "metadata": {},
   "outputs": [
    {
     "name": "stdout",
     "output_type": "stream",
     "text": [
      "Efekt cząstkowy dla Kapitał obrotowy/Aktywa: -0.05309028518357219\n",
      "Efekt cząstkowy dla Rozmiar: -0.00958438573576471\n"
     ]
    }
   ],
   "source": [
    "print('Efekt cząstkowy dla Kapitał obrotowy/Aktywa: {}'.format(-0.0577 - 2 * (-0.0111) * train.KO_Aktywa.mean()))\n",
    "print('Efekt cząstkowy dla Rozmiar: {}'.format(-0.0023 * train.Rozmiar.mean()))"
   ]
  },
  {
   "cell_type": "code",
   "execution_count": 121,
   "metadata": {},
   "outputs": [
    {
     "name": "stdout",
     "output_type": "stream",
     "text": [
      "Średnie KO/Aktywa: 0.2076,\n",
      "średni rozmiar (logarytm naturalny sumy bilansowej: 4.1671,\n",
      "średna Marża zysku brutto: 0.0768,\n",
      "średnie ROA: 0.0511,\n",
      "średni cykl rotacji zobowiązań: 101.\n"
     ]
    }
   ],
   "source": [
    "print('Średnie KO/Aktywa: {},\\nśredni rozmiar (logarytm naturalny sumy bilansowej: {},\\nśredna Marża zysku brutto: {},\\n\\\n",
    "średnie ROA: {},\\nśredni cykl rotacji zobowiązań: {}.'.format(\n",
    "round(train.KO_Aktywa.mean(), 4), round(train.Rozmiar.mean(), 4), round(train.MarzaZyskuBrutto.mean(), 4),\n",
    "round(train.ROA.mean(), 4), int(round(train.RotacjaZobowiazan.mean(), 0))))"
   ]
  },
  {
   "cell_type": "markdown",
   "metadata": {},
   "source": [
    "Interpretacja dla spółki o powyższych charakterystykach:\n",
    " - jeżeli Kapitał obrotowy/Aktywa wzrośnie o jednostkę, prawdopodobieństwo bankructwa spadnie o 5.31 p. procentowych,\n",
    " - jeżeli Rozmiar (logarytm naturalny sumy bilansowej) wzrośnie o jednostkę, prawodopodobieństo bankructwa spadnie o 0.96 p. procentowych,\n",
    " - jeżeli Marża zysku brutto wzrośnie o jednostkę, prawdopodobienstwo bankructwa spadnie o 2.32 p. procentowego,\n",
    " - jeżeli zaobserwujemy spadek sprzedaży w stosunku do roku poprzedniego lub brak danych w tym zakresie,prawdopopodobieństwo bankructwa wzrośnie o 8.58 p. procentowych,\n",
    " - jeżeli ROA wzrośnie o jednostkę, prawdopodobieństwo bankructwa spadnie o 4.86 p. procentowych,\n",
    " - jeżeli cykl rotacji zobowiązań wydłuży się o jeden dzień, prawdopodobieństwo bankructwa wzrośnie o 0.004 p. procentowego."
   ]
  },
  {
   "cell_type": "markdown",
   "metadata": {},
   "source": [
    "##### Hipoteza poboczna: too big to fail"
   ]
  },
  {
   "cell_type": "markdown",
   "metadata": {},
   "source": [
    "Oszacowanie parametru przy rozmiarze spółki mierzonym logarytmem naturalnym sumy bilansowej ma znak \"-\", co oznacza że jeżeli suma bilansowa wzrośnie o 1% to prawdopodobieństo bankructwa spadnie. Analogiczne wnioski można wyciągnąć na podstawie efektów cząstowych dla średnich charakterystyk, wzrostowi logarytmu naturalnego sumy bilansowej o jednostkę towarzyszy spadek prawdopodobienstwa bankructwa o 0.96 p. procentowych."
   ]
  },
  {
   "cell_type": "markdown",
   "metadata": {},
   "source": [
    "##### Hipoteza poboczna  o poprawieniu pewności predykcji w przypadku dodania zmiennej Altmana do modelu finalnego."
   ]
  },
  {
   "cell_type": "markdown",
   "metadata": {},
   "source": [
    "W celu zachowania pożądanych wyników predykcji (specyficzność > 0.95 przy max wrażlwiości) na zbiorze treningowym, optymalny poziom odcięcia został ustalony na 0.19. Clive, Granger i Pesaran (2000) za optymalny punkt odcięcia ($p^*$) wskazują $p^* = \\frac{1}{1+\\frac{\\theta_1}{\\theta_0}}$, gdzie $\\theta_1$ jest kosztem błędu I rodzaju, tj. stratą z $\\hat{p_i}<p^*|y_i=1$, a $\\theta_0$ jest kosztem błędu II rodzaju, tj. stratą z $\\hat{p_i}>p^*|y_i=0$. Chcąc przetestować progi odcięcia w zakresie 0.01 - 0.5 (Bi-Huei Tsai (2013) testowała granice 0.01 i 0.3, jednak dla kompletności wyników, w niniejszej pracy zdecydowano się rozszerzyć granice - powyżej 0.5 nie ma sensu, gdyż bankructwo jest zdarzeniem rzadkim), należy założyć, że punkt odcięcia dobierany jest w oparciu o $\\theta_1$ i $\\theta_0$, oraz że jest on optymalny. Zatem, jeżeli przyjmiemy arbitralne poziomy $p^*$, to z formuły $p^* = \\frac{1}{1+\\frac{\\theta_1}{\\theta_0}}$ możemy obliczyć koszty błędnych klasyfikacji. Koszty są niezbędne do obliczenia łącznego kosztu błędnych klasyfikacji równego (Bi-Huei Tsai (2013)):\n",
    "\\begin{equation*}\n",
    "EMC = y_i*\\theta_1*P(\\hat{p_i}<p^*|y_i=1)+(1-y_i)*\\theta_0*P(\\hat{p_i}>p^*|y_i=0)\n",
    "\\end{equation*}<br/>\n",
    "gdzie $y_i$ jest zaobserwowaną liczbą sukcesów (bankrutów), a $1-y_i$ jest zaobserwowaną liczbą porażek (nie bankrutów) - jeżeli byłaby to miara ex ante, y zastąpiłoby $\\hat{y}$, czyli oszacowania.<br/>\n",
    "Hipoteza jest następująca: $H_0: EMC_{probit13}>EMC_{probit15}$, gdzie probit13 to ostateczny model bez zmiennej Altmana, a probit15 to model uwzględniający zmienną Altmana.<br/>\n",
    "W celu zweryfikowania hipotezy przeprowadzona zostanie procedura, oparta na tej zaproponowanej przez Bi_Huei Tsai (2013):\n",
    "1. Losowanie tej samej proporcji \"1\" i \"0\" z powtórzeniami 1000 razy.\n",
    "2. Oszacowanie probit13 i probit15 dla wylosowanego zbioru danych.\n",
    "3. Wybór punktu odcięcia oraz $\\theta_1$ i $\\theta_0$ na jego podstawie dla wylosowanego zbioru danych.\n",
    "4. Obliczenie $P(\\hat{y_i}<p^*|y_i=1)$ oraz $P(\\hat{y_i}>p^*|y_i=0)$ $EMC$ dla wylosowanego zbioru danych i progów odcięcia.\n",
    "5. Przeprowadzenie testu na równość średnich $EMC$ dla każdego progu odcięcia."
   ]
  },
  {
   "cell_type": "markdown",
   "metadata": {},
   "source": [
    "##### Pętla bootstrapowa<br/>\n",
    "pętla na moim komputerze wykonuje się około godziny, dlatego została wykonana raz, a jej wynik zapisany do pliku bootstrap.pkl<br/>\n",
    "Ze względu na wygodę, notatnik uruchamiany jest opcją Kernel -> Restart & Run all, co powoduje utratę wszystkich komórek ze wcześniejszymi outputami. Raport generowany przez pętle bootstrapową został z tego powodu zapisany w osobnym pliku. W celu powtórzenia badania należy odkomentować dwie poniższe komórki."
   ]
  },
  {
   "cell_type": "code",
   "execution_count": 122,
   "metadata": {},
   "outputs": [
    {
     "data": {
      "text/plain": [
       "\"# moduł do mierzenia czasu\\nimport time\\n# moduł potrzebny do podnoszenia błędnu w momencie błędu konwergencji funkcji wiarygodności (blok try, except w pętli)\\nimport warnings\\nfrom statsmodels.tools.sm_exceptions import ConvergenceWarning\\nwarnings.simplefilter('error', ConvergenceWarning)\""
      ]
     },
     "execution_count": 122,
     "metadata": {},
     "output_type": "execute_result"
    }
   ],
   "source": [
    "'''# moduł do mierzenia czasu\n",
    "import time\n",
    "# moduł potrzebny do podnoszenia błędnu w momencie błędu konwergencji funkcji wiarygodności (blok try, except w pętli)\n",
    "import warnings\n",
    "from statsmodels.tools.sm_exceptions import ConvergenceWarning\n",
    "warnings.simplefilter('error', ConvergenceWarning)'''"
   ]
  },
  {
   "cell_type": "code",
   "execution_count": 123,
   "metadata": {},
   "outputs": [
    {
     "data": {
      "text/plain": [
       "'# zmienne z probit13 bez stałej, bo ta obliczana jest automatycznie\\nzmn = resprobit13.params.index.tolist()\\nzmn.remove(\\'Intercept\\')\\n\\nstart = time.time()\\n\\n# proporcje y_1 \"1\" i y_0 \"0\"\\ny_1 = bankruci.shape[0]/(bankruci.shape[0]+niebankruci.shape[0])\\ny_0 = 1-y_1\\n# słownik rezultatów pętli bootstrapowej\\nbootstrapresults = {}\\n\\nfor cut in range(1,51):\\n    # float nie może być argumentem funkcji range()\\n    theta_1 = (1-cut/100)/(cut/100)\\n    theta_0 = 1\\n    i = 1\\n    \\n    # listy do zapisu wyników dla pojedynczych punktów odcięcia\\n    EMC_BA_list = []\\n    EMC_A_list = []\\n    \\n    start1 = time.time()\\n    while i < 1001:\\n        # jeżeli funkcja wiarygodności nie może zostać zoptymalizowana, należy powtórzyć procedurę (o tym mówi inkrementacja i)\\n        try:\\n            # zbiór danych - losowanie ze zwracaniem sałej proporcji \"1\" i \"0\"\\n            dta = pd.concat(objs = [niebankruci.sample(frac = 1, replace = True),\\n                                    bankruci.sample(frac = 1, replace = True)], axis = 0)\\n            # szacowanie probitu13\\n            BA = probit(\\'bankrut~{}\\'.format(\\'+\\'.join(zmn)), dta).fit(disp = False)\\n            # szacowanie probitu15\\n            A = probit(\\'bankrut~Zscore+{}\\'.format(\\'+\\'.join(zmn)), dta).fit(disp = False)\\n            # tablice klasyfikacjyjne dla probitu13 i probitu15 \\n            tBA = BA.pred_table(cut/100).T\\n            tA = A.pred_table(cut/100).T\\n            # prawdopodobieństwa błędów I i II rodzaju dla probitu13 i probitu15\\n            IBA = tBA[0,1]/(tBA[0,1]+tBA[1,1])\\n            IIBA = tBA[1,0]/(tBA[0,0]+tBA[0,1])\\n            IA = tA[0,1]/(tA[0,1]+tA[1,1])\\n            IIA = tA[1,0]/(tA[0,0]+tA[0,1])\\n            \\n            # obliczenie EMC dla probitu13 i probitu15\\n            EMC_BA = y_1 * theta_1 * IBA + y_0 * theta_0 * IIBA\\n            EMC_A = y_1 * theta_1 * IA + y_0 * theta_0 * IIA\\n            \\n            # zapisanie wyników do list\\n            EMC_BA_list.append(EMC_BA)\\n            EMC_A_list.append(EMC_A)\\n            \\n            # inkrementacja warunku pętli while\\n            i += 1\\n        except:\\n            pass\\n    bootstrapresults.update({cut/100 : pd.concat(objs = [pd.Series(EMC_BA_list), pd.Series(EMC_A_list)],axis = 1, names = [\\'probit13\\', \\'probit15\\'])})\\n    end1 = time.time()\\n    print(\\'cutoff: {}, czas wykonania(s): {}\\'.format(cut/100, end1 - start1))\\n\\nend = time.time()\\nprint(\\'czas wykonania całej pętli: {}\\'.format(end - start))'"
      ]
     },
     "execution_count": 123,
     "metadata": {},
     "output_type": "execute_result"
    }
   ],
   "source": [
    "'''# zmienne z probit13 bez stałej, bo ta obliczana jest automatycznie\n",
    "zmn = resprobit13.params.index.tolist()\n",
    "zmn.remove('Intercept')\n",
    "\n",
    "start = time.time()\n",
    "\n",
    "# proporcje y_1 \"1\" i y_0 \"0\"\n",
    "y_1 = bankruci.shape[0]/(bankruci.shape[0]+niebankruci.shape[0])\n",
    "y_0 = 1-y_1\n",
    "# słownik rezultatów pętli bootstrapowej\n",
    "bootstrapresults = {}\n",
    "\n",
    "for cut in range(1,51):\n",
    "    # float nie może być argumentem funkcji range()\n",
    "    theta_1 = (1-cut/100)/(cut/100)\n",
    "    theta_0 = 1\n",
    "    i = 1\n",
    "    \n",
    "    # listy do zapisu wyników dla pojedynczych punktów odcięcia\n",
    "    EMC_BA_list = []\n",
    "    EMC_A_list = []\n",
    "    \n",
    "    start1 = time.time()\n",
    "    while i < 1001:\n",
    "        # jeżeli funkcja wiarygodności nie może zostać zoptymalizowana, należy powtórzyć procedurę (o tym mówi inkrementacja i)\n",
    "        try:\n",
    "            # zbiór danych - losowanie ze zwracaniem sałej proporcji \"1\" i \"0\"\n",
    "            dta = pd.concat(objs = [niebankruci.sample(frac = 1, replace = True),\n",
    "                                    bankruci.sample(frac = 1, replace = True)], axis = 0)\n",
    "            # szacowanie probitu13\n",
    "            BA = probit('bankrut~{}'.format('+'.join(zmn)), dta).fit(disp = False)\n",
    "            # szacowanie probitu15\n",
    "            A = probit('bankrut~Zscore+{}'.format('+'.join(zmn)), dta).fit(disp = False)\n",
    "            # tablice klasyfikacjyjne dla probitu13 i probitu15 \n",
    "            tBA = BA.pred_table(cut/100).T\n",
    "            tA = A.pred_table(cut/100).T\n",
    "            # prawdopodobieństwa błędów I i II rodzaju dla probitu13 i probitu15\n",
    "            IBA = tBA[0,1]/(tBA[0,1]+tBA[1,1])\n",
    "            IIBA = tBA[1,0]/(tBA[0,0]+tBA[0,1])\n",
    "            IA = tA[0,1]/(tA[0,1]+tA[1,1])\n",
    "            IIA = tA[1,0]/(tA[0,0]+tA[0,1])\n",
    "            \n",
    "            # obliczenie EMC dla probitu13 i probitu15\n",
    "            EMC_BA = y_1 * theta_1 * IBA + y_0 * theta_0 * IIBA\n",
    "            EMC_A = y_1 * theta_1 * IA + y_0 * theta_0 * IIA\n",
    "            \n",
    "            # zapisanie wyników do list\n",
    "            EMC_BA_list.append(EMC_BA)\n",
    "            EMC_A_list.append(EMC_A)\n",
    "            \n",
    "            # inkrementacja warunku pętli while\n",
    "            i += 1\n",
    "        except:\n",
    "            pass\n",
    "    bootstrapresults.update({cut/100 : pd.concat(objs = [pd.Series(EMC_BA_list), pd.Series(EMC_A_list)],axis = 1, names = ['probit13', 'probit15'])})\n",
    "    end1 = time.time()\n",
    "    print('cutoff: {}, czas wykonania(s): {}'.format(cut/100, end1 - start1))\n",
    "\n",
    "end = time.time()\n",
    "print('czas wykonania całej pętli: {}'.format(end - start))'''"
   ]
  },
  {
   "cell_type": "code",
   "execution_count": 124,
   "metadata": {},
   "outputs": [
    {
     "data": {
      "text/plain": [
       "'import pickle\\n# JEŻELI PLIK bootstrap.pkl JUŻ JEST, NIE URUCHAMIAĆ TEJ KOMÓRKI W PRZECIWNYM RAZIE WYNIK ZOSTANIE NADPISANY!!!\\n# zapis wyników bootstrapu jako pickle\\nwith open(\"bootstrap.pkl\", \"wb\") as fp:\\n    # Zapisujemy obiekt do wskaźnika pliku\\n    pickle.dump(bootstrapresults, fp)'"
      ]
     },
     "execution_count": 124,
     "metadata": {},
     "output_type": "execute_result"
    }
   ],
   "source": [
    "'''import pickle\n",
    "# JEŻELI PLIK bootstrap.pkl JUŻ JEST, NIE URUCHAMIAĆ TEJ KOMÓRKI W PRZECIWNYM RAZIE WYNIK ZOSTANIE NADPISANY!!!\n",
    "# zapis wyników bootstrapu jako pickle\n",
    "with open(\"bootstrap.pkl\", \"wb\") as fp:\n",
    "    # Zapisujemy obiekt do wskaźnika pliku\n",
    "    pickle.dump(bootstrapresults, fp)'''"
   ]
  },
  {
   "cell_type": "code",
   "execution_count": 125,
   "metadata": {},
   "outputs": [],
   "source": [
    "import pickle\n",
    "# wczytanie wyników bootstrapu jako pickle\n",
    "with open('bootstrap.pkl', \"rb\") as fp:\n",
    "    bootstrapresults = pickle.load(fp)"
   ]
  },
  {
   "cell_type": "code",
   "execution_count": 126,
   "metadata": {},
   "outputs": [
    {
     "data": {
      "text/html": [
       "<div>\n",
       "<style scoped>\n",
       "    .dataframe tbody tr th:only-of-type {\n",
       "        vertical-align: middle;\n",
       "    }\n",
       "\n",
       "    .dataframe tbody tr th {\n",
       "        vertical-align: top;\n",
       "    }\n",
       "\n",
       "    .dataframe thead th {\n",
       "        text-align: right;\n",
       "    }\n",
       "</style>\n",
       "<table border=\"1\" class=\"dataframe\">\n",
       "  <thead>\n",
       "    <tr style=\"text-align: right;\">\n",
       "      <th></th>\n",
       "      <th>cutoff</th>\n",
       "      <th>U</th>\n",
       "      <th>wartość krytyczna</th>\n",
       "      <th>p_value</th>\n",
       "    </tr>\n",
       "  </thead>\n",
       "  <tbody>\n",
       "    <tr>\n",
       "      <th>0</th>\n",
       "      <td>0.01</td>\n",
       "      <td>-0.1303</td>\n",
       "      <td>1.6449</td>\n",
       "      <td>0.4482</td>\n",
       "    </tr>\n",
       "    <tr>\n",
       "      <th>1</th>\n",
       "      <td>0.06</td>\n",
       "      <td>1.2859</td>\n",
       "      <td>1.6449</td>\n",
       "      <td>0.0992</td>\n",
       "    </tr>\n",
       "    <tr>\n",
       "      <th>2</th>\n",
       "      <td>0.07</td>\n",
       "      <td>0.3911</td>\n",
       "      <td>1.6449</td>\n",
       "      <td>0.3479</td>\n",
       "    </tr>\n",
       "    <tr>\n",
       "      <th>3</th>\n",
       "      <td>0.08</td>\n",
       "      <td>-0.1501</td>\n",
       "      <td>1.6449</td>\n",
       "      <td>0.4404</td>\n",
       "    </tr>\n",
       "    <tr>\n",
       "      <th>4</th>\n",
       "      <td>0.09</td>\n",
       "      <td>-0.5970</td>\n",
       "      <td>1.6449</td>\n",
       "      <td>0.2752</td>\n",
       "    </tr>\n",
       "    <tr>\n",
       "      <th>5</th>\n",
       "      <td>0.10</td>\n",
       "      <td>0.4698</td>\n",
       "      <td>1.6449</td>\n",
       "      <td>0.3192</td>\n",
       "    </tr>\n",
       "    <tr>\n",
       "      <th>6</th>\n",
       "      <td>0.11</td>\n",
       "      <td>0.6641</td>\n",
       "      <td>1.6449</td>\n",
       "      <td>0.2533</td>\n",
       "    </tr>\n",
       "    <tr>\n",
       "      <th>7</th>\n",
       "      <td>0.12</td>\n",
       "      <td>0.4529</td>\n",
       "      <td>1.6449</td>\n",
       "      <td>0.3253</td>\n",
       "    </tr>\n",
       "    <tr>\n",
       "      <th>8</th>\n",
       "      <td>0.16</td>\n",
       "      <td>1.0468</td>\n",
       "      <td>1.6449</td>\n",
       "      <td>0.1476</td>\n",
       "    </tr>\n",
       "    <tr>\n",
       "      <th>9</th>\n",
       "      <td>0.17</td>\n",
       "      <td>-0.0196</td>\n",
       "      <td>1.6449</td>\n",
       "      <td>0.4922</td>\n",
       "    </tr>\n",
       "    <tr>\n",
       "      <th>10</th>\n",
       "      <td>0.18</td>\n",
       "      <td>0.4998</td>\n",
       "      <td>1.6449</td>\n",
       "      <td>0.3086</td>\n",
       "    </tr>\n",
       "    <tr>\n",
       "      <th>11</th>\n",
       "      <td>0.19</td>\n",
       "      <td>1.3758</td>\n",
       "      <td>1.6449</td>\n",
       "      <td>0.0844</td>\n",
       "    </tr>\n",
       "    <tr>\n",
       "      <th>12</th>\n",
       "      <td>0.20</td>\n",
       "      <td>1.5945</td>\n",
       "      <td>1.6449</td>\n",
       "      <td>0.0554</td>\n",
       "    </tr>\n",
       "    <tr>\n",
       "      <th>13</th>\n",
       "      <td>0.21</td>\n",
       "      <td>0.9782</td>\n",
       "      <td>1.6449</td>\n",
       "      <td>0.1640</td>\n",
       "    </tr>\n",
       "    <tr>\n",
       "      <th>14</th>\n",
       "      <td>0.22</td>\n",
       "      <td>0.9225</td>\n",
       "      <td>1.6449</td>\n",
       "      <td>0.1781</td>\n",
       "    </tr>\n",
       "    <tr>\n",
       "      <th>15</th>\n",
       "      <td>0.23</td>\n",
       "      <td>0.6066</td>\n",
       "      <td>1.6449</td>\n",
       "      <td>0.2721</td>\n",
       "    </tr>\n",
       "    <tr>\n",
       "      <th>16</th>\n",
       "      <td>0.24</td>\n",
       "      <td>0.4947</td>\n",
       "      <td>1.6449</td>\n",
       "      <td>0.3104</td>\n",
       "    </tr>\n",
       "    <tr>\n",
       "      <th>17</th>\n",
       "      <td>0.25</td>\n",
       "      <td>1.3794</td>\n",
       "      <td>1.6449</td>\n",
       "      <td>0.0839</td>\n",
       "    </tr>\n",
       "    <tr>\n",
       "      <th>18</th>\n",
       "      <td>0.27</td>\n",
       "      <td>1.4229</td>\n",
       "      <td>1.6449</td>\n",
       "      <td>0.0774</td>\n",
       "    </tr>\n",
       "    <tr>\n",
       "      <th>19</th>\n",
       "      <td>0.28</td>\n",
       "      <td>1.4670</td>\n",
       "      <td>1.6449</td>\n",
       "      <td>0.0712</td>\n",
       "    </tr>\n",
       "    <tr>\n",
       "      <th>20</th>\n",
       "      <td>0.32</td>\n",
       "      <td>1.4535</td>\n",
       "      <td>1.6449</td>\n",
       "      <td>0.0730</td>\n",
       "    </tr>\n",
       "    <tr>\n",
       "      <th>21</th>\n",
       "      <td>0.33</td>\n",
       "      <td>1.1468</td>\n",
       "      <td>1.6449</td>\n",
       "      <td>0.1257</td>\n",
       "    </tr>\n",
       "    <tr>\n",
       "      <th>22</th>\n",
       "      <td>0.34</td>\n",
       "      <td>0.5750</td>\n",
       "      <td>1.6449</td>\n",
       "      <td>0.2826</td>\n",
       "    </tr>\n",
       "    <tr>\n",
       "      <th>23</th>\n",
       "      <td>0.35</td>\n",
       "      <td>0.3690</td>\n",
       "      <td>1.6449</td>\n",
       "      <td>0.3561</td>\n",
       "    </tr>\n",
       "    <tr>\n",
       "      <th>24</th>\n",
       "      <td>0.36</td>\n",
       "      <td>0.2570</td>\n",
       "      <td>1.6449</td>\n",
       "      <td>0.3986</td>\n",
       "    </tr>\n",
       "    <tr>\n",
       "      <th>25</th>\n",
       "      <td>0.37</td>\n",
       "      <td>-0.1895</td>\n",
       "      <td>1.6449</td>\n",
       "      <td>0.4248</td>\n",
       "    </tr>\n",
       "    <tr>\n",
       "      <th>26</th>\n",
       "      <td>0.38</td>\n",
       "      <td>0.0088</td>\n",
       "      <td>1.6449</td>\n",
       "      <td>0.4965</td>\n",
       "    </tr>\n",
       "    <tr>\n",
       "      <th>27</th>\n",
       "      <td>0.39</td>\n",
       "      <td>0.0398</td>\n",
       "      <td>1.6449</td>\n",
       "      <td>0.4841</td>\n",
       "    </tr>\n",
       "    <tr>\n",
       "      <th>28</th>\n",
       "      <td>0.40</td>\n",
       "      <td>-0.2804</td>\n",
       "      <td>1.6449</td>\n",
       "      <td>0.3896</td>\n",
       "    </tr>\n",
       "    <tr>\n",
       "      <th>29</th>\n",
       "      <td>0.41</td>\n",
       "      <td>-0.0335</td>\n",
       "      <td>1.6449</td>\n",
       "      <td>0.4866</td>\n",
       "    </tr>\n",
       "    <tr>\n",
       "      <th>30</th>\n",
       "      <td>0.42</td>\n",
       "      <td>0.0788</td>\n",
       "      <td>1.6449</td>\n",
       "      <td>0.4686</td>\n",
       "    </tr>\n",
       "    <tr>\n",
       "      <th>31</th>\n",
       "      <td>0.43</td>\n",
       "      <td>-0.5190</td>\n",
       "      <td>1.6449</td>\n",
       "      <td>0.3019</td>\n",
       "    </tr>\n",
       "    <tr>\n",
       "      <th>32</th>\n",
       "      <td>0.44</td>\n",
       "      <td>-0.3427</td>\n",
       "      <td>1.6449</td>\n",
       "      <td>0.3659</td>\n",
       "    </tr>\n",
       "    <tr>\n",
       "      <th>33</th>\n",
       "      <td>0.45</td>\n",
       "      <td>-0.5609</td>\n",
       "      <td>1.6449</td>\n",
       "      <td>0.2874</td>\n",
       "    </tr>\n",
       "    <tr>\n",
       "      <th>34</th>\n",
       "      <td>0.46</td>\n",
       "      <td>-0.6426</td>\n",
       "      <td>1.6449</td>\n",
       "      <td>0.2602</td>\n",
       "    </tr>\n",
       "    <tr>\n",
       "      <th>35</th>\n",
       "      <td>0.47</td>\n",
       "      <td>-0.8392</td>\n",
       "      <td>1.6449</td>\n",
       "      <td>0.2007</td>\n",
       "    </tr>\n",
       "    <tr>\n",
       "      <th>36</th>\n",
       "      <td>0.48</td>\n",
       "      <td>-0.9368</td>\n",
       "      <td>1.6449</td>\n",
       "      <td>0.1744</td>\n",
       "    </tr>\n",
       "    <tr>\n",
       "      <th>37</th>\n",
       "      <td>0.49</td>\n",
       "      <td>-1.0984</td>\n",
       "      <td>1.6449</td>\n",
       "      <td>0.1360</td>\n",
       "    </tr>\n",
       "    <tr>\n",
       "      <th>38</th>\n",
       "      <td>0.50</td>\n",
       "      <td>-1.5959</td>\n",
       "      <td>1.6449</td>\n",
       "      <td>0.0553</td>\n",
       "    </tr>\n",
       "  </tbody>\n",
       "</table>\n",
       "</div>"
      ],
      "text/plain": [
       "    cutoff       U  wartość krytyczna  p_value\n",
       "0     0.01 -0.1303             1.6449   0.4482\n",
       "1     0.06  1.2859             1.6449   0.0992\n",
       "2     0.07  0.3911             1.6449   0.3479\n",
       "3     0.08 -0.1501             1.6449   0.4404\n",
       "4     0.09 -0.5970             1.6449   0.2752\n",
       "5     0.10  0.4698             1.6449   0.3192\n",
       "6     0.11  0.6641             1.6449   0.2533\n",
       "7     0.12  0.4529             1.6449   0.3253\n",
       "8     0.16  1.0468             1.6449   0.1476\n",
       "9     0.17 -0.0196             1.6449   0.4922\n",
       "10    0.18  0.4998             1.6449   0.3086\n",
       "11    0.19  1.3758             1.6449   0.0844\n",
       "12    0.20  1.5945             1.6449   0.0554\n",
       "13    0.21  0.9782             1.6449   0.1640\n",
       "14    0.22  0.9225             1.6449   0.1781\n",
       "15    0.23  0.6066             1.6449   0.2721\n",
       "16    0.24  0.4947             1.6449   0.3104\n",
       "17    0.25  1.3794             1.6449   0.0839\n",
       "18    0.27  1.4229             1.6449   0.0774\n",
       "19    0.28  1.4670             1.6449   0.0712\n",
       "20    0.32  1.4535             1.6449   0.0730\n",
       "21    0.33  1.1468             1.6449   0.1257\n",
       "22    0.34  0.5750             1.6449   0.2826\n",
       "23    0.35  0.3690             1.6449   0.3561\n",
       "24    0.36  0.2570             1.6449   0.3986\n",
       "25    0.37 -0.1895             1.6449   0.4248\n",
       "26    0.38  0.0088             1.6449   0.4965\n",
       "27    0.39  0.0398             1.6449   0.4841\n",
       "28    0.40 -0.2804             1.6449   0.3896\n",
       "29    0.41 -0.0335             1.6449   0.4866\n",
       "30    0.42  0.0788             1.6449   0.4686\n",
       "31    0.43 -0.5190             1.6449   0.3019\n",
       "32    0.44 -0.3427             1.6449   0.3659\n",
       "33    0.45 -0.5609             1.6449   0.2874\n",
       "34    0.46 -0.6426             1.6449   0.2602\n",
       "35    0.47 -0.8392             1.6449   0.2007\n",
       "36    0.48 -0.9368             1.6449   0.1744\n",
       "37    0.49 -1.0984             1.6449   0.1360\n",
       "38    0.50 -1.5959             1.6449   0.0553"
      ]
     },
     "metadata": {},
     "output_type": "display_data"
    }
   ],
   "source": [
    "# listy, w których zostaną zapisane wyniki\n",
    "stats = []\n",
    "critics = []\n",
    "pvals = []\n",
    "showAll = False\n",
    "\n",
    "for k in list(bootstrapresults.keys()):\n",
    "    # test\n",
    "    # kolumna 0 to średni EMC dla probitu13, kolumna 1 to średni EMC dla probitu15\n",
    "    s, crt, p = popMeanTest(a = np.array(bootstrapresults[k].iloc[:, 0]), \n",
    "                           b = np.array(bootstrapresults[k].iloc[:, 1]),\n",
    "                            alfa = 0.05, alternative = 'one-sided')\n",
    "    \n",
    "    # zapisanie wyników dla pojedynczego cutoffu\n",
    "    stats.append(round(s,4))\n",
    "    critics.append(round(crt,4))\n",
    "    pvals.append(round(p,4))\n",
    "\n",
    "# agregacja wyników\n",
    "srednie = pd.DataFrame(data = {'cutoff':list(bootstrapresults.keys()), 'U':stats, 'wartość krytyczna':critics, 'p_value':np.round(pvals, 4)})\n",
    "\n",
    "if not showAll:\n",
    "    # usunięcie z obiektu zmiennych z p > 0.05 (przyjętą H0 o równości średnich)\n",
    "    srednie = srednie.where(srednie['p_value'] > 0.05).dropna()\n",
    "    #srednie = srednie.where(srednie['U'] > 0).dropna()\n",
    "    \n",
    "    # porządkowanie indeksów\n",
    "    srednie.reset_index(inplace = True, drop = True)\n",
    "\n",
    "display(srednie)"
   ]
  },
  {
   "cell_type": "markdown",
   "metadata": {},
   "source": [
    "Wnioski: dla punktów odcięcia 0.02, 0.03, 0.4, 0.5, 0.13, 0.14, 0.15, 0.26, 0.29, 0.3 oraz 0.31 średnia EMC dla probitu15 jest istotnie niższa statystycznie na poziomie alfa = 5%, zatem w przypadkach osób, dla których optymalny punkt odcięcia znajduje się na liście wyżej wymienionej, modelem lepszym będzie model probit15 (zawierający zmienną Altmana) <br/>\n",
    "W świetle wyników nie można przesądzić o wyższości któregoś z modeli, a wybór między nimi powinien być dokonywany na podstawie kosztów błędów I i II rodzaju badacza."
   ]
  },
  {
   "cell_type": "code",
   "execution_count": 127,
   "metadata": {},
   "outputs": [],
   "source": [
    "# zapis wyników do pliku -> łatwiej się tworzy tabelę latexową z csv\n",
    "# srednie.to_csv(r'srednie.csv')"
   ]
  }
 ],
 "metadata": {
  "kernelspec": {
   "display_name": "Python 3",
   "language": "python",
   "name": "python3"
  },
  "language_info": {
   "codemirror_mode": {
    "name": "ipython",
    "version": 3
   },
   "file_extension": ".py",
   "mimetype": "text/x-python",
   "name": "python",
   "nbconvert_exporter": "python",
   "pygments_lexer": "ipython3",
   "version": "3.7.6"
  }
 },
 "nbformat": 4,
 "nbformat_minor": 4
}
